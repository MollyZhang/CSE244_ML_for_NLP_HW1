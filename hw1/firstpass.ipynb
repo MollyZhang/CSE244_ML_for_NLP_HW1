{
 "cells": [
  {
   "cell_type": "code",
   "execution_count": 309,
   "metadata": {
    "collapsed": true
   },
   "outputs": [],
   "source": [
    "import pandas as pd\n",
    "import numpy as np\n",
    "import datetime\n",
    "import torch\n",
    "from torchtext.data import TabularDataset, Field, RawField, BucketIterator, Iterator"
   ]
  },
  {
   "cell_type": "markdown",
   "metadata": {},
   "source": [
    "### read data and put in batch"
   ]
  },
  {
   "cell_type": "code",
   "execution_count": 646,
   "metadata": {
    "collapsed": true
   },
   "outputs": [],
   "source": [
    "BATCH_SIZE = 64"
   ]
  },
  {
   "cell_type": "code",
   "execution_count": 647,
   "metadata": {
    "collapsed": true
   },
   "outputs": [],
   "source": [
    "tokenize = lambda x: x.split()\n",
    "TEXT = Field(sequential=True, tokenize=tokenize, lower=True, include_lengths=False)\n",
    "# optional for field: pad_first=True to pad in the beginning\n",
    "\n",
    "LABEL = RawField(preprocessing=lambda x: np.array([int(i) for i in list(x)]))"
   ]
  },
  {
   "cell_type": "code",
   "execution_count": 648,
   "metadata": {
    "collapsed": true
   },
   "outputs": [],
   "source": [
    "datafields = [(\"ID\", None), # we won't be needing the id, so we pass in None as the field\n",
    "              (\"text\", TEXT),\n",
    "              (\"label\", LABEL)]"
   ]
  },
  {
   "cell_type": "code",
   "execution_count": 649,
   "metadata": {
    "collapsed": true
   },
   "outputs": [],
   "source": [
    "trn, vld = TabularDataset.splits(\n",
    "        path=\"data\", \n",
    "        train='train_real.csv', validation=\"val.csv\",\n",
    "        format='csv',\n",
    "        skip_header=True,\n",
    "        fields=datafields)"
   ]
  },
  {
   "cell_type": "code",
   "execution_count": 650,
   "metadata": {
    "collapsed": true
   },
   "outputs": [],
   "source": [
    "TEXT.build_vocab(trn, vld)"
   ]
  },
  {
   "cell_type": "code",
   "execution_count": 651,
   "metadata": {
    "collapsed": true
   },
   "outputs": [],
   "source": [
    "train_iter, val_iter = BucketIterator.splits(\n",
    "        (trn, vld), # we pass in the datasets we want the iterator to draw data from\n",
    "        batch_sizes=(BATCH_SIZE, BATCH_SIZE),\n",
    "        device=torch.device(\"cuda\"), # specify the GPU number here\n",
    "        sort_key=lambda x: len(x.text), # the BucketIterator needs to be told what function it should use to group the data.\n",
    "        sort_within_batch=False,\n",
    "        repeat=False # we pass repeat=False because we want to wrap this Iterator layer.\n",
    ")"
   ]
  },
  {
   "cell_type": "code",
   "execution_count": 652,
   "metadata": {},
   "outputs": [],
   "source": [
    "# batch wrapper\n",
    "class BatchWrapper:\n",
    "    def __init__(self, data, x_name, y_name, onehot=False):\n",
    "        self.data, self.x_name, self.y_name = data, x_name, y_name\n",
    "        self.onehot = onehot\n",
    "    \n",
    "    def one_hot(self, seq_batch,vocab):\n",
    "        # seq_batch.size() should be [seq,batch] or [batch,]\n",
    "        # return size() would be [seq,batch,depth] or [batch,depth]\n",
    "        out = torch.zeros(seq_batch.size()+torch.Size([vocab]))\n",
    "        dim = len(seq_batch.size())\n",
    "        index = seq_batch.view(seq_batch.size()+torch.Size([1]))\n",
    "        return out.scatter_(dim,index,1)\n",
    "    \n",
    "    def __iter__(self):\n",
    "        for batch in self.data:\n",
    "            x = getattr(batch, self.x_name) # we assume only one input in this wrapper\n",
    "            if self.onehot:\n",
    "                x = one_hot(x.cpu(), len(TEXT.vocab)).cuda()\n",
    "            y = np.stack(getattr(batch, self.y_name))\n",
    "            y = np.stack(y, axis=0)\n",
    "            yield (x, y)\n",
    "    \n",
    "    def __len__(self):\n",
    "        return len(self.data)"
   ]
  },
  {
   "cell_type": "code",
   "execution_count": 653,
   "metadata": {
    "collapsed": true
   },
   "outputs": [],
   "source": [
    "train_data = BatchWrapper(train_iter, \"text\", \"label\")\n",
    "val_data = BatchWrapper(val_iter, \"text\", \"label\")\n",
    "train_onehot = BatchWrapper(train_iter, \"text\", \"label\", onehot=True)\n",
    "val_onehot = BatchWrapper(val_iter, \"text\", \"label\", onehot=True)"
   ]
  },
  {
   "cell_type": "markdown",
   "metadata": {},
   "source": [
    "### simple linear baseline "
   ]
  },
  {
   "cell_type": "code",
   "execution_count": 388,
   "metadata": {
    "collapsed": true
   },
   "outputs": [],
   "source": [
    "import torch.nn as nn\n",
    "import torch.nn.functional as F\n",
    "import torch.optim as optim\n",
    "from torch.autograd import Variable"
   ]
  },
  {
   "cell_type": "code",
   "execution_count": 390,
   "metadata": {
    "collapsed": true
   },
   "outputs": [],
   "source": [
    "class MultiLayerMLP(nn.Module):\n",
    "    def __init__(self, emb_dim=100, hidden_dim=200, output_dim=46):\n",
    "        super().__init__() # don't forget to call this!\n",
    "        self.embedding = nn.Embedding(len(TEXT.vocab), emb_dim)\n",
    "        self.fc1 = nn.Linear(emb_dim, hidden_dim)\n",
    "        self.fc2 = nn.Linear(hidden_dim, output_dim)\n",
    "        self.bn = nn.BatchNorm1d(hidden_dim)\n",
    "        \n",
    "    def forward(self, seq):\n",
    "        emb = self.embedding(seq).sum(dim=0) # sum of word embedding\n",
    "        # hidden = F.relu(self.bn(self.fc1(emb))) batch norm is no good\n",
    "        hidden = F.relu(self.fc1(emb))\n",
    "        preds = self.fc2(hidden)\n",
    "        return preds"
   ]
  },
  {
   "cell_type": "code",
   "execution_count": 389,
   "metadata": {
    "collapsed": true
   },
   "outputs": [],
   "source": [
    "class Baseline(nn.Module):\n",
    "    def __init__(self, emb_dim=100, hidden_dim=200, output_dim=46):\n",
    "        super().__init__() # don't forget to call this!\n",
    "        self.embedding = nn.Embedding(len(TEXT.vocab), emb_dim)\n",
    "        self.linear = nn.Linear(emb_dim, output_dim)\n",
    "    \n",
    "    def forward(self, seq):\n",
    "        emb = self.embedding(seq).sum(dim=0) # sum of word embedding\n",
    "        preds = self.linear(emb)\n",
    "        return preds"
   ]
  },
  {
   "cell_type": "code",
   "execution_count": 403,
   "metadata": {
    "collapsed": true
   },
   "outputs": [],
   "source": [
    "class OneHotMLP2LSTM(nn.Module):\n",
    "    \"\"\" v1 is to flatten the one hot vector first \"\"\"\n",
    "    def __init__(self, vocab=len(TEXT.vocab), emb_dim=100, lstm_unit=100, output_dim=46):\n",
    "        super().__init__()\n",
    "        self.fc1 = nn.Linear(vocab, emb_dim)\n",
    "        self.lstm = nn.LSTM(emb_dim, lstm_unit)\n",
    "        self.fc2 = nn.Linear(lstm_unit, output_dim)\n",
    "        \n",
    "    def forward(self, seq):\n",
    "        emb = F.relu(self.fc1(seq.view(seq.shape[1], seq.shape[0], -1)))\n",
    "        hidden, _ = self.lstm(emb.view(emb.shape[1], emb.shape[0], -1))\n",
    "        preds = self.fc2(hidden[-1, :, :])\n",
    "        return preds"
   ]
  },
  {
   "cell_type": "code",
   "execution_count": 404,
   "metadata": {
    "collapsed": true
   },
   "outputs": [],
   "source": [
    "class LSTM(nn.Module):\n",
    "    def __init__(self, emb_dim=100, lstm_unit=100, output_dim=46):\n",
    "        super().__init__() \n",
    "        self.embedding = nn.Embedding(len(TEXT.vocab), emb_dim)\n",
    "        self.lstm = nn.LSTM(emb_dim, lstm_unit)\n",
    "        self.linear = nn.Linear(lstm_unit, output_dim)\n",
    "    \n",
    "    def forward(self, seq):\n",
    "        emb = self.embedding(seq)\n",
    "        hidden, _ = self.lstm(emb)        \n",
    "        preds = self.linear(hidden[-1, :, :])\n",
    "        return preds"
   ]
  },
  {
   "cell_type": "code",
   "execution_count": 405,
   "metadata": {
    "collapsed": true
   },
   "outputs": [],
   "source": [
    "class LSTM_ONEHOT(nn.Module):\n",
    "    def __init__(self, onehot_dim=len(TEXT.vocab), lstm_unit=100, output_dim=46):\n",
    "        super().__init__() \n",
    "        self.lstm = nn.LSTM(onehot_dim, lstm_unit)\n",
    "        self.linear = nn.Linear(lstm_unit, output_dim)\n",
    "    \n",
    "    def forward(self, seq):\n",
    "        hidden, _ = self.lstm(seq)        \n",
    "        preds = self.linear(hidden[-1, :, :])\n",
    "        return preds"
   ]
  },
  {
   "cell_type": "code",
   "execution_count": 406,
   "metadata": {
    "collapsed": true
   },
   "outputs": [],
   "source": [
    "class BI_LSTM(nn.Module):\n",
    "    def __init__(self, emb_dim=100, lstm_unit=100, output_dim=46):\n",
    "        super().__init__() \n",
    "        self.embedding = nn.Embedding(len(TEXT.vocab), emb_dim)\n",
    "        self.lstm = nn.LSTM(emb_dim, lstm_unit, bidirectional=True)\n",
    "        self.fc = nn.Linear(lstm_unit*2, output_dim)\n",
    "    \n",
    "    def forward(self, seq):\n",
    "        emb = self.embedding(seq)\n",
    "        lstm_out, _ = self.lstm(emb)\n",
    "        preds = self.fc(lstm_out[-1, :, :])\n",
    "        return preds"
   ]
  },
  {
   "cell_type": "markdown",
   "metadata": {},
   "source": [
    "### Training "
   ]
  },
  {
   "cell_type": "code",
   "execution_count": 407,
   "metadata": {
    "collapsed": true
   },
   "outputs": [],
   "source": [
    "import tqdm"
   ]
  },
  {
   "cell_type": "code",
   "execution_count": 447,
   "metadata": {},
   "outputs": [],
   "source": [
    "patience = 10\n",
    "max_epoch = 100\n",
    "learning_rate = 1e-2\n",
    "VOCAB = len(TEXT.vocab)\n",
    "NUM_CLASS = 46\n",
    "embedding_dim = 10\n",
    "\n",
    "model = OneHotMLP2LSTM()\n",
    "model.to(torch.device(\"cuda\"))\n",
    "loss_func = nn.BCEWithLogitsLoss()\n",
    "\n",
    "opt = optim.Adam(model.parameters(), lr=learning_rate)\n",
    "scheduler = optim.lr_scheduler.ReduceLROnPlateau(\n",
    "    optimizer=opt, factor=0.1, patience=5)"
   ]
  },
  {
   "cell_type": "code",
   "execution_count": 448,
   "metadata": {},
   "outputs": [
    {
     "data": {
      "text/plain": [
       "OneHotMLP2LSTM(\n",
       "  (fc1): Linear(in_features=1687, out_features=100, bias=True)\n",
       "  (lstm): LSTM(100, 100)\n",
       "  (fc2): Linear(in_features=100, out_features=46, bias=True)\n",
       ")"
      ]
     },
     "execution_count": 448,
     "metadata": {},
     "output_type": "execute_result"
    }
   ],
   "source": [
    "model"
   ]
  },
  {
   "cell_type": "code",
   "execution_count": 450,
   "metadata": {
    "scrolled": true
   },
   "outputs": [
    {
     "name": "stdout",
     "output_type": "stream",
     "text": [
      "Epoch: 0, LR: 0.01, Train Loss: 0.0235, Val Loss: 0.0121\n",
      "Epoch: 1, LR: 0.01, Train Loss: 0.0192, Val Loss: 0.0109\n",
      "Epoch: 2, LR: 0.01, Train Loss: 0.0172, Val Loss: 0.0090\n",
      "Epoch: 3, LR: 0.01, Train Loss: 0.0150, Val Loss: 0.0081\n",
      "Epoch: 4, LR: 0.01, Train Loss: 0.0130, Val Loss: 0.0085\n",
      "Epoch: 5, LR: 0.001, Train Loss: 0.0115, Val Loss: 0.0072\n",
      "Epoch: 6, LR: 0.001, Train Loss: 0.0108, Val Loss: 0.0071\n",
      "Epoch: 7, LR: 0.001, Train Loss: 0.0101, Val Loss: 0.0072\n",
      "Epoch: 8, LR: 0.001, Train Loss: 0.0099, Val Loss: 0.0071\n",
      "Epoch: 9, LR: 0.001, Train Loss: 0.0098, Val Loss: 0.0070\n",
      "Epoch: 10, LR: 0.001, Train Loss: 0.0097, Val Loss: 0.0070\n",
      "Epoch: 11, LR: 0.0001, Train Loss: 0.0096, Val Loss: 0.0069\n",
      "Epoch: 12, LR: 0.0001, Train Loss: 0.0093, Val Loss: 0.0070\n",
      "Epoch: 13, LR: 0.0001, Train Loss: 0.0093, Val Loss: 0.0070\n",
      "Epoch: 14, LR: 0.0001, Train Loss: 0.0093, Val Loss: 0.0070\n",
      "Epoch: 15, LR: 0.0001, Train Loss: 0.0090, Val Loss: 0.0070\n",
      "Epoch: 16, LR: 0.0001, Train Loss: 0.0094, Val Loss: 0.0070\n",
      "Epoch: 17, LR: 1e-05, Train Loss: 0.0093, Val Loss: 0.0070\n",
      "Epoch: 18, LR: 1e-05, Train Loss: 0.0092, Val Loss: 0.0070\n",
      "Epoch: 19, LR: 1e-05, Train Loss: 0.0091, Val Loss: 0.0070\n",
      "Epoch: 20, LR: 1e-05, Train Loss: 0.0093, Val Loss: 0.0070\n",
      "Epoch: 21, LR: 1e-05, Train Loss: 0.0091, Val Loss: 0.0070\n",
      "Epoch: 22, LR: 1e-05, Train Loss: 0.0091, Val Loss: 0.0070\n"
     ]
    }
   ],
   "source": [
    "no_improvement = 0\n",
    "best_val_loss = 1e10\n",
    "best_model = model\n",
    "for epoch in range(max_epoch):\n",
    "    if no_improvement > patience:\n",
    "        break\n",
    "    running_loss = 0.0\n",
    "    running_corrects = 0\n",
    "    model.train() # turn on training mode\n",
    "    for x, y in train_onehot: \n",
    "        opt.zero_grad()\n",
    "        preds = model(x)        \n",
    "        loss = loss_func(preds, torch.tensor(y).type_as(preds))\n",
    "        loss.backward()\n",
    "        opt.step()\n",
    "        running_loss += loss.item() * x.size(0)\n",
    "        \n",
    "    epoch_loss = running_loss / len(trn)\n",
    "    # calculate the validation loss for this epoch\n",
    "    val_loss = 0.0\n",
    "    model.eval() # turn on evaluation mode\n",
    "    for x, y in val_onehot:\n",
    "        preds = model(x)\n",
    "        loss = loss_func(preds, torch.tensor(y).type_as(preds))\n",
    "        val_loss += loss.item() * x.size(0)\n",
    "    val_loss /= len(vld)\n",
    "    if val_loss < best_val_loss:\n",
    "        no_improvement = 0\n",
    "        best_val_loss = val_loss\n",
    "        best_model = model\n",
    "    else:\n",
    "        no_improvement += 1\n",
    "    \n",
    "    scheduler.step(val_loss)\n",
    "    \n",
    "    print('Epoch: {}, LR: {}, Train Loss: {:.4f}, Val Loss: {:.4f}'.format(\n",
    "        epoch, opt.param_groups[0]['lr'], epoch_loss, val_loss))"
   ]
  },
  {
   "cell_type": "code",
   "execution_count": 494,
   "metadata": {
    "collapsed": true
   },
   "outputs": [],
   "source": [
    "def evaluate(data, m):\n",
    "    \"average f1 score of individual entry\"\n",
    "    total_f1 = 0\n",
    "    num_samples = 0\n",
    "    for x, y in data:\n",
    "        pred = m(x)\n",
    "        total_f1 += f1(pred, y)\n",
    "        num_samples += x.size()[1]\n",
    "    print(total_f1/num_samples)\n",
    "\n",
    "    \n",
    "def f1(y_pred, y_true):\n",
    "    total_f1 = 0\n",
    "    y_pred = (torch.sigmoid(y_pred) > 0.5).int().cpu()    \n",
    "    for sample_idx in range(y_pred.size()[0]):\n",
    "        true_idx = np.arange(len(y_true[sample_idx]))[y_true[sample_idx] == 1]\n",
    "        pred_idx = np.arange(len(y_pred[sample_idx]))[y_pred[sample_idx] == 1]\n",
    "        # make sure at least to predict one\n",
    "        assert (y_true[sample_idx].sum() > 0)\n",
    "        if len(pred_idx) == 0:\n",
    "            pred_idx = [np.argmax(y_pred[sample_idx]).item()]\n",
    "\n",
    "        tp = len(np.intersect1d(true_idx, pred_idx))        \n",
    "        precision = tp/len(pred_idx)\n",
    "        recall = tp/len(true_idx)\n",
    "        if (precision + recall) == 0:\n",
    "            f1_score = 0\n",
    "        else:\n",
    "            f1_score = 2 * precision * recall/(precision + recall)\n",
    "        \n",
    "#         print(true_idx)\n",
    "#         print(pred_idx)\n",
    "#         print(f1_score)\n",
    "        \n",
    "        total_f1 += f1_score\n",
    "        break\n",
    "    return total_f1"
   ]
  },
  {
   "cell_type": "code",
   "execution_count": 495,
   "metadata": {
    "scrolled": true
   },
   "outputs": [
    {
     "name": "stdout",
     "output_type": "stream",
     "text": [
      "0.011226252158894647\n"
     ]
    }
   ],
   "source": [
    "evaluate(train_onehot, best_model)"
   ]
  },
  {
   "cell_type": "code",
   "execution_count": 679,
   "metadata": {
    "scrolled": true
   },
   "outputs": [
    {
     "name": "stdout",
     "output_type": "stream",
     "text": [
      "0.012012012012012012\n"
     ]
    }
   ],
   "source": [
    "evaluate(val_onehot, best_model)"
   ]
  },
  {
   "cell_type": "markdown",
   "metadata": {},
   "source": [
    "### Error analysis"
   ]
  },
  {
   "cell_type": "code",
   "execution_count": 548,
   "metadata": {},
   "outputs": [],
   "source": [
    "VOCAB = np.array(TEXT.vocab.itos)"
   ]
  },
  {
   "cell_type": "code",
   "execution_count": 615,
   "metadata": {},
   "outputs": [
    {
     "data": {
      "text/plain": [
       "array([False,  True])"
      ]
     },
     "execution_count": 615,
     "metadata": {},
     "output_type": "execute_result"
    }
   ],
   "source": [
    "np.array([0,1]).astype(bool)"
   ]
  },
  {
   "cell_type": "code",
   "execution_count": 694,
   "metadata": {},
   "outputs": [],
   "source": [
    "def x2text(seq):\n",
    "    idx = np.argmax(seq.cpu(), axis=2)\n",
    "    text = []\n",
    "    for i in range(seq.shape[1]):\n",
    "        text.append(VOCAB[idx[:, i]])\n",
    "    return text\n",
    "    \n",
    "\n",
    "def y2text(manyhot_label):\n",
    "    labels = np.array(np.load(\"./data/labels.npy\"))\n",
    "    all_labels = []    \n",
    "    for i in range(manyhot_label.shape[0]):\n",
    "        if manyhot_label[i].sum() == 0:\n",
    "            all_labels.append([labels[np.argmax(manyhot_label[i])]])\n",
    "        else:\n",
    "            all_labels.append(labels[manyhot_label[i].astype(bool)])\n",
    "    return(all_labels)\n",
    "\n",
    "\n",
    "def error_analysis(data, m):\n",
    "    for x, y in data:\n",
    "        pred = m(x)\n",
    "        batch_size = x.shape[1]\n",
    "        y_pred = (torch.sigmoid(pred) > 0.5).int().cpu().numpy()\n",
    "        \n",
    "        correct = np.all(y_pred==y, axis=1)\n",
    "        print(\"total correct: {} out of {}\".format(correct.sum(), batch_size))\n",
    "        \n",
    "        incorrect_idx = np.arange(batch_size)[1-correct]\n",
    "\n",
    "        x_text = x2text(x)\n",
    "        y_label_true = y2text(y)\n",
    "        y_label_pred = y2text(y_pred)\n",
    "        \n",
    "        for i in incorrect_idx:\n",
    "#             break\n",
    "            print(x_text[i])\n",
    "            print(\"--------------\")\n",
    "            print(\"true\", y_label_true[i])\n",
    "            print(\"pred\", y_label_pred[i])\n",
    "            print(\"correct?\", correct[i])\n",
    "            print()\n",
    "        break"
   ]
  },
  {
   "cell_type": "code",
   "execution_count": 695,
   "metadata": {
    "scrolled": false
   },
   "outputs": [
    {
     "name": "stdout",
     "output_type": "stream",
     "text": [
      "total correct: 34 out of 64\n",
      "['who' 'played' 'opposite' 'sidney' 'poitier' 'in' 'shoot' 'to' 'kill'\n",
      " '<pad>' '<pad>' '<pad>' '<pad>' '<pad>' '<pad>' '<pad>' '<pad>' '<pad>']\n",
      "--------------\n",
      "true ['movie.starring.actor' 'movie.starring.character']\n",
      "pred ['movie.starring.actor']\n",
      "correct? False\n",
      "\n",
      "['who' 'played' 'opposite' 'sidney' 'poitier' 'in' 'shoot' 'to' 'kill'\n",
      " '<pad>' '<pad>' '<pad>' '<pad>' '<pad>' '<pad>' '<pad>' '<pad>' '<pad>']\n",
      "--------------\n",
      "true ['movie.starring.actor' 'movie.starring.character']\n",
      "pred ['movie.starring.actor']\n",
      "correct? False\n",
      "\n",
      "['show' 'me' 'the' 'comedy' 'pitch' 'perfect' '<pad>' '<pad>' '<pad>'\n",
      " '<pad>' '<pad>' '<pad>' '<pad>' '<pad>' '<pad>' '<pad>' '<pad>' '<pad>']\n",
      "--------------\n",
      "true ['movie.genre']\n",
      "pred ['NO_REL']\n",
      "correct? False\n",
      "\n",
      "['show' 'me' 'the' 'comedy' 'pitch' 'perfect' '<pad>' '<pad>' '<pad>'\n",
      " '<pad>' '<pad>' '<pad>' '<pad>' '<pad>' '<pad>' '<pad>' '<pad>' '<pad>']\n",
      "--------------\n",
      "true ['movie.genre']\n",
      "pred ['NO_REL']\n",
      "correct? False\n",
      "\n",
      "['who' 'played' 'opposite' 'sidney' 'poitier' 'in' 'shoot' 'to' 'kill'\n",
      " '<pad>' '<pad>' '<pad>' '<pad>' '<pad>' '<pad>' '<pad>' '<pad>' '<pad>']\n",
      "--------------\n",
      "true ['movie.starring.actor' 'movie.starring.character']\n",
      "pred ['movie.starring.actor']\n",
      "correct? False\n",
      "\n",
      "['who' 'played' 'opposite' 'sidney' 'poitier' 'in' 'shoot' 'to' 'kill'\n",
      " '<pad>' '<pad>' '<pad>' '<pad>' '<pad>' '<pad>' '<pad>' '<pad>' '<pad>']\n",
      "--------------\n",
      "true ['movie.starring.actor' 'movie.starring.character']\n",
      "pred ['movie.starring.actor']\n",
      "correct? False\n",
      "\n",
      "['show' 'me' 'the' 'comedy' 'pitch' 'perfect' '<pad>' '<pad>' '<pad>'\n",
      " '<pad>' '<pad>' '<pad>' '<pad>' '<pad>' '<pad>' '<pad>' '<pad>' '<pad>']\n",
      "--------------\n",
      "true ['movie.genre']\n",
      "pred ['NO_REL']\n",
      "correct? False\n",
      "\n",
      "['who' 'played' 'opposite' 'sidney' 'poitier' 'in' 'shoot' 'to' 'kill'\n",
      " '<pad>' '<pad>' '<pad>' '<pad>' '<pad>' '<pad>' '<pad>' '<pad>' '<pad>']\n",
      "--------------\n",
      "true ['movie.starring.actor' 'movie.starring.character']\n",
      "pred ['movie.starring.actor']\n",
      "correct? False\n",
      "\n",
      "['who' 'played' 'opposite' 'sidney' 'poitier' 'in' 'shoot' 'to' 'kill'\n",
      " '<pad>' '<pad>' '<pad>' '<pad>' '<pad>' '<pad>' '<pad>' '<pad>' '<pad>']\n",
      "--------------\n",
      "true ['movie.starring.actor' 'movie.starring.character']\n",
      "pred ['movie.starring.actor']\n",
      "correct? False\n",
      "\n",
      "['show' 'me' 'the' 'comedy' 'pitch' 'perfect' '<pad>' '<pad>' '<pad>'\n",
      " '<pad>' '<pad>' '<pad>' '<pad>' '<pad>' '<pad>' '<pad>' '<pad>' '<pad>']\n",
      "--------------\n",
      "true ['movie.genre']\n",
      "pred ['NO_REL']\n",
      "correct? False\n",
      "\n",
      "['who' 'played' 'opposite' 'sidney' 'poitier' 'in' 'shoot' 'to' 'kill'\n",
      " '<pad>' '<pad>' '<pad>' '<pad>' '<pad>' '<pad>' '<pad>' '<pad>' '<pad>']\n",
      "--------------\n",
      "true ['movie.starring.actor' 'movie.starring.character']\n",
      "pred ['movie.starring.actor']\n",
      "correct? False\n",
      "\n",
      "['who' 'played' 'opposite' 'sidney' 'poitier' 'in' 'shoot' 'to' 'kill'\n",
      " '<pad>' '<pad>' '<pad>' '<pad>' '<pad>' '<pad>' '<pad>' '<pad>' '<pad>']\n",
      "--------------\n",
      "true ['movie.starring.actor' 'movie.starring.character']\n",
      "pred ['movie.starring.actor']\n",
      "correct? False\n",
      "\n",
      "['show' 'me' 'the' 'comedy' 'pitch' 'perfect' '<pad>' '<pad>' '<pad>'\n",
      " '<pad>' '<pad>' '<pad>' '<pad>' '<pad>' '<pad>' '<pad>' '<pad>' '<pad>']\n",
      "--------------\n",
      "true ['movie.genre']\n",
      "pred ['NO_REL']\n",
      "correct? False\n",
      "\n",
      "['who' 'played' 'opposite' 'sidney' 'poitier' 'in' 'shoot' 'to' 'kill'\n",
      " '<pad>' '<pad>' '<pad>' '<pad>' '<pad>' '<pad>' '<pad>' '<pad>' '<pad>']\n",
      "--------------\n",
      "true ['movie.starring.actor' 'movie.starring.character']\n",
      "pred ['movie.starring.actor']\n",
      "correct? False\n",
      "\n",
      "['who' 'played' 'opposite' 'sidney' 'poitier' 'in' 'shoot' 'to' 'kill'\n",
      " '<pad>' '<pad>' '<pad>' '<pad>' '<pad>' '<pad>' '<pad>' '<pad>' '<pad>']\n",
      "--------------\n",
      "true ['movie.starring.actor' 'movie.starring.character']\n",
      "pred ['movie.starring.actor']\n",
      "correct? False\n",
      "\n",
      "['who' 'played' 'opposite' 'sidney' 'poitier' 'in' 'shoot' 'to' 'kill'\n",
      " '<pad>' '<pad>' '<pad>' '<pad>' '<pad>' '<pad>' '<pad>' '<pad>' '<pad>']\n",
      "--------------\n",
      "true ['movie.starring.actor' 'movie.starring.character']\n",
      "pred ['movie.starring.actor']\n",
      "correct? False\n",
      "\n",
      "['show' 'me' 'the' 'comedy' 'pitch' 'perfect' '<pad>' '<pad>' '<pad>'\n",
      " '<pad>' '<pad>' '<pad>' '<pad>' '<pad>' '<pad>' '<pad>' '<pad>' '<pad>']\n",
      "--------------\n",
      "true ['movie.genre']\n",
      "pred ['NO_REL']\n",
      "correct? False\n",
      "\n",
      "['who' 'played' 'opposite' 'sidney' 'poitier' 'in' 'shoot' 'to' 'kill'\n",
      " '<pad>' '<pad>' '<pad>' '<pad>' '<pad>' '<pad>' '<pad>' '<pad>' '<pad>']\n",
      "--------------\n",
      "true ['movie.starring.actor' 'movie.starring.character']\n",
      "pred ['movie.starring.actor']\n",
      "correct? False\n",
      "\n",
      "['who' 'played' 'opposite' 'sidney' 'poitier' 'in' 'shoot' 'to' 'kill'\n",
      " '<pad>' '<pad>' '<pad>' '<pad>' '<pad>' '<pad>' '<pad>' '<pad>' '<pad>']\n",
      "--------------\n",
      "true ['movie.starring.actor' 'movie.starring.character']\n",
      "pred ['movie.starring.actor']\n",
      "correct? False\n",
      "\n",
      "['show' 'me' 'the' 'comedy' 'pitch' 'perfect' '<pad>' '<pad>' '<pad>'\n",
      " '<pad>' '<pad>' '<pad>' '<pad>' '<pad>' '<pad>' '<pad>' '<pad>' '<pad>']\n",
      "--------------\n",
      "true ['movie.genre']\n",
      "pred ['NO_REL']\n",
      "correct? False\n",
      "\n",
      "['show' 'me' 'the' 'comedy' 'pitch' 'perfect' '<pad>' '<pad>' '<pad>'\n",
      " '<pad>' '<pad>' '<pad>' '<pad>' '<pad>' '<pad>' '<pad>' '<pad>' '<pad>']\n",
      "--------------\n",
      "true ['movie.genre']\n",
      "pred ['NO_REL']\n",
      "correct? False\n",
      "\n",
      "['show' 'me' 'the' 'comedy' 'pitch' 'perfect' '<pad>' '<pad>' '<pad>'\n",
      " '<pad>' '<pad>' '<pad>' '<pad>' '<pad>' '<pad>' '<pad>' '<pad>' '<pad>']\n",
      "--------------\n",
      "true ['movie.genre']\n",
      "pred ['NO_REL']\n",
      "correct? False\n",
      "\n",
      "['who' 'played' 'opposite' 'sidney' 'poitier' 'in' 'shoot' 'to' 'kill'\n",
      " '<pad>' '<pad>' '<pad>' '<pad>' '<pad>' '<pad>' '<pad>' '<pad>' '<pad>']\n",
      "--------------\n",
      "true ['movie.starring.actor' 'movie.starring.character']\n",
      "pred ['movie.starring.actor']\n",
      "correct? False\n",
      "\n",
      "['who' 'played' 'opposite' 'sidney' 'poitier' 'in' 'shoot' 'to' 'kill'\n",
      " '<pad>' '<pad>' '<pad>' '<pad>' '<pad>' '<pad>' '<pad>' '<pad>' '<pad>']\n",
      "--------------\n",
      "true ['movie.starring.actor' 'movie.starring.character']\n",
      "pred ['movie.starring.actor']\n",
      "correct? False\n",
      "\n",
      "['show' 'me' 'the' 'comedy' 'pitch' 'perfect' '<pad>' '<pad>' '<pad>'\n",
      " '<pad>' '<pad>' '<pad>' '<pad>' '<pad>' '<pad>' '<pad>' '<pad>' '<pad>']\n",
      "--------------\n",
      "true ['movie.genre']\n",
      "pred ['NO_REL']\n",
      "correct? False\n",
      "\n",
      "['who' 'played' 'opposite' 'sidney' 'poitier' 'in' 'shoot' 'to' 'kill'\n",
      " '<pad>' '<pad>' '<pad>' '<pad>' '<pad>' '<pad>' '<pad>' '<pad>' '<pad>']\n",
      "--------------\n",
      "true ['movie.starring.actor' 'movie.starring.character']\n",
      "pred ['movie.starring.actor']\n",
      "correct? False\n",
      "\n",
      "['who' 'played' 'opposite' 'sidney' 'poitier' 'in' 'shoot' 'to' 'kill'\n",
      " '<pad>' '<pad>' '<pad>' '<pad>' '<pad>' '<pad>' '<pad>' '<pad>' '<pad>']\n",
      "--------------\n",
      "true ['movie.starring.actor' 'movie.starring.character']\n",
      "pred ['movie.starring.actor']\n",
      "correct? False\n",
      "\n",
      "['show' 'me' 'the' 'comedy' 'pitch' 'perfect' '<pad>' '<pad>' '<pad>'\n",
      " '<pad>' '<pad>' '<pad>' '<pad>' '<pad>' '<pad>' '<pad>' '<pad>' '<pad>']\n",
      "--------------\n",
      "true ['movie.genre']\n",
      "pred ['NO_REL']\n",
      "correct? False\n",
      "\n",
      "['show' 'me' 'the' 'comedy' 'pitch' 'perfect' '<pad>' '<pad>' '<pad>'\n",
      " '<pad>' '<pad>' '<pad>' '<pad>' '<pad>' '<pad>' '<pad>' '<pad>' '<pad>']\n",
      "--------------\n",
      "true ['movie.genre']\n",
      "pred ['NO_REL']\n",
      "correct? False\n",
      "\n",
      "['who' 'played' 'opposite' 'sidney' 'poitier' 'in' 'shoot' 'to' 'kill'\n",
      " '<pad>' '<pad>' '<pad>' '<pad>' '<pad>' '<pad>' '<pad>' '<pad>' '<pad>']\n",
      "--------------\n",
      "true ['movie.starring.actor' 'movie.starring.character']\n",
      "pred ['movie.starring.actor']\n",
      "correct? False\n",
      "\n",
      "['who' 'played' 'opposite' 'sidney' 'poitier' 'in' 'shoot' 'to' 'kill'\n",
      " '<pad>' '<pad>' '<pad>' '<pad>' '<pad>' '<pad>' '<pad>' '<pad>' '<pad>']\n",
      "--------------\n",
      "true ['movie.starring.actor' 'movie.starring.character']\n",
      "pred ['movie.starring.actor']\n",
      "correct? False\n",
      "\n",
      "['show' 'me' 'the' 'comedy' 'pitch' 'perfect' '<pad>' '<pad>' '<pad>'\n",
      " '<pad>' '<pad>' '<pad>' '<pad>' '<pad>' '<pad>' '<pad>' '<pad>' '<pad>']\n",
      "--------------\n",
      "true ['movie.genre']\n",
      "pred ['NO_REL']\n",
      "correct? False\n",
      "\n",
      "['show' 'me' 'the' 'comedy' 'pitch' 'perfect' '<pad>' '<pad>' '<pad>'\n",
      " '<pad>' '<pad>' '<pad>' '<pad>' '<pad>' '<pad>' '<pad>' '<pad>' '<pad>']\n",
      "--------------\n",
      "true ['movie.genre']\n",
      "pred ['NO_REL']\n",
      "correct? False\n",
      "\n",
      "['show' 'me' 'the' 'comedy' 'pitch' 'perfect' '<pad>' '<pad>' '<pad>'\n",
      " '<pad>' '<pad>' '<pad>' '<pad>' '<pad>' '<pad>' '<pad>' '<pad>' '<pad>']\n",
      "--------------\n",
      "true ['movie.genre']\n",
      "pred ['NO_REL']\n",
      "correct? False\n",
      "\n",
      "['show' 'me' 'the' 'comedy' 'pitch' 'perfect' '<pad>' '<pad>' '<pad>'\n",
      " '<pad>' '<pad>' '<pad>' '<pad>' '<pad>' '<pad>' '<pad>' '<pad>' '<pad>']\n",
      "--------------\n",
      "true ['movie.genre']\n",
      "pred ['NO_REL']\n",
      "correct? False\n",
      "\n",
      "['who' 'played' 'opposite' 'sidney' 'poitier' 'in' 'shoot' 'to' 'kill'\n",
      " '<pad>' '<pad>' '<pad>' '<pad>' '<pad>' '<pad>' '<pad>' '<pad>' '<pad>']\n",
      "--------------\n",
      "true ['movie.starring.actor' 'movie.starring.character']\n",
      "pred ['movie.starring.actor']\n",
      "correct? False\n",
      "\n",
      "['show' 'me' 'the' 'comedy' 'pitch' 'perfect' '<pad>' '<pad>' '<pad>'\n",
      " '<pad>' '<pad>' '<pad>' '<pad>' '<pad>' '<pad>' '<pad>' '<pad>' '<pad>']\n",
      "--------------\n",
      "true ['movie.genre']\n",
      "pred ['NO_REL']\n",
      "correct? False\n",
      "\n",
      "['show' 'me' 'the' 'comedy' 'pitch' 'perfect' '<pad>' '<pad>' '<pad>'\n",
      " '<pad>' '<pad>' '<pad>' '<pad>' '<pad>' '<pad>' '<pad>' '<pad>' '<pad>']\n",
      "--------------\n",
      "true ['movie.genre']\n",
      "pred ['NO_REL']\n",
      "correct? False\n",
      "\n",
      "['who' 'played' 'opposite' 'sidney' 'poitier' 'in' 'shoot' 'to' 'kill'\n",
      " '<pad>' '<pad>' '<pad>' '<pad>' '<pad>' '<pad>' '<pad>' '<pad>' '<pad>']\n",
      "--------------\n",
      "true ['movie.starring.actor' 'movie.starring.character']\n",
      "pred ['movie.starring.actor']\n",
      "correct? False\n",
      "\n",
      "['who' 'played' 'opposite' 'sidney' 'poitier' 'in' 'shoot' 'to' 'kill'\n",
      " '<pad>' '<pad>' '<pad>' '<pad>' '<pad>' '<pad>' '<pad>' '<pad>' '<pad>']\n",
      "--------------\n",
      "true ['movie.starring.actor' 'movie.starring.character']\n",
      "pred ['movie.starring.actor']\n",
      "correct? False\n",
      "\n",
      "['show' 'me' 'the' 'comedy' 'pitch' 'perfect' '<pad>' '<pad>' '<pad>'\n",
      " '<pad>' '<pad>' '<pad>' '<pad>' '<pad>' '<pad>' '<pad>' '<pad>' '<pad>']\n",
      "--------------\n",
      "true ['movie.genre']\n",
      "pred ['NO_REL']\n",
      "correct? False\n",
      "\n",
      "['show' 'me' 'the' 'comedy' 'pitch' 'perfect' '<pad>' '<pad>' '<pad>'\n",
      " '<pad>' '<pad>' '<pad>' '<pad>' '<pad>' '<pad>' '<pad>' '<pad>' '<pad>']\n",
      "--------------\n",
      "true ['movie.genre']\n",
      "pred ['NO_REL']\n",
      "correct? False\n",
      "\n",
      "['show' 'me' 'the' 'comedy' 'pitch' 'perfect' '<pad>' '<pad>' '<pad>'\n",
      " '<pad>' '<pad>' '<pad>' '<pad>' '<pad>' '<pad>' '<pad>' '<pad>' '<pad>']\n",
      "--------------\n",
      "true ['movie.genre']\n",
      "pred ['NO_REL']\n",
      "correct? False\n",
      "\n",
      "['who' 'played' 'opposite' 'sidney' 'poitier' 'in' 'shoot' 'to' 'kill'\n",
      " '<pad>' '<pad>' '<pad>' '<pad>' '<pad>' '<pad>' '<pad>' '<pad>' '<pad>']\n",
      "--------------\n",
      "true ['movie.starring.actor' 'movie.starring.character']\n",
      "pred ['movie.starring.actor']\n",
      "correct? False\n",
      "\n",
      "['show' 'me' 'the' 'comedy' 'pitch' 'perfect' '<pad>' '<pad>' '<pad>'\n",
      " '<pad>' '<pad>' '<pad>' '<pad>' '<pad>' '<pad>' '<pad>' '<pad>' '<pad>']\n",
      "--------------\n",
      "true ['movie.genre']\n",
      "pred ['NO_REL']\n",
      "correct? False\n",
      "\n",
      "['who' 'played' 'opposite' 'sidney' 'poitier' 'in' 'shoot' 'to' 'kill'\n",
      " '<pad>' '<pad>' '<pad>' '<pad>' '<pad>' '<pad>' '<pad>' '<pad>' '<pad>']\n",
      "--------------\n",
      "true ['movie.starring.actor' 'movie.starring.character']\n",
      "pred ['movie.starring.actor']\n",
      "correct? False\n",
      "\n",
      "['show' 'me' 'the' 'comedy' 'pitch' 'perfect' '<pad>' '<pad>' '<pad>'\n",
      " '<pad>' '<pad>' '<pad>' '<pad>' '<pad>' '<pad>' '<pad>' '<pad>' '<pad>']\n",
      "--------------\n",
      "true ['movie.genre']\n",
      "pred ['NO_REL']\n",
      "correct? False\n",
      "\n",
      "['show' 'me' 'the' 'comedy' 'pitch' 'perfect' '<pad>' '<pad>' '<pad>'\n",
      " '<pad>' '<pad>' '<pad>' '<pad>' '<pad>' '<pad>' '<pad>' '<pad>' '<pad>']\n",
      "--------------\n",
      "true ['movie.genre']\n",
      "pred ['NO_REL']\n",
      "correct? False\n",
      "\n",
      "['who' 'played' 'opposite' 'sidney' 'poitier' 'in' 'shoot' 'to' 'kill'\n",
      " '<pad>' '<pad>' '<pad>' '<pad>' '<pad>' '<pad>' '<pad>' '<pad>' '<pad>']\n",
      "--------------\n",
      "true ['movie.starring.actor' 'movie.starring.character']\n",
      "pred ['movie.starring.actor']\n",
      "correct? False\n",
      "\n",
      "['show' 'me' 'the' 'comedy' 'pitch' 'perfect' '<pad>' '<pad>' '<pad>'\n",
      " '<pad>' '<pad>' '<pad>' '<pad>' '<pad>' '<pad>' '<pad>' '<pad>' '<pad>']\n",
      "--------------\n",
      "true ['movie.genre']\n",
      "pred ['NO_REL']\n",
      "correct? False\n",
      "\n",
      "['who' 'played' 'opposite' 'sidney' 'poitier' 'in' 'shoot' 'to' 'kill'\n",
      " '<pad>' '<pad>' '<pad>' '<pad>' '<pad>' '<pad>' '<pad>' '<pad>' '<pad>']\n",
      "--------------\n",
      "true ['movie.starring.actor' 'movie.starring.character']\n",
      "pred ['movie.starring.actor']\n",
      "correct? False\n",
      "\n",
      "['show' 'me' 'the' 'comedy' 'pitch' 'perfect' '<pad>' '<pad>' '<pad>'\n",
      " '<pad>' '<pad>' '<pad>' '<pad>' '<pad>' '<pad>' '<pad>' '<pad>' '<pad>']\n",
      "--------------\n",
      "true ['movie.genre']\n",
      "pred ['NO_REL']\n",
      "correct? False\n",
      "\n",
      "['who' 'played' 'opposite' 'sidney' 'poitier' 'in' 'shoot' 'to' 'kill'\n",
      " '<pad>' '<pad>' '<pad>' '<pad>' '<pad>' '<pad>' '<pad>' '<pad>' '<pad>']\n",
      "--------------\n",
      "true ['movie.starring.actor' 'movie.starring.character']\n",
      "pred ['movie.starring.actor']\n",
      "correct? False\n",
      "\n",
      "['who' 'played' 'opposite' 'sidney' 'poitier' 'in' 'shoot' 'to' 'kill'\n",
      " '<pad>' '<pad>' '<pad>' '<pad>' '<pad>' '<pad>' '<pad>' '<pad>' '<pad>']\n",
      "--------------\n",
      "true ['movie.starring.actor' 'movie.starring.character']\n",
      "pred ['movie.starring.actor']\n",
      "correct? False\n",
      "\n",
      "['show' 'me' 'the' 'comedy' 'pitch' 'perfect' '<pad>' '<pad>' '<pad>'\n",
      " '<pad>' '<pad>' '<pad>' '<pad>' '<pad>' '<pad>' '<pad>' '<pad>' '<pad>']\n",
      "--------------\n",
      "true ['movie.genre']\n",
      "pred ['NO_REL']\n",
      "correct? False\n",
      "\n",
      "['who' 'played' 'opposite' 'sidney' 'poitier' 'in' 'shoot' 'to' 'kill'\n",
      " '<pad>' '<pad>' '<pad>' '<pad>' '<pad>' '<pad>' '<pad>' '<pad>' '<pad>']\n",
      "--------------\n",
      "true ['movie.starring.actor' 'movie.starring.character']\n",
      "pred ['movie.starring.actor']\n",
      "correct? False\n",
      "\n",
      "['show' 'me' 'the' 'comedy' 'pitch' 'perfect' '<pad>' '<pad>' '<pad>'\n",
      " '<pad>' '<pad>' '<pad>' '<pad>' '<pad>' '<pad>' '<pad>' '<pad>' '<pad>']\n",
      "--------------\n",
      "true ['movie.genre']\n",
      "pred ['NO_REL']\n",
      "correct? False\n",
      "\n",
      "['show' 'me' 'the' 'comedy' 'pitch' 'perfect' '<pad>' '<pad>' '<pad>'\n",
      " '<pad>' '<pad>' '<pad>' '<pad>' '<pad>' '<pad>' '<pad>' '<pad>' '<pad>']\n",
      "--------------\n",
      "true ['movie.genre']\n",
      "pred ['NO_REL']\n",
      "correct? False\n",
      "\n",
      "['show' 'me' 'the' 'comedy' 'pitch' 'perfect' '<pad>' '<pad>' '<pad>'\n",
      " '<pad>' '<pad>' '<pad>' '<pad>' '<pad>' '<pad>' '<pad>' '<pad>' '<pad>']\n",
      "--------------\n",
      "true ['movie.genre']\n",
      "pred ['NO_REL']\n",
      "correct? False\n",
      "\n",
      "['show' 'me' 'the' 'comedy' 'pitch' 'perfect' '<pad>' '<pad>' '<pad>'\n",
      " '<pad>' '<pad>' '<pad>' '<pad>' '<pad>' '<pad>' '<pad>' '<pad>' '<pad>']\n",
      "--------------\n",
      "true ['movie.genre']\n",
      "pred ['NO_REL']\n",
      "correct? False\n",
      "\n",
      "['show' 'me' 'the' 'comedy' 'pitch' 'perfect' '<pad>' '<pad>' '<pad>'\n",
      " '<pad>' '<pad>' '<pad>' '<pad>' '<pad>' '<pad>' '<pad>' '<pad>' '<pad>']\n",
      "--------------\n",
      "true ['movie.genre']\n",
      "pred ['NO_REL']\n",
      "correct? False\n",
      "\n",
      "['show' 'me' 'the' 'comedy' 'pitch' 'perfect' '<pad>' '<pad>' '<pad>'\n",
      " '<pad>' '<pad>' '<pad>' '<pad>' '<pad>' '<pad>' '<pad>' '<pad>' '<pad>']\n",
      "--------------\n",
      "true ['movie.genre']\n",
      "pred ['NO_REL']\n",
      "correct? False\n",
      "\n",
      "['show' 'me' 'the' 'comedy' 'pitch' 'perfect' '<pad>' '<pad>' '<pad>'\n",
      " '<pad>' '<pad>' '<pad>' '<pad>' '<pad>' '<pad>' '<pad>' '<pad>' '<pad>']\n",
      "--------------\n",
      "true ['movie.genre']\n",
      "pred ['NO_REL']\n",
      "correct? False\n",
      "\n",
      "['who' 'played' 'opposite' 'sidney' 'poitier' 'in' 'shoot' 'to' 'kill'\n",
      " '<pad>' '<pad>' '<pad>' '<pad>' '<pad>' '<pad>' '<pad>' '<pad>' '<pad>']\n",
      "--------------\n",
      "true ['movie.starring.actor' 'movie.starring.character']\n",
      "pred ['movie.starring.actor']\n",
      "correct? False\n",
      "\n"
     ]
    }
   ],
   "source": [
    "error_analysis(train_onehot, best_model)"
   ]
  },
  {
   "cell_type": "markdown",
   "metadata": {},
   "source": [
    "### Generate submission file for kaggle "
   ]
  },
  {
   "cell_type": "code",
   "execution_count": 155,
   "metadata": {
    "collapsed": true
   },
   "outputs": [],
   "source": [
    "def get_submission(m):\n",
    "    labels = np.load(\"./data/labels.npy\")\n",
    "    final_labels = []\n",
    "    tokenize = lambda x: x.split()\n",
    "    text_field = Field(sequential=True, \n",
    "                       tokenize=tokenize, \n",
    "                       lower=True, \n",
    "                       include_lengths=False)\n",
    "    tst_datafields = [(\"ID\", RawField()),\n",
    "                      (\"UTTERANCE\", TEXT)]\n",
    "    tst = TabularDataset(\n",
    "        path=\"data/original_data/hw1_test.csv\", # the file path\n",
    "        format='csv',\n",
    "        skip_header=True, # if your csv header has a header, make sure to pass this to ensure it doesn't get proceesed as data!\n",
    "        fields=tst_datafields)\n",
    "    test_iter = Iterator(tst, batch_size=len(tst), device='cuda', shuffle=False,\n",
    "                         sort=False, sort_within_batch=False, repeat=False)\n",
    "    for batch in test_iter:\n",
    "        pred = (torch.sigmoid(m(batch.UTTERANCE)) > 0.5).int().cpu()\n",
    "        for sample in pred:\n",
    "            if sample.sum() == 0:\n",
    "                pred_label = [labels[np.argmax(sample)]]\n",
    "            else:\n",
    "                pred_label = np.array(labels)[sample==1]\n",
    "            final_labels.append(\" \".join(pred_label))\n",
    "    test_df = pd.read_csv(\"./data/original_data/hw1_test.csv\")\n",
    "    test_df[\"CORE RELATIONS\"] = final_labels\n",
    "    return test_df"
   ]
  },
  {
   "cell_type": "code",
   "execution_count": 156,
   "metadata": {
    "collapsed": true
   },
   "outputs": [],
   "source": [
    "test_df = get_submission(best_model)"
   ]
  },
  {
   "cell_type": "code",
   "execution_count": 167,
   "metadata": {
    "collapsed": true
   },
   "outputs": [],
   "source": [
    "today = datetime.datetime.today().strftime(\"%b%d\")\n",
    "test_df.set_index(\"ID\")[[\"CORE RELATIONS\"]].to_csv(\n",
    "    \"./data/submissions/bi-lstm_{}.csv\".format(today))"
   ]
  },
  {
   "cell_type": "code",
   "execution_count": 166,
   "metadata": {},
   "outputs": [
    {
     "data": {
      "text/plain": [
       "'Jan21'"
      ]
     },
     "execution_count": 166,
     "metadata": {},
     "output_type": "execute_result"
    }
   ],
   "source": []
  },
  {
   "cell_type": "code",
   "execution_count": null,
   "metadata": {
    "collapsed": true
   },
   "outputs": [],
   "source": []
  }
 ],
 "metadata": {
  "kernelspec": {
   "display_name": "Python 3",
   "language": "python",
   "name": "python3"
  },
  "language_info": {
   "codemirror_mode": {
    "name": "ipython",
    "version": 3
   },
   "file_extension": ".py",
   "mimetype": "text/x-python",
   "name": "python",
   "nbconvert_exporter": "python",
   "pygments_lexer": "ipython3",
   "version": "3.6.2"
  }
 },
 "nbformat": 4,
 "nbformat_minor": 2
}
