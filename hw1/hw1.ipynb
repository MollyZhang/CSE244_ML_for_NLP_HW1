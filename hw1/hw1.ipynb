{
 "cells": [
  {
   "cell_type": "code",
   "execution_count": 1,
   "metadata": {
    "collapsed": true
   },
   "outputs": [],
   "source": [
    "import pandas as pd\n",
    "import numpy as np"
   ]
  },
  {
   "cell_type": "code",
   "execution_count": 4,
   "metadata": {
    "collapsed": true
   },
   "outputs": [],
   "source": [
    "df = pd.read_csv(\"./data/hw1_train.csv\", index_col=\"ID\")"
   ]
  },
  {
   "cell_type": "code",
   "execution_count": 8,
   "metadata": {
    "collapsed": false
   },
   "outputs": [
    {
     "data": {
      "text/plain": [
       "movie.directed_by                                                             374\n",
       "NO_REL                                                                        333\n",
       "movie.starring.actor                                                          322\n",
       "movie.rating                                                                  203\n",
       "movie.initial_release_date                                                    192\n",
       "movie.produced_by                                                             189\n",
       "movie.language                                                                172\n",
       "movie.subjects                                                                162\n",
       "movie.country                                                                 154\n",
       "movie_other                                                                   146\n",
       "other                                                                         134\n",
       "movie.gross_revenue                                                           131\n",
       "movie.genre                                                                   112\n",
       "movie.estimated_budget                                                        112\n",
       "movie.production_companies                                                     92\n",
       "movie.country movie.language                                                   72\n",
       "movie.starring.actor movie.starring.character                                  50\n",
       "movie.review                                                                   32\n",
       "movie.starring.actor movie.initial_release_date                                22\n",
       "movie.rating movie.initial_release_date                                        21\n",
       "movie.locations                                                                16\n",
       "movie.directed_by movie.initial_release_date                                   15\n",
       "movie.directed_by movie.star_rating                                            13\n",
       "person.picture                                                                 12\n",
       "movie.gross_revenue gr.amount                                                  11\n",
       "movie.showing                                                                  11\n",
       "movie.trailer                                                                  11\n",
       "movie.production_companies movie.initial_release_date                          11\n",
       "movie.starring.actor actor.gender                                               9\n",
       "movie.genre movie.initial_release_date                                          7\n",
       "                                                                             ... \n",
       "person.country                                                                  1\n",
       "movie.directed_by movie.gross_revenue gr.amount                                 1\n",
       "person.award                                                                    1\n",
       "movie.starring.actor movie.starring.character actor.gender                      1\n",
       "movie.country movie.estimated_budget                                            1\n",
       "movie.production_companies movie.genre                                          1\n",
       "movie.estimated_budget movie.directed_by                                        1\n",
       "movie.directed_by movie.subjects                                                1\n",
       "movie.locations movie.initial_release_date                                      1\n",
       "movie.starring.actor movie.starring.character movie.country                     1\n",
       "movie.production_companies movie.award                                          1\n",
       "movie.initial_release_date movie.directed_by                                    1\n",
       "movie.starring.actor movie.genre movie.subjects                                 1\n",
       "director.award movie.directed_by movie.initial_release_date award.ceremony      1\n",
       "movie.country movie.star_rating movie.initial_release_date                      1\n",
       "movie.locations movie.directed_by                                               1\n",
       "person.award award.ceremony                                                     1\n",
       "movie.country movie.language movie.star_rating                                  1\n",
       "movie.rating movie.review                                                       1\n",
       "movie.starring.actor movie.produced_by                                          1\n",
       "movie.directed_by movie.gross_revenue                                           1\n",
       "movie.initial_release_date movie.produced_by                                    1\n",
       "movie.rating movie.directed_by                                                  1\n",
       "movie.country movie.locations                                                   1\n",
       "movie.directed_by movie.initial_release_date movie.genre                        1\n",
       "movie.country movie.award award.ceremony                                        1\n",
       "movie.rating movie.production_companies                                         1\n",
       "movie.gross_revenue movie.genre                                                 1\n",
       "movie.media movie.directed_by                                                   1\n",
       "movie.written_by                                                                1\n",
       "Name: CORE RELATIONS, Length: 128, dtype: int64"
      ]
     },
     "execution_count": 8,
     "metadata": {},
     "output_type": "execute_result"
    }
   ],
   "source": [
    "df[\"CORE RELATIONS\"].value_counts()"
   ]
  },
  {
   "cell_type": "code",
   "execution_count": null,
   "metadata": {
    "collapsed": true
   },
   "outputs": [],
   "source": []
  }
 ],
 "metadata": {
  "kernelspec": {
   "display_name": "Python 3",
   "language": "python",
   "name": "python3"
  },
  "language_info": {
   "codemirror_mode": {
    "name": "ipython",
    "version": 3
   },
   "file_extension": ".py",
   "mimetype": "text/x-python",
   "name": "python",
   "nbconvert_exporter": "python",
   "pygments_lexer": "ipython3",
   "version": "3.6.0"
  }
 },
 "nbformat": 4,
 "nbformat_minor": 2
}
