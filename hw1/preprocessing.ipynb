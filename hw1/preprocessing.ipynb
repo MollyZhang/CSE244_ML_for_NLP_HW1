{
 "cells": [
  {
   "cell_type": "code",
   "execution_count": 28,
   "metadata": {
    "collapsed": true
   },
   "outputs": [],
   "source": [
    "import pandas as pd\n",
    "import numpy as np\n",
    "import spacy\n",
    "import itertools\n",
    "import pickle"
   ]
  },
  {
   "cell_type": "markdown",
   "metadata": {},
   "source": [
    "### save 10% for heldout test, use 90% for cv"
   ]
  },
  {
   "cell_type": "code",
   "execution_count": 15,
   "metadata": {
    "collapsed": true
   },
   "outputs": [],
   "source": [
    "df = pd.read_csv(\"./data/train.csv\", index_col=\"ID\")\n",
    "split_size = int(df.shape[0]/10)"
   ]
  },
  {
   "cell_type": "code",
   "execution_count": 16,
   "metadata": {
    "collapsed": true
   },
   "outputs": [],
   "source": [
    "np.random.seed(0)\n",
    "test_idx = np.random.choice(df.index, size=split_size)\n",
    "rest = np.array([i for i in df.index if i not in test_idx])\n",
    "val_idx = np.random.choice(rest, size=split_size)\n",
    "train_idx = np.array([i for i in rest if i not in val_idx])"
   ]
  },
  {
   "cell_type": "code",
   "execution_count": 17,
   "metadata": {
    "collapsed": true
   },
   "outputs": [],
   "source": [
    "df.loc[train_idx].to_csv(\"./data/train_real.csv\")\n",
    "df.loc[val_idx].to_csv(\"./data/val.csv\")\n",
    "df.loc[test_idx].to_csv(\"./data/holdout_test.csv\")"
   ]
  },
  {
   "cell_type": "markdown",
   "metadata": {
    "collapsed": true
   },
   "source": [
    "### Vocabulary exploration"
   ]
  },
  {
   "cell_type": "code",
   "execution_count": 4,
   "metadata": {},
   "outputs": [
    {
     "name": "stdout",
     "output_type": "stream",
     "text": [
      "train vocab 1785\n",
      "test vocab 1061\n",
      "Combined vocab 2043\n",
      "test vocab not in train 258\n"
     ]
    }
   ],
   "source": [
    "df1 = pd.read_csv(\"./data/original_data/hw1_train.csv\")\n",
    "df2 = pd.read_csv(\"./data/original_data/hw1_test.csv\")\n",
    "\n",
    "vocab1 = set(list(itertools.chain.from_iterable(list(df1[\"UTTERANCE\"].apply(lambda x: x.split(\" \"))))))\n",
    "vocab2 = set(list(itertools.chain.from_iterable(list(df2[\"UTTERANCE\"].apply(lambda x: x.split(\" \"))))))\n",
    "vocab = sorted(list(vocab1.union(vocab2)))\n",
    "print(\"train vocab\", len(vocab1))\n",
    "print(\"test vocab\", len(vocab2))\n",
    "print(\"Combined vocab\", len(vocab))\n",
    "print(\"test vocab not in train\", len([i for i in vocab2 if i not in vocab1]))"
   ]
  },
  {
   "cell_type": "code",
   "execution_count": 5,
   "metadata": {
    "collapsed": true
   },
   "outputs": [],
   "source": [
    "np.save(\"./data/vocab.npy\", np.array(vocab))"
   ]
  },
  {
   "cell_type": "markdown",
   "metadata": {},
   "source": [
    "### Turn labels into Manyhot representation"
   ]
  },
  {
   "cell_type": "code",
   "execution_count": 40,
   "metadata": {
    "collapsed": true
   },
   "outputs": [],
   "source": [
    "df = pd.read_csv(\"./data/original_data/hw1_train.csv\")"
   ]
  },
  {
   "cell_type": "code",
   "execution_count": 41,
   "metadata": {
    "collapsed": true
   },
   "outputs": [],
   "source": [
    "labels = sorted(list(set(\" \".join(df[\"CORE RELATIONS\"]).split(\" \"))))\n",
    "np.save(\"./data/labels.npy\", labels)"
   ]
  },
  {
   "cell_type": "code",
   "execution_count": 42,
   "metadata": {},
   "outputs": [
    {
     "name": "stdout",
     "output_type": "stream",
     "text": [
      "number of classes: 46\n"
     ]
    }
   ],
   "source": [
    "label2idx = {text: i for i, text in enumerate(labels)}\n",
    "idx2label = {i: text for i, text in enumerate(labels)}\n",
    "print(\"number of classes:\", len(label2idx))"
   ]
  },
  {
   "cell_type": "code",
   "execution_count": 9,
   "metadata": {
    "collapsed": true
   },
   "outputs": [],
   "source": [
    "def lable_mapper(labels):\n",
    "    return \",\".join([str(label2idx[i]) for i in labels.split(\" \")])\n",
    "\n",
    "def label2manyhot(core_relations):\n",
    "    manyhot = [0] * len(labels)\n",
    "    for each_label in core_relations.split(\" \"):\n",
    "        idx = label2idx[each_label]\n",
    "        manyhot[idx] = 1\n",
    "    return \"\".join([str(i) for i in manyhot])"
   ]
  },
  {
   "cell_type": "code",
   "execution_count": 10,
   "metadata": {
    "collapsed": true
   },
   "outputs": [],
   "source": [
    "df[\"label\"] = df[\"CORE RELATIONS\"].apply(label2manyhot)"
   ]
  },
  {
   "cell_type": "markdown",
   "metadata": {},
   "source": [
    "### rename text and label columns and save to final version"
   ]
  },
  {
   "cell_type": "code",
   "execution_count": 12,
   "metadata": {
    "collapsed": true
   },
   "outputs": [],
   "source": [
    "df[\"text\"] = df[\"UTTERANCE\"]\n",
    "df[[\"ID\", \"text\", \"label\"]].set_index(\"ID\").to_csv(\"./data/train.csv\")"
   ]
  },
  {
   "cell_type": "code",
   "execution_count": 13,
   "metadata": {
    "collapsed": true
   },
   "outputs": [],
   "source": [
    "df_test = pd.read_csv(\"./data/original_data/hw1_test.csv\")"
   ]
  },
  {
   "cell_type": "code",
   "execution_count": 14,
   "metadata": {
    "collapsed": true
   },
   "outputs": [],
   "source": [
    "df_test[\"text\"] = df_test[\"UTTERANCE\"]\n",
    "df[[\"ID\", \"text\"]].set_index(\"ID\").to_csv(\"./data/test.csv\")"
   ]
  },
  {
   "cell_type": "markdown",
   "metadata": {},
   "source": [
    "### fasttext vocab filtering"
   ]
  },
  {
   "cell_type": "code",
   "execution_count": 72,
   "metadata": {
    "collapsed": true
   },
   "outputs": [],
   "source": [
    "vocab = np.load(\"./data/vocab.npy\")"
   ]
  },
  {
   "cell_type": "code",
   "execution_count": null,
   "metadata": {},
   "outputs": [],
   "source": [
    "f = open(\"../fasttext/crawl-300d-2M-subword.vec\", \"r\", encoding=\"utf-8\")\n",
    "f_out = open(\"../fasttext/hw1_vocab.vec\", \"w\")\n",
    "f_out.write(\"{} {}\\n\".format(len(vocab), 300))\n",
    "d = {}\n",
    "for i, line in enumerate(f):\n",
    "    if i == 0:\n",
    "        print(line)\n",
    "        continue\n",
    "    word = line.split(\" \")[0]\n",
    "    if word in vocab:\n",
    "        print(word)\n",
    "        d[word] = line.strip().split(' ')\n",
    "        f_out.write(line)\n",
    "f.close()\n",
    "f_out.close()"
   ]
  },
  {
   "cell_type": "code",
   "execution_count": 29,
   "metadata": {},
   "outputs": [],
   "source": [
    "pickle.dump(d, open(\"./data/vocab_ft.pkl\", \"wb\"))"
   ]
  },
  {
   "cell_type": "code",
   "execution_count": 31,
   "metadata": {},
   "outputs": [],
   "source": [
    "x = pickle.load(open(\"./data/vocab_ft.pkl\", \"rb\"))"
   ]
  },
  {
   "cell_type": "markdown",
   "metadata": {
    "collapsed": true
   },
   "source": [
    "### add hand craft features"
   ]
  },
  {
   "cell_type": "code",
   "execution_count": 3,
   "metadata": {
    "collapsed": true
   },
   "outputs": [],
   "source": [
    "df = pd.read_csv(\"./data/original_data/hw1_train.csv\")"
   ]
  },
  {
   "cell_type": "code",
   "execution_count": 5,
   "metadata": {
    "collapsed": true
   },
   "outputs": [],
   "source": [
    "labels = np.load(\"./data/labels.npy\")"
   ]
  },
  {
   "cell_type": "code",
   "execution_count": 15,
   "metadata": {
    "collapsed": true
   },
   "outputs": [],
   "source": [
    "label_words = []\n",
    "for i in labels:\n",
    "    for j in i.split(\".\"):\n",
    "        if j not in label_words and j not in [\"NO_REL\", \"other\", \"gr\", \"rt\"]:\n",
    "            label_words.append(j)"
   ]
  },
  {
   "cell_type": "code",
   "execution_count": 16,
   "metadata": {
    "collapsed": true
   },
   "outputs": [],
   "source": [
    "# max cosine simiarity between word and potential label"
   ]
  },
  {
   "cell_type": "code",
   "execution_count": 17,
   "metadata": {},
   "outputs": [
    {
     "data": {
      "text/html": [
       "<div>\n",
       "<style>\n",
       "    .dataframe thead tr:only-child th {\n",
       "        text-align: right;\n",
       "    }\n",
       "\n",
       "    .dataframe thead th {\n",
       "        text-align: left;\n",
       "    }\n",
       "\n",
       "    .dataframe tbody tr th {\n",
       "        vertical-align: top;\n",
       "    }\n",
       "</style>\n",
       "<table border=\"1\" class=\"dataframe\">\n",
       "  <thead>\n",
       "    <tr style=\"text-align: right;\">\n",
       "      <th></th>\n",
       "      <th>ID</th>\n",
       "      <th>UTTERANCE</th>\n",
       "      <th>CORE RELATIONS</th>\n",
       "    </tr>\n",
       "  </thead>\n",
       "  <tbody>\n",
       "    <tr>\n",
       "      <th>0</th>\n",
       "      <td>0</td>\n",
       "      <td>who plays luke on star wars new hope</td>\n",
       "      <td>movie.starring.actor movie.starring.character</td>\n",
       "    </tr>\n",
       "    <tr>\n",
       "      <th>1</th>\n",
       "      <td>1</td>\n",
       "      <td>show credits for the godfather</td>\n",
       "      <td>movie.starring.actor</td>\n",
       "    </tr>\n",
       "    <tr>\n",
       "      <th>2</th>\n",
       "      <td>2</td>\n",
       "      <td>who was the main actor in the exorcist</td>\n",
       "      <td>movie.starring.actor</td>\n",
       "    </tr>\n",
       "    <tr>\n",
       "      <th>3</th>\n",
       "      <td>3</td>\n",
       "      <td>find the female actress from the movie she s t...</td>\n",
       "      <td>movie.starring.actor actor.gender</td>\n",
       "    </tr>\n",
       "    <tr>\n",
       "      <th>4</th>\n",
       "      <td>4</td>\n",
       "      <td>who played dory on finding nemo</td>\n",
       "      <td>movie.starring.actor movie.starring.character</td>\n",
       "    </tr>\n",
       "    <tr>\n",
       "      <th>5</th>\n",
       "      <td>5</td>\n",
       "      <td>who was the female lead in resident evil</td>\n",
       "      <td>movie.starring.actor actor.gender</td>\n",
       "    </tr>\n",
       "    <tr>\n",
       "      <th>6</th>\n",
       "      <td>6</td>\n",
       "      <td>who played guido in life is beautiful</td>\n",
       "      <td>movie.starring.actor movie.starring.character</td>\n",
       "    </tr>\n",
       "    <tr>\n",
       "      <th>7</th>\n",
       "      <td>7</td>\n",
       "      <td>who was the co-star in shoot to kill</td>\n",
       "      <td>movie.starring.actor</td>\n",
       "    </tr>\n",
       "    <tr>\n",
       "      <th>8</th>\n",
       "      <td>8</td>\n",
       "      <td>find the guy who plays charlie on charlie's an...</td>\n",
       "      <td>movie.starring.actor movie.starring.character</td>\n",
       "    </tr>\n",
       "    <tr>\n",
       "      <th>9</th>\n",
       "      <td>9</td>\n",
       "      <td>cast and crew of movie the campaign</td>\n",
       "      <td>movie.starring.actor</td>\n",
       "    </tr>\n",
       "    <tr>\n",
       "      <th>10</th>\n",
       "      <td>10</td>\n",
       "      <td>cast and crew of the campaign</td>\n",
       "      <td>movie.starring.actor</td>\n",
       "    </tr>\n",
       "    <tr>\n",
       "      <th>11</th>\n",
       "      <td>11</td>\n",
       "      <td>who plays in the movie the campaign</td>\n",
       "      <td>movie.starring.actor</td>\n",
       "    </tr>\n",
       "    <tr>\n",
       "      <th>12</th>\n",
       "      <td>12</td>\n",
       "      <td>who starred in the campaign</td>\n",
       "      <td>movie.starring.actor</td>\n",
       "    </tr>\n",
       "    <tr>\n",
       "      <th>13</th>\n",
       "      <td>13</td>\n",
       "      <td>who were the crew for the campaign</td>\n",
       "      <td>movie.starring.actor</td>\n",
       "    </tr>\n",
       "    <tr>\n",
       "      <th>14</th>\n",
       "      <td>14</td>\n",
       "      <td>who was the lead man in taxi driver</td>\n",
       "      <td>movie.starring.actor</td>\n",
       "    </tr>\n",
       "    <tr>\n",
       "      <th>15</th>\n",
       "      <td>15</td>\n",
       "      <td>star of twilight</td>\n",
       "      <td>movie.starring.actor</td>\n",
       "    </tr>\n",
       "    <tr>\n",
       "      <th>16</th>\n",
       "      <td>16</td>\n",
       "      <td>who stars in vulgaria</td>\n",
       "      <td>movie.starring.actor</td>\n",
       "    </tr>\n",
       "    <tr>\n",
       "      <th>17</th>\n",
       "      <td>17</td>\n",
       "      <td>what are the names of female actors who played...</td>\n",
       "      <td>movie.starring.actor actor.gender</td>\n",
       "    </tr>\n",
       "    <tr>\n",
       "      <th>18</th>\n",
       "      <td>18</td>\n",
       "      <td>can i see the set list and cast for life is be...</td>\n",
       "      <td>movie.starring.actor</td>\n",
       "    </tr>\n",
       "    <tr>\n",
       "      <th>19</th>\n",
       "      <td>19</td>\n",
       "      <td>cast and crew of life is beautiful</td>\n",
       "      <td>movie.starring.actor</td>\n",
       "    </tr>\n",
       "    <tr>\n",
       "      <th>20</th>\n",
       "      <td>20</td>\n",
       "      <td>show cast and crew for the movie life is beaut...</td>\n",
       "      <td>movie.starring.actor</td>\n",
       "    </tr>\n",
       "    <tr>\n",
       "      <th>21</th>\n",
       "      <td>21</td>\n",
       "      <td>what's the cast for life is beautiful</td>\n",
       "      <td>movie.starring.actor</td>\n",
       "    </tr>\n",
       "    <tr>\n",
       "      <th>22</th>\n",
       "      <td>22</td>\n",
       "      <td>who played in life is beautiful</td>\n",
       "      <td>movie.starring.actor</td>\n",
       "    </tr>\n",
       "    <tr>\n",
       "      <th>23</th>\n",
       "      <td>23</td>\n",
       "      <td>who played in life is beautiful</td>\n",
       "      <td>movie.starring.actor</td>\n",
       "    </tr>\n",
       "    <tr>\n",
       "      <th>24</th>\n",
       "      <td>24</td>\n",
       "      <td>who was in life is beautiful</td>\n",
       "      <td>movie.starring.actor</td>\n",
       "    </tr>\n",
       "    <tr>\n",
       "      <th>25</th>\n",
       "      <td>25</td>\n",
       "      <td>who were roberto benigni's costars on life is ...</td>\n",
       "      <td>movie.starring.actor</td>\n",
       "    </tr>\n",
       "    <tr>\n",
       "      <th>26</th>\n",
       "      <td>26</td>\n",
       "      <td>i am looking for the actor that played in pret...</td>\n",
       "      <td>movie.starring.actor</td>\n",
       "    </tr>\n",
       "    <tr>\n",
       "      <th>27</th>\n",
       "      <td>27</td>\n",
       "      <td>star of troy</td>\n",
       "      <td>movie.starring.actor</td>\n",
       "    </tr>\n",
       "    <tr>\n",
       "      <th>28</th>\n",
       "      <td>28</td>\n",
       "      <td>who played robin in batman forever</td>\n",
       "      <td>movie.starring.actor movie.starring.character</td>\n",
       "    </tr>\n",
       "    <tr>\n",
       "      <th>29</th>\n",
       "      <td>29</td>\n",
       "      <td>find the male actor from dirty harry</td>\n",
       "      <td>movie.starring.actor actor.gender</td>\n",
       "    </tr>\n",
       "    <tr>\n",
       "      <th>...</th>\n",
       "      <td>...</td>\n",
       "      <td>...</td>\n",
       "      <td>...</td>\n",
       "    </tr>\n",
       "    <tr>\n",
       "      <th>3308</th>\n",
       "      <td>3308</td>\n",
       "      <td>is star wars four any good</td>\n",
       "      <td>movie.star_rating</td>\n",
       "    </tr>\n",
       "    <tr>\n",
       "      <th>3309</th>\n",
       "      <td>3309</td>\n",
       "      <td>how many stars does star wars new hope have</td>\n",
       "      <td>movie.star_rating</td>\n",
       "    </tr>\n",
       "    <tr>\n",
       "      <th>3310</th>\n",
       "      <td>3310</td>\n",
       "      <td>give me the rating</td>\n",
       "      <td>movie.star_rating</td>\n",
       "    </tr>\n",
       "    <tr>\n",
       "      <th>3311</th>\n",
       "      <td>3311</td>\n",
       "      <td>i want a synopsis for the movie in july</td>\n",
       "      <td>movie.synopsis</td>\n",
       "    </tr>\n",
       "    <tr>\n",
       "      <th>3312</th>\n",
       "      <td>3312</td>\n",
       "      <td>what is the synopsis for the movie vulgaria</td>\n",
       "      <td>movie.synopsis</td>\n",
       "    </tr>\n",
       "    <tr>\n",
       "      <th>3313</th>\n",
       "      <td>3313</td>\n",
       "      <td>where can i watch finding nemo</td>\n",
       "      <td>movie.showing</td>\n",
       "    </tr>\n",
       "    <tr>\n",
       "      <th>3314</th>\n",
       "      <td>3314</td>\n",
       "      <td>where is movie playing</td>\n",
       "      <td>movie.showing</td>\n",
       "    </tr>\n",
       "    <tr>\n",
       "      <th>3315</th>\n",
       "      <td>3315</td>\n",
       "      <td>where is movie playing</td>\n",
       "      <td>movie.showing</td>\n",
       "    </tr>\n",
       "    <tr>\n",
       "      <th>3316</th>\n",
       "      <td>3316</td>\n",
       "      <td>which theatre is this playing in</td>\n",
       "      <td>movie.showing</td>\n",
       "    </tr>\n",
       "    <tr>\n",
       "      <th>3317</th>\n",
       "      <td>3317</td>\n",
       "      <td>where is hotel transylvania shown</td>\n",
       "      <td>movie.showing</td>\n",
       "    </tr>\n",
       "    <tr>\n",
       "      <th>3318</th>\n",
       "      <td>3318</td>\n",
       "      <td>where can i see house at the end of the street</td>\n",
       "      <td>movie.showing</td>\n",
       "    </tr>\n",
       "    <tr>\n",
       "      <th>3319</th>\n",
       "      <td>3319</td>\n",
       "      <td>where is house at the end of the street playing</td>\n",
       "      <td>movie.showing</td>\n",
       "    </tr>\n",
       "    <tr>\n",
       "      <th>3320</th>\n",
       "      <td>3320</td>\n",
       "      <td>where is the movie in july playing</td>\n",
       "      <td>movie.showing</td>\n",
       "    </tr>\n",
       "    <tr>\n",
       "      <th>3321</th>\n",
       "      <td>3321</td>\n",
       "      <td>where is the movie campaign playing</td>\n",
       "      <td>movie.showing</td>\n",
       "    </tr>\n",
       "    <tr>\n",
       "      <th>3322</th>\n",
       "      <td>3322</td>\n",
       "      <td>where can i see the campaign</td>\n",
       "      <td>movie.showing</td>\n",
       "    </tr>\n",
       "    <tr>\n",
       "      <th>3323</th>\n",
       "      <td>3323</td>\n",
       "      <td>where is the campaign playing</td>\n",
       "      <td>movie.showing</td>\n",
       "    </tr>\n",
       "    <tr>\n",
       "      <th>3324</th>\n",
       "      <td>3324</td>\n",
       "      <td>show me trailers for finding nemo</td>\n",
       "      <td>movie.trailer</td>\n",
       "    </tr>\n",
       "    <tr>\n",
       "      <th>3325</th>\n",
       "      <td>3325</td>\n",
       "      <td>find me trailers for house at the end of the s...</td>\n",
       "      <td>movie.trailer</td>\n",
       "    </tr>\n",
       "    <tr>\n",
       "      <th>3326</th>\n",
       "      <td>3326</td>\n",
       "      <td>show trailer of house at the end of the street</td>\n",
       "      <td>movie.trailer</td>\n",
       "    </tr>\n",
       "    <tr>\n",
       "      <th>3327</th>\n",
       "      <td>3327</td>\n",
       "      <td>watch trailer for star wars iv</td>\n",
       "      <td>movie.trailer</td>\n",
       "    </tr>\n",
       "    <tr>\n",
       "      <th>3328</th>\n",
       "      <td>3328</td>\n",
       "      <td>show me the trailer for the campaign movie</td>\n",
       "      <td>movie.trailer</td>\n",
       "    </tr>\n",
       "    <tr>\n",
       "      <th>3329</th>\n",
       "      <td>3329</td>\n",
       "      <td>find trailer for the campaign</td>\n",
       "      <td>movie.trailer</td>\n",
       "    </tr>\n",
       "    <tr>\n",
       "      <th>3330</th>\n",
       "      <td>3330</td>\n",
       "      <td>play the trailer for the campaign</td>\n",
       "      <td>movie.trailer</td>\n",
       "    </tr>\n",
       "    <tr>\n",
       "      <th>3331</th>\n",
       "      <td>3331</td>\n",
       "      <td>show trailer for the campaign</td>\n",
       "      <td>movie.trailer</td>\n",
       "    </tr>\n",
       "    <tr>\n",
       "      <th>3332</th>\n",
       "      <td>3332</td>\n",
       "      <td>how many awards did alfred hitchcock win for d...</td>\n",
       "      <td>person.award award.category</td>\n",
       "    </tr>\n",
       "    <tr>\n",
       "      <th>3333</th>\n",
       "      <td>3333</td>\n",
       "      <td>how many oscars has meryl streep won</td>\n",
       "      <td>person.award award.ceremony</td>\n",
       "    </tr>\n",
       "    <tr>\n",
       "      <th>3334</th>\n",
       "      <td>3334</td>\n",
       "      <td>how many of the star wars movies won awards</td>\n",
       "      <td>movie.award</td>\n",
       "    </tr>\n",
       "    <tr>\n",
       "      <th>3335</th>\n",
       "      <td>3335</td>\n",
       "      <td>play english movie</td>\n",
       "      <td>movie.media movie.language movie.country</td>\n",
       "    </tr>\n",
       "    <tr>\n",
       "      <th>3336</th>\n",
       "      <td>3336</td>\n",
       "      <td>were there any movies that came out this year ...</td>\n",
       "      <td>movie.country movie.locations movie.initial_re...</td>\n",
       "    </tr>\n",
       "    <tr>\n",
       "      <th>3337</th>\n",
       "      <td>3337</td>\n",
       "      <td>what are some popular japanese movies</td>\n",
       "      <td>movie.country movie.language movie.star_rating</td>\n",
       "    </tr>\n",
       "  </tbody>\n",
       "</table>\n",
       "<p>3338 rows × 3 columns</p>\n",
       "</div>"
      ],
      "text/plain": [
       "        ID                                          UTTERANCE  \\\n",
       "0        0               who plays luke on star wars new hope   \n",
       "1        1                     show credits for the godfather   \n",
       "2        2             who was the main actor in the exorcist   \n",
       "3        3  find the female actress from the movie she s t...   \n",
       "4        4                    who played dory on finding nemo   \n",
       "5        5           who was the female lead in resident evil   \n",
       "6        6              who played guido in life is beautiful   \n",
       "7        7               who was the co-star in shoot to kill   \n",
       "8        8  find the guy who plays charlie on charlie's an...   \n",
       "9        9                cast and crew of movie the campaign   \n",
       "10      10                      cast and crew of the campaign   \n",
       "11      11                who plays in the movie the campaign   \n",
       "12      12                        who starred in the campaign   \n",
       "13      13                 who were the crew for the campaign   \n",
       "14      14                who was the lead man in taxi driver   \n",
       "15      15                                   star of twilight   \n",
       "16      16                              who stars in vulgaria   \n",
       "17      17  what are the names of female actors who played...   \n",
       "18      18  can i see the set list and cast for life is be...   \n",
       "19      19                 cast and crew of life is beautiful   \n",
       "20      20  show cast and crew for the movie life is beaut...   \n",
       "21      21              what's the cast for life is beautiful   \n",
       "22      22                    who played in life is beautiful   \n",
       "23      23                    who played in life is beautiful   \n",
       "24      24                       who was in life is beautiful   \n",
       "25      25  who were roberto benigni's costars on life is ...   \n",
       "26      26  i am looking for the actor that played in pret...   \n",
       "27      27                                       star of troy   \n",
       "28      28                 who played robin in batman forever   \n",
       "29      29               find the male actor from dirty harry   \n",
       "...    ...                                                ...   \n",
       "3308  3308                         is star wars four any good   \n",
       "3309  3309        how many stars does star wars new hope have   \n",
       "3310  3310                                 give me the rating   \n",
       "3311  3311            i want a synopsis for the movie in july   \n",
       "3312  3312        what is the synopsis for the movie vulgaria   \n",
       "3313  3313                     where can i watch finding nemo   \n",
       "3314  3314                             where is movie playing   \n",
       "3315  3315                             where is movie playing   \n",
       "3316  3316                   which theatre is this playing in   \n",
       "3317  3317                  where is hotel transylvania shown   \n",
       "3318  3318     where can i see house at the end of the street   \n",
       "3319  3319    where is house at the end of the street playing   \n",
       "3320  3320                 where is the movie in july playing   \n",
       "3321  3321                where is the movie campaign playing   \n",
       "3322  3322                       where can i see the campaign   \n",
       "3323  3323                      where is the campaign playing   \n",
       "3324  3324                  show me trailers for finding nemo   \n",
       "3325  3325  find me trailers for house at the end of the s...   \n",
       "3326  3326     show trailer of house at the end of the street   \n",
       "3327  3327                     watch trailer for star wars iv   \n",
       "3328  3328         show me the trailer for the campaign movie   \n",
       "3329  3329                      find trailer for the campaign   \n",
       "3330  3330                  play the trailer for the campaign   \n",
       "3331  3331                      show trailer for the campaign   \n",
       "3332  3332  how many awards did alfred hitchcock win for d...   \n",
       "3333  3333               how many oscars has meryl streep won   \n",
       "3334  3334        how many of the star wars movies won awards   \n",
       "3335  3335                                 play english movie   \n",
       "3336  3336  were there any movies that came out this year ...   \n",
       "3337  3337              what are some popular japanese movies   \n",
       "\n",
       "                                         CORE RELATIONS  \n",
       "0         movie.starring.actor movie.starring.character  \n",
       "1                                  movie.starring.actor  \n",
       "2                                  movie.starring.actor  \n",
       "3                     movie.starring.actor actor.gender  \n",
       "4         movie.starring.actor movie.starring.character  \n",
       "5                     movie.starring.actor actor.gender  \n",
       "6         movie.starring.actor movie.starring.character  \n",
       "7                                  movie.starring.actor  \n",
       "8         movie.starring.actor movie.starring.character  \n",
       "9                                  movie.starring.actor  \n",
       "10                                 movie.starring.actor  \n",
       "11                                 movie.starring.actor  \n",
       "12                                 movie.starring.actor  \n",
       "13                                 movie.starring.actor  \n",
       "14                                 movie.starring.actor  \n",
       "15                                 movie.starring.actor  \n",
       "16                                 movie.starring.actor  \n",
       "17                    movie.starring.actor actor.gender  \n",
       "18                                 movie.starring.actor  \n",
       "19                                 movie.starring.actor  \n",
       "20                                 movie.starring.actor  \n",
       "21                                 movie.starring.actor  \n",
       "22                                 movie.starring.actor  \n",
       "23                                 movie.starring.actor  \n",
       "24                                 movie.starring.actor  \n",
       "25                                 movie.starring.actor  \n",
       "26                                 movie.starring.actor  \n",
       "27                                 movie.starring.actor  \n",
       "28        movie.starring.actor movie.starring.character  \n",
       "29                    movie.starring.actor actor.gender  \n",
       "...                                                 ...  \n",
       "3308                                  movie.star_rating  \n",
       "3309                                  movie.star_rating  \n",
       "3310                                  movie.star_rating  \n",
       "3311                                     movie.synopsis  \n",
       "3312                                     movie.synopsis  \n",
       "3313                                      movie.showing  \n",
       "3314                                      movie.showing  \n",
       "3315                                      movie.showing  \n",
       "3316                                      movie.showing  \n",
       "3317                                      movie.showing  \n",
       "3318                                      movie.showing  \n",
       "3319                                      movie.showing  \n",
       "3320                                      movie.showing  \n",
       "3321                                      movie.showing  \n",
       "3322                                      movie.showing  \n",
       "3323                                      movie.showing  \n",
       "3324                                      movie.trailer  \n",
       "3325                                      movie.trailer  \n",
       "3326                                      movie.trailer  \n",
       "3327                                      movie.trailer  \n",
       "3328                                      movie.trailer  \n",
       "3329                                      movie.trailer  \n",
       "3330                                      movie.trailer  \n",
       "3331                                      movie.trailer  \n",
       "3332                        person.award award.category  \n",
       "3333                        person.award award.ceremony  \n",
       "3334                                        movie.award  \n",
       "3335           movie.media movie.language movie.country  \n",
       "3336  movie.country movie.locations movie.initial_re...  \n",
       "3337     movie.country movie.language movie.star_rating  \n",
       "\n",
       "[3338 rows x 3 columns]"
      ]
     },
     "execution_count": 17,
     "metadata": {},
     "output_type": "execute_result"
    }
   ],
   "source": [
    "df"
   ]
  },
  {
   "cell_type": "code",
   "execution_count": null,
   "metadata": {
    "collapsed": true
   },
   "outputs": [],
   "source": []
  }
 ],
 "metadata": {
  "kernelspec": {
   "display_name": "Python 3",
   "language": "python",
   "name": "python3"
  },
  "language_info": {
   "codemirror_mode": {
    "name": "ipython",
    "version": 3
   },
   "file_extension": ".py",
   "mimetype": "text/x-python",
   "name": "python",
   "nbconvert_exporter": "python",
   "pygments_lexer": "ipython3",
   "version": "3.6.2"
  }
 },
 "nbformat": 4,
 "nbformat_minor": 2
}
