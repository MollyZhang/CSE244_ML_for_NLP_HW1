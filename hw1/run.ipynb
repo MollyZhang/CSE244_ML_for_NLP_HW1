{
 "cells": [
  {
   "cell_type": "code",
   "execution_count": 133,
   "metadata": {
    "collapsed": true
   },
   "outputs": [],
   "source": [
    "import pandas as pd\n",
    "import numpy as np\n",
    "import datetime\n",
    "import importlib\n",
    "import pickle\n",
    "\n",
    "import data_utils\n",
    "import model_utils\n",
    "import train_utils\n",
    "import evaluation\n",
    "importlib.reload(data_utils)\n",
    "importlib.reload(model_utils)\n",
    "importlib.reload(train_utils)\n",
    "importlib.reload(evaluation)\n",
    "\n",
    "import torch\n",
    "import torch.nn as nn\n",
    "from torchtext.data import TabularDataset, Field, RawField, BucketIterator, Iterator"
   ]
  },
  {
   "cell_type": "code",
   "execution_count": 94,
   "metadata": {
    "collapsed": true
   },
   "outputs": [],
   "source": [
    "DEVICE = \"cuda\""
   ]
  },
  {
   "cell_type": "markdown",
   "metadata": {},
   "source": [
    "### read data and put in batch"
   ]
  },
  {
   "cell_type": "code",
   "execution_count": 95,
   "metadata": {
    "collapsed": true,
    "scrolled": false
   },
   "outputs": [],
   "source": [
    "train_data, val_data, test_data = data_utils.prep_all_data(device=DEVICE, use_holdout_test=False)"
   ]
  },
  {
   "cell_type": "markdown",
   "metadata": {},
   "source": [
    "### Get models"
   ]
  },
  {
   "cell_type": "code",
   "execution_count": 13,
   "metadata": {
    "collapsed": true
   },
   "outputs": [],
   "source": [
    "m = model_utils.GRU()"
   ]
  },
  {
   "cell_type": "markdown",
   "metadata": {},
   "source": [
    "### Training "
   ]
  },
  {
   "cell_type": "code",
   "execution_count": 189,
   "metadata": {},
   "outputs": [
    {
     "name": "stdout",
     "output_type": "stream",
     "text": [
      "Epoch: 0, LR: 0.01, Train Loss: 354.2592, Val Loss: 261.3684, Val f1 0.160\n",
      "Epoch: 5, LR: 0.01, Train Loss: 28.0804, Val Loss: 112.5740, Val f1 0.786\n",
      "Epoch: 10, LR: 0.01, Train Loss: 4.3088, Val Loss: 107.8962, Val f1 0.804\n",
      "Epoch: 15, LR: 0.01, Train Loss: 1.1608, Val Loss: 108.9237, Val f1 0.813\n",
      "Epoch: 20, LR: 0.001, Train Loss: 0.6174, Val Loss: 112.3723, Val f1 0.810\n",
      "Epoch: 25, LR: 0.001, Train Loss: 0.5888, Val Loss: 112.2277, Val f1 0.814\n"
     ]
    }
   ],
   "source": [
    "importlib.reload(model_utils)\n",
    "importlib.reload(evaluation)\n",
    "m = model_utils.GRU(pretrained_emb=True)\n",
    "result = train_utils.train(train_data, val_data, m, device=DEVICE,\n",
    "                          lr=1e-2, print_freq=5, max_epoch=100)\n",
    "# combined at output"
   ]
  },
  {
   "cell_type": "code",
   "execution_count": 190,
   "metadata": {},
   "outputs": [
    {
     "name": "stdout",
     "output_type": "stream",
     "text": [
      "Epoch: 0, LR: 0.01, Train Loss: 359.1086, Val Loss: 274.7749, Val f1 0.108\n",
      "Epoch: 5, LR: 0.01, Train Loss: 32.6015, Val Loss: 91.6128, Val f1 0.806\n",
      "Epoch: 10, LR: 0.01, Train Loss: 5.7069, Val Loss: 92.4889, Val f1 0.810\n",
      "Epoch: 15, LR: 0.01, Train Loss: 1.3579, Val Loss: 96.0780, Val f1 0.820\n",
      "Epoch: 20, LR: 0.001, Train Loss: 0.7137, Val Loss: 99.0453, Val f1 0.832\n",
      "Epoch: 25, LR: 0.001, Train Loss: 0.5556, Val Loss: 100.6193, Val f1 0.827\n",
      "Epoch: 30, LR: 0.001, Train Loss: 0.5165, Val Loss: 100.9329, Val f1 0.827\n"
     ]
    }
   ],
   "source": [
    "importlib.reload(model_utils)\n",
    "importlib.reload(evaluation)\n",
    "m = model_utils.GRU(pretrained_emb=True)\n",
    "result = train_utils.train(train_data, val_data, m, device=DEVICE,\n",
    "                          lr=1e-2, print_freq=5, max_epoch=100)\n",
    "\n",
    "# no label feature"
   ]
  },
  {
   "cell_type": "code",
   "execution_count": 188,
   "metadata": {},
   "outputs": [
    {
     "name": "stdout",
     "output_type": "stream",
     "text": [
      "Epoch: 0, LR: 0.01, Train Loss: 346.6159, Val Loss: 258.2222, Val f1 0.185\n",
      "Epoch: 5, LR: 0.01, Train Loss: 33.8614, Val Loss: 109.8342, Val f1 0.765\n",
      "Epoch: 10, LR: 0.01, Train Loss: 5.1708, Val Loss: 110.6111, Val f1 0.799\n",
      "Epoch: 15, LR: 0.01, Train Loss: 1.1762, Val Loss: 113.6327, Val f1 0.798\n",
      "Epoch: 20, LR: 0.001, Train Loss: 0.6528, Val Loss: 116.0359, Val f1 0.802\n",
      "Epoch: 25, LR: 0.001, Train Loss: 0.6125, Val Loss: 116.4868, Val f1 0.802\n"
     ]
    }
   ],
   "source": [
    "importlib.reload(model_utils)\n",
    "importlib.reload(evaluation)\n",
    "m = model_utils.GRU(pretrained_emb=True)\n",
    "result = train_utils.train(train_data, val_data, m, device=DEVICE,\n",
    "                          lr=1e-2, print_freq=5, max_epoch=100)\n",
    "# combine earlier"
   ]
  },
  {
   "cell_type": "code",
   "execution_count": 153,
   "metadata": {},
   "outputs": [
    {
     "data": {
      "text/plain": [
       "tensor([0.4506, 1.0000])"
      ]
     },
     "execution_count": 153,
     "metadata": {},
     "output_type": "execute_result"
    }
   ],
   "source": [
    "np.x[0, [1,2]]"
   ]
  },
  {
   "cell_type": "code",
   "execution_count": 152,
   "metadata": {},
   "outputs": [
    {
     "data": {
      "text/plain": [
       "tensor([[1.0000, 0.4506, 1.0000],\n",
       "        [0.3217, 0.8566, 0.3521]])"
      ]
     },
     "execution_count": 152,
     "metadata": {},
     "output_type": "execute_result"
    }
   ],
   "source": [
    "x[0, [0, 2]] = 1; x"
   ]
  },
  {
   "cell_type": "code",
   "execution_count": 51,
   "metadata": {
    "scrolled": true
   },
   "outputs": [
    {
     "name": "stdout",
     "output_type": "stream",
     "text": [
      "Epoch: 0, LR: 0.01, Train Loss: 359.8223, Val Loss: 284.5155, Val f1 0.096\n",
      "Epoch: 5, LR: 0.01, Train Loss: 35.9260, Val Loss: 105.7272, Val f1 0.801\n",
      "Epoch: 10, LR: 0.01, Train Loss: 6.5407, Val Loss: 97.1244, Val f1 0.809\n",
      "Epoch: 15, LR: 0.01, Train Loss: 1.7006, Val Loss: 102.1771, Val f1 0.821\n",
      "Epoch: 20, LR: 0.01, Train Loss: 0.8196, Val Loss: 105.7050, Val f1 0.818\n"
     ]
    }
   ],
   "source": [
    "importlib.reload(model_utils)\n",
    "importlib.reload(evaluation)\n",
    "m = model_utils.GRU(pretrained_emb=True, bi=True, hidden_unit=200, device=DEVICE)\n",
    "result = train_utils.train(train_data, val_data, m, device=DEVICE,\n",
    "                          lr=1e-2, print_freq=5, max_epoch=100)"
   ]
  },
  {
   "cell_type": "code",
   "execution_count": 128,
   "metadata": {
    "collapsed": true
   },
   "outputs": [],
   "source": [
    "m = model_utils.BaseModelWithLabel()"
   ]
  },
  {
   "cell_type": "code",
   "execution_count": 132,
   "metadata": {},
   "outputs": [
    {
     "data": {
      "text/plain": [
       "Parameter containing:\n",
       "tensor([[-0.1207, -0.0573, -0.0445,  ...,  0.0945,  0.0513,  0.0837],\n",
       "        [-0.1133,  0.0192, -0.0481,  ...,  0.0215, -0.0645, -0.0524],\n",
       "        [-0.1034, -0.1239,  0.0865,  ..., -0.0780,  0.1301,  0.0391],\n",
       "        ...,\n",
       "        [ 0.0961, -0.1303,  0.1223,  ..., -0.0046,  0.1292,  0.0418],\n",
       "        [-0.1257, -0.0531, -0.1209,  ...,  0.0394,  0.0326, -0.0037],\n",
       "        [-0.0158, -0.1216, -0.0354,  ...,  0.0736,  0.0911, -0.0301]],\n",
       "       requires_grad=True)"
      ]
     },
     "execution_count": 132,
     "metadata": {},
     "output_type": "execute_result"
    }
   ],
   "source": [
    "m.final_layer2.weight"
   ]
  },
  {
   "cell_type": "markdown",
   "metadata": {},
   "source": [
    "### parameter searching - MLP\n",
    "best model so far: 3 middle layer, 100 hidden units, dropout=0.2 at second to last layer\n",
    "\n",
    "saved as ./data/model_checkpoints/MLP_Jan23.mdl"
   ]
  },
  {
   "cell_type": "markdown",
   "metadata": {},
   "source": [
    "### Parameter Searching Bidirectional LSTM "
   ]
  },
  {
   "cell_type": "markdown",
   "metadata": {},
   "source": [
    "### Evaluation"
   ]
  },
  {
   "cell_type": "code",
   "execution_count": 1112,
   "metadata": {
    "collapsed": true
   },
   "outputs": [],
   "source": [
    "emb = nn.Embedding(10, 3)"
   ]
  },
  {
   "cell_type": "code",
   "execution_count": 1114,
   "metadata": {},
   "outputs": [
    {
     "data": {
      "text/plain": [
       "Parameter containing:\n",
       "tensor([[-0.0974,  0.2542,  0.8995],\n",
       "        [ 0.3284, -1.3262,  0.2224],\n",
       "        [-0.1773, -0.5326,  0.5931],\n",
       "        [-0.4633,  0.8940,  0.3648],\n",
       "        [ 2.7178, -0.6496, -1.2509],\n",
       "        [ 2.0111,  0.7471, -2.4884],\n",
       "        [ 0.8162,  0.1524,  0.8900],\n",
       "        [-0.5783, -1.2482,  1.3301],\n",
       "        [-0.9398, -0.9525, -1.8860],\n",
       "        [-0.1170,  0.2772,  1.4776]], requires_grad=True)"
      ]
     },
     "execution_count": 1114,
     "metadata": {},
     "output_type": "execute_result"
    }
   ],
   "source": [
    "emb.weight"
   ]
  },
  {
   "cell_type": "markdown",
   "metadata": {},
   "source": [
    "### Generate submission file for kaggle "
   ]
  },
  {
   "cell_type": "code",
   "execution_count": 120,
   "metadata": {
    "collapsed": true
   },
   "outputs": [],
   "source": [
    "def get_submission(m, test_data):\n",
    "    m.eval()\n",
    "    labels = np.load(\"./data/labels.npy\")\n",
    "    final_labels = []\n",
    "    for x, y, extra in test_data:\n",
    "        pred = (torch.sigmoid(m((x, extra[\"raw_text\"]))) > 0.5).int().cpu().numpy()\n",
    "        batch_size, num_class = pred.shape\n",
    "        for i in range(batch_size):\n",
    "            pred_idx = np.arange(num_class)[(pred[i] == 1).astype('bool')] \n",
    "            if len(pred_idx) == 0:\n",
    "                pred_idx = [np.argmax(pred[i]).item()]\n",
    "            pred_label = [labels[j] for j in pred_idx]\n",
    "            if \"NO_REL\" in pred_label and len(pred_label) > 1:\n",
    "                pred_label.remove(\"NO_REL\")\n",
    "            final_labels.append(\n",
    "                {\"ID\": int(extra[\"ID\"][i]),\n",
    "                 \"CORE RELATIONS\": \" \".join(pred_label)})\n",
    "    return pd.DataFrame(final_labels)"
   ]
  },
  {
   "cell_type": "code",
   "execution_count": 121,
   "metadata": {
    "collapsed": true
   },
   "outputs": [],
   "source": [
    "label_df = get_submission(m, val_data).sort_values(by=\"ID\").set_index(\"ID\")"
   ]
  },
  {
   "cell_type": "code",
   "execution_count": 97,
   "metadata": {
    "collapsed": true
   },
   "outputs": [],
   "source": [
    "df_test = pd.read_csv(\"./data/test.csv\", index_col=\"ID\")[[\"text\", \"raw_label\"]]\n",
    "df_train = pd.read_csv(\"./data/train_real.csv\", index_col=\"ID\")[[\"text\", \"raw_label\"]]\n",
    "df_val = pd.read_csv(\"./data/val.csv\", index_col=\"ID\")[[\"text\", \"raw_label\"]]"
   ]
  },
  {
   "cell_type": "code",
   "execution_count": 84,
   "metadata": {
    "collapsed": true
   },
   "outputs": [],
   "source": [
    "today = datetime.datetime.now().strftime(\"%b%d\")\n",
    "label_df.to_csv(\"./data/submissions/{}GRU.csv\".format(today))"
   ]
  },
  {
   "cell_type": "code",
   "execution_count": 123,
   "metadata": {
    "scrolled": false
   },
   "outputs": [],
   "source": [
    "x = label_df.join(df_val)"
   ]
  },
  {
   "cell_type": "code",
   "execution_count": 106,
   "metadata": {},
   "outputs": [],
   "source": [
    "other = lambda x: \"other\"  in x\n",
    "norel = lambda x: \"NO_REL\"  in x"
   ]
  },
  {
   "cell_type": "code",
   "execution_count": 124,
   "metadata": {},
   "outputs": [
    {
     "data": {
      "text/html": [
       "<div>\n",
       "<style>\n",
       "    .dataframe thead tr:only-child th {\n",
       "        text-align: right;\n",
       "    }\n",
       "\n",
       "    .dataframe thead th {\n",
       "        text-align: left;\n",
       "    }\n",
       "\n",
       "    .dataframe tbody tr th {\n",
       "        vertical-align: top;\n",
       "    }\n",
       "</style>\n",
       "<table border=\"1\" class=\"dataframe\">\n",
       "  <thead>\n",
       "    <tr style=\"text-align: right;\">\n",
       "      <th></th>\n",
       "      <th>CORE RELATIONS</th>\n",
       "      <th>text</th>\n",
       "      <th>raw_label</th>\n",
       "    </tr>\n",
       "    <tr>\n",
       "      <th>ID</th>\n",
       "      <th></th>\n",
       "      <th></th>\n",
       "      <th></th>\n",
       "    </tr>\n",
       "  </thead>\n",
       "  <tbody>\n",
       "    <tr>\n",
       "      <th>147</th>\n",
       "      <td>NO_REL</td>\n",
       "      <td>who is in barfi</td>\n",
       "      <td>movie.starring.actor</td>\n",
       "    </tr>\n",
       "    <tr>\n",
       "      <th>219</th>\n",
       "      <td>NO_REL</td>\n",
       "      <td>how much did it take to make the avengers</td>\n",
       "      <td>movie.estimated_budget</td>\n",
       "    </tr>\n",
       "    <tr>\n",
       "      <th>500</th>\n",
       "      <td>NO_REL</td>\n",
       "      <td>who is the director of ghost busters</td>\n",
       "      <td>movie.directed_by</td>\n",
       "    </tr>\n",
       "    <tr>\n",
       "      <th>634</th>\n",
       "      <td>NO_REL</td>\n",
       "      <td>what is the movie category</td>\n",
       "      <td>movie.genre</td>\n",
       "    </tr>\n",
       "    <tr>\n",
       "      <th>700</th>\n",
       "      <td>NO_REL</td>\n",
       "      <td>what language was aguirre wrath of god in</td>\n",
       "      <td>movie.language</td>\n",
       "    </tr>\n",
       "    <tr>\n",
       "      <th>736</th>\n",
       "      <td>NO_REL</td>\n",
       "      <td>life is beautiful movie page</td>\n",
       "      <td>NO_REL</td>\n",
       "    </tr>\n",
       "    <tr>\n",
       "      <th>751</th>\n",
       "      <td>NO_REL</td>\n",
       "      <td>i would like to see will ferrell movies</td>\n",
       "      <td>movie.starring.actor</td>\n",
       "    </tr>\n",
       "    <tr>\n",
       "      <th>951</th>\n",
       "      <td>NO_REL</td>\n",
       "      <td>show me information on movie</td>\n",
       "      <td>NO_REL</td>\n",
       "    </tr>\n",
       "    <tr>\n",
       "      <th>985</th>\n",
       "      <td>NO_REL</td>\n",
       "      <td>search for movies by language</td>\n",
       "      <td>movie.language</td>\n",
       "    </tr>\n",
       "    <tr>\n",
       "      <th>985</th>\n",
       "      <td>NO_REL</td>\n",
       "      <td>search for movies by language</td>\n",
       "      <td>movie.language</td>\n",
       "    </tr>\n",
       "    <tr>\n",
       "      <th>985</th>\n",
       "      <td>NO_REL</td>\n",
       "      <td>search for movies by language</td>\n",
       "      <td>movie.language</td>\n",
       "    </tr>\n",
       "    <tr>\n",
       "      <th>985</th>\n",
       "      <td>NO_REL</td>\n",
       "      <td>search for movies by language</td>\n",
       "      <td>movie.language</td>\n",
       "    </tr>\n",
       "    <tr>\n",
       "      <th>1016</th>\n",
       "      <td>NO_REL</td>\n",
       "      <td>what are some movies that were produced in europe</td>\n",
       "      <td>movie.country</td>\n",
       "    </tr>\n",
       "    <tr>\n",
       "      <th>1016</th>\n",
       "      <td>NO_REL</td>\n",
       "      <td>what are some movies that were produced in europe</td>\n",
       "      <td>movie.country</td>\n",
       "    </tr>\n",
       "    <tr>\n",
       "      <th>1016</th>\n",
       "      <td>NO_REL</td>\n",
       "      <td>what are some movies that were produced in europe</td>\n",
       "      <td>movie.country</td>\n",
       "    </tr>\n",
       "    <tr>\n",
       "      <th>1016</th>\n",
       "      <td>NO_REL</td>\n",
       "      <td>what are some movies that were produced in europe</td>\n",
       "      <td>movie.country</td>\n",
       "    </tr>\n",
       "    <tr>\n",
       "      <th>1027</th>\n",
       "      <td>NO_REL</td>\n",
       "      <td>will you please show me info on the movie dirt...</td>\n",
       "      <td>NO_REL</td>\n",
       "    </tr>\n",
       "    <tr>\n",
       "      <th>1027</th>\n",
       "      <td>NO_REL</td>\n",
       "      <td>will you please show me info on the movie dirt...</td>\n",
       "      <td>NO_REL</td>\n",
       "    </tr>\n",
       "    <tr>\n",
       "      <th>1027</th>\n",
       "      <td>NO_REL</td>\n",
       "      <td>will you please show me info on the movie dirt...</td>\n",
       "      <td>NO_REL</td>\n",
       "    </tr>\n",
       "    <tr>\n",
       "      <th>1027</th>\n",
       "      <td>NO_REL</td>\n",
       "      <td>will you please show me info on the movie dirt...</td>\n",
       "      <td>NO_REL</td>\n",
       "    </tr>\n",
       "    <tr>\n",
       "      <th>1031</th>\n",
       "      <td>NO_REL</td>\n",
       "      <td>i want to see infomation on the movie dirty da...</td>\n",
       "      <td>NO_REL</td>\n",
       "    </tr>\n",
       "    <tr>\n",
       "      <th>1039</th>\n",
       "      <td>NO_REL</td>\n",
       "      <td>can you tell me about the movie dirty dancing ...</td>\n",
       "      <td>NO_REL</td>\n",
       "    </tr>\n",
       "    <tr>\n",
       "      <th>1055</th>\n",
       "      <td>NO_REL</td>\n",
       "      <td>i would like to view info on life is beautiful</td>\n",
       "      <td>NO_REL</td>\n",
       "    </tr>\n",
       "    <tr>\n",
       "      <th>1120</th>\n",
       "      <td>NO_REL</td>\n",
       "      <td>find a movie with mel gibson</td>\n",
       "      <td>movie.starring.actor</td>\n",
       "    </tr>\n",
       "    <tr>\n",
       "      <th>1120</th>\n",
       "      <td>NO_REL</td>\n",
       "      <td>find a movie with mel gibson</td>\n",
       "      <td>movie.starring.actor</td>\n",
       "    </tr>\n",
       "    <tr>\n",
       "      <th>1120</th>\n",
       "      <td>NO_REL</td>\n",
       "      <td>find a movie with mel gibson</td>\n",
       "      <td>movie.starring.actor</td>\n",
       "    </tr>\n",
       "    <tr>\n",
       "      <th>1120</th>\n",
       "      <td>NO_REL</td>\n",
       "      <td>find a movie with mel gibson</td>\n",
       "      <td>movie.starring.actor</td>\n",
       "    </tr>\n",
       "    <tr>\n",
       "      <th>1313</th>\n",
       "      <td>NO_REL</td>\n",
       "      <td>i am looking for movies made in france</td>\n",
       "      <td>movie.country</td>\n",
       "    </tr>\n",
       "    <tr>\n",
       "      <th>1436</th>\n",
       "      <td>movie.subjects</td>\n",
       "      <td>about finding nemo</td>\n",
       "      <td>NO_REL</td>\n",
       "    </tr>\n",
       "    <tr>\n",
       "      <th>1455</th>\n",
       "      <td>NO_REL</td>\n",
       "      <td>show me finding nemo</td>\n",
       "      <td>NO_REL</td>\n",
       "    </tr>\n",
       "    <tr>\n",
       "      <th>...</th>\n",
       "      <td>...</td>\n",
       "      <td>...</td>\n",
       "      <td>...</td>\n",
       "    </tr>\n",
       "    <tr>\n",
       "      <th>1980</th>\n",
       "      <td>actor.nationality</td>\n",
       "      <td>display biography of actor will ferrell</td>\n",
       "      <td>NO_REL</td>\n",
       "    </tr>\n",
       "    <tr>\n",
       "      <th>1985</th>\n",
       "      <td>NO_REL</td>\n",
       "      <td>search directors</td>\n",
       "      <td>NO_REL</td>\n",
       "    </tr>\n",
       "    <tr>\n",
       "      <th>2016</th>\n",
       "      <td>movie.starring.actor</td>\n",
       "      <td>bring me to will ferrell informaion</td>\n",
       "      <td>NO_REL</td>\n",
       "    </tr>\n",
       "    <tr>\n",
       "      <th>2020</th>\n",
       "      <td>NO_REL</td>\n",
       "      <td>get me bio info for will ferrell</td>\n",
       "      <td>NO_REL</td>\n",
       "    </tr>\n",
       "    <tr>\n",
       "      <th>2029</th>\n",
       "      <td>person.picture</td>\n",
       "      <td>show me a bio of will ferrell</td>\n",
       "      <td>NO_REL</td>\n",
       "    </tr>\n",
       "    <tr>\n",
       "      <th>2032</th>\n",
       "      <td>movie.starring.actor</td>\n",
       "      <td>who is will ferrell</td>\n",
       "      <td>NO_REL</td>\n",
       "    </tr>\n",
       "    <tr>\n",
       "      <th>2034</th>\n",
       "      <td>movie.starring.actor</td>\n",
       "      <td>who is will ferrell</td>\n",
       "      <td>NO_REL</td>\n",
       "    </tr>\n",
       "    <tr>\n",
       "      <th>2049</th>\n",
       "      <td>movie.starring.actor</td>\n",
       "      <td>who is kristen stewart</td>\n",
       "      <td>NO_REL</td>\n",
       "    </tr>\n",
       "    <tr>\n",
       "      <th>2055</th>\n",
       "      <td>NO_REL</td>\n",
       "      <td>show me spielberg's info</td>\n",
       "      <td>NO_REL</td>\n",
       "    </tr>\n",
       "    <tr>\n",
       "      <th>2067</th>\n",
       "      <td>NO_REL</td>\n",
       "      <td>what about steven spielberg</td>\n",
       "      <td>NO_REL</td>\n",
       "    </tr>\n",
       "    <tr>\n",
       "      <th>2072</th>\n",
       "      <td>NO_REL</td>\n",
       "      <td>information for sally field</td>\n",
       "      <td>NO_REL</td>\n",
       "    </tr>\n",
       "    <tr>\n",
       "      <th>2079</th>\n",
       "      <td>NO_REL</td>\n",
       "      <td>search for information about robert wise</td>\n",
       "      <td>NO_REL</td>\n",
       "    </tr>\n",
       "    <tr>\n",
       "      <th>2165</th>\n",
       "      <td>movie.description movie.production_companies m...</td>\n",
       "      <td>what is the history behind paramount</td>\n",
       "      <td>NO_REL</td>\n",
       "    </tr>\n",
       "    <tr>\n",
       "      <th>2214</th>\n",
       "      <td>movie.production_companies movie.rating movie....</td>\n",
       "      <td>pixar film studio</td>\n",
       "      <td>NO_REL</td>\n",
       "    </tr>\n",
       "    <tr>\n",
       "      <th>2252</th>\n",
       "      <td>NO_REL</td>\n",
       "      <td>what rating is freedom writers</td>\n",
       "      <td>movie.rating</td>\n",
       "    </tr>\n",
       "    <tr>\n",
       "      <th>2401</th>\n",
       "      <td>NO_REL</td>\n",
       "      <td>what country was the maid set in</td>\n",
       "      <td>movie.locations</td>\n",
       "    </tr>\n",
       "    <tr>\n",
       "      <th>2858</th>\n",
       "      <td>NO_REL</td>\n",
       "      <td>searching for movie prices please</td>\n",
       "      <td>movie_other</td>\n",
       "    </tr>\n",
       "    <tr>\n",
       "      <th>2950</th>\n",
       "      <td>NO_REL</td>\n",
       "      <td>albery death yr</td>\n",
       "      <td>other</td>\n",
       "    </tr>\n",
       "    <tr>\n",
       "      <th>2950</th>\n",
       "      <td>NO_REL</td>\n",
       "      <td>albery death yr</td>\n",
       "      <td>other</td>\n",
       "    </tr>\n",
       "    <tr>\n",
       "      <th>2950</th>\n",
       "      <td>NO_REL</td>\n",
       "      <td>albery death yr</td>\n",
       "      <td>other</td>\n",
       "    </tr>\n",
       "    <tr>\n",
       "      <th>2950</th>\n",
       "      <td>NO_REL</td>\n",
       "      <td>albery death yr</td>\n",
       "      <td>other</td>\n",
       "    </tr>\n",
       "    <tr>\n",
       "      <th>2959</th>\n",
       "      <td>NO_REL</td>\n",
       "      <td>des ireland have any movie festivals</td>\n",
       "      <td>other</td>\n",
       "    </tr>\n",
       "    <tr>\n",
       "      <th>2991</th>\n",
       "      <td>NO_REL</td>\n",
       "      <td>if he was still making movies would you want t...</td>\n",
       "      <td>movie_other</td>\n",
       "    </tr>\n",
       "    <tr>\n",
       "      <th>3003</th>\n",
       "      <td>NO_REL</td>\n",
       "      <td>look for information about parental guidance</td>\n",
       "      <td>movie_other</td>\n",
       "    </tr>\n",
       "    <tr>\n",
       "      <th>3032</th>\n",
       "      <td>NO_REL</td>\n",
       "      <td>show me the not rated label</td>\n",
       "      <td>movie_other</td>\n",
       "    </tr>\n",
       "    <tr>\n",
       "      <th>3036</th>\n",
       "      <td>NO_REL</td>\n",
       "      <td>thirty dance</td>\n",
       "      <td>other</td>\n",
       "    </tr>\n",
       "    <tr>\n",
       "      <th>3062</th>\n",
       "      <td>NO_REL</td>\n",
       "      <td>what is</td>\n",
       "      <td>other</td>\n",
       "    </tr>\n",
       "    <tr>\n",
       "      <th>3081</th>\n",
       "      <td>NO_REL</td>\n",
       "      <td>find</td>\n",
       "      <td>other</td>\n",
       "    </tr>\n",
       "    <tr>\n",
       "      <th>3243</th>\n",
       "      <td>NO_REL</td>\n",
       "      <td>show me the movies released in srilanka</td>\n",
       "      <td>movie.release release.region</td>\n",
       "    </tr>\n",
       "    <tr>\n",
       "      <th>3272</th>\n",
       "      <td>NO_REL</td>\n",
       "      <td>find rating information about the movie dredd</td>\n",
       "      <td>movie.rating movie.star_rating</td>\n",
       "    </tr>\n",
       "  </tbody>\n",
       "</table>\n",
       "<p>72 rows × 3 columns</p>\n",
       "</div>"
      ],
      "text/plain": [
       "                                         CORE RELATIONS  \\\n",
       "ID                                                        \n",
       "147                                              NO_REL   \n",
       "219                                              NO_REL   \n",
       "500                                              NO_REL   \n",
       "634                                              NO_REL   \n",
       "700                                              NO_REL   \n",
       "736                                              NO_REL   \n",
       "751                                              NO_REL   \n",
       "951                                              NO_REL   \n",
       "985                                              NO_REL   \n",
       "985                                              NO_REL   \n",
       "985                                              NO_REL   \n",
       "985                                              NO_REL   \n",
       "1016                                             NO_REL   \n",
       "1016                                             NO_REL   \n",
       "1016                                             NO_REL   \n",
       "1016                                             NO_REL   \n",
       "1027                                             NO_REL   \n",
       "1027                                             NO_REL   \n",
       "1027                                             NO_REL   \n",
       "1027                                             NO_REL   \n",
       "1031                                             NO_REL   \n",
       "1039                                             NO_REL   \n",
       "1055                                             NO_REL   \n",
       "1120                                             NO_REL   \n",
       "1120                                             NO_REL   \n",
       "1120                                             NO_REL   \n",
       "1120                                             NO_REL   \n",
       "1313                                             NO_REL   \n",
       "1436                                     movie.subjects   \n",
       "1455                                             NO_REL   \n",
       "...                                                 ...   \n",
       "1980                                  actor.nationality   \n",
       "1985                                             NO_REL   \n",
       "2016                               movie.starring.actor   \n",
       "2020                                             NO_REL   \n",
       "2029                                     person.picture   \n",
       "2032                               movie.starring.actor   \n",
       "2034                               movie.starring.actor   \n",
       "2049                               movie.starring.actor   \n",
       "2055                                             NO_REL   \n",
       "2067                                             NO_REL   \n",
       "2072                                             NO_REL   \n",
       "2079                                             NO_REL   \n",
       "2165  movie.description movie.production_companies m...   \n",
       "2214  movie.production_companies movie.rating movie....   \n",
       "2252                                             NO_REL   \n",
       "2401                                             NO_REL   \n",
       "2858                                             NO_REL   \n",
       "2950                                             NO_REL   \n",
       "2950                                             NO_REL   \n",
       "2950                                             NO_REL   \n",
       "2950                                             NO_REL   \n",
       "2959                                             NO_REL   \n",
       "2991                                             NO_REL   \n",
       "3003                                             NO_REL   \n",
       "3032                                             NO_REL   \n",
       "3036                                             NO_REL   \n",
       "3062                                             NO_REL   \n",
       "3081                                             NO_REL   \n",
       "3243                                             NO_REL   \n",
       "3272                                             NO_REL   \n",
       "\n",
       "                                                   text  \\\n",
       "ID                                                        \n",
       "147                                     who is in barfi   \n",
       "219           how much did it take to make the avengers   \n",
       "500                who is the director of ghost busters   \n",
       "634                          what is the movie category   \n",
       "700           what language was aguirre wrath of god in   \n",
       "736                        life is beautiful movie page   \n",
       "751             i would like to see will ferrell movies   \n",
       "951                        show me information on movie   \n",
       "985                       search for movies by language   \n",
       "985                       search for movies by language   \n",
       "985                       search for movies by language   \n",
       "985                       search for movies by language   \n",
       "1016  what are some movies that were produced in europe   \n",
       "1016  what are some movies that were produced in europe   \n",
       "1016  what are some movies that were produced in europe   \n",
       "1016  what are some movies that were produced in europe   \n",
       "1027  will you please show me info on the movie dirt...   \n",
       "1027  will you please show me info on the movie dirt...   \n",
       "1027  will you please show me info on the movie dirt...   \n",
       "1027  will you please show me info on the movie dirt...   \n",
       "1031  i want to see infomation on the movie dirty da...   \n",
       "1039  can you tell me about the movie dirty dancing ...   \n",
       "1055     i would like to view info on life is beautiful   \n",
       "1120                       find a movie with mel gibson   \n",
       "1120                       find a movie with mel gibson   \n",
       "1120                       find a movie with mel gibson   \n",
       "1120                       find a movie with mel gibson   \n",
       "1313             i am looking for movies made in france   \n",
       "1436                                 about finding nemo   \n",
       "1455                               show me finding nemo   \n",
       "...                                                 ...   \n",
       "1980            display biography of actor will ferrell   \n",
       "1985                                   search directors   \n",
       "2016                bring me to will ferrell informaion   \n",
       "2020                   get me bio info for will ferrell   \n",
       "2029                      show me a bio of will ferrell   \n",
       "2032                                who is will ferrell   \n",
       "2034                                who is will ferrell   \n",
       "2049                             who is kristen stewart   \n",
       "2055                           show me spielberg's info   \n",
       "2067                        what about steven spielberg   \n",
       "2072                        information for sally field   \n",
       "2079           search for information about robert wise   \n",
       "2165               what is the history behind paramount   \n",
       "2214                                  pixar film studio   \n",
       "2252                     what rating is freedom writers   \n",
       "2401                   what country was the maid set in   \n",
       "2858                  searching for movie prices please   \n",
       "2950                                    albery death yr   \n",
       "2950                                    albery death yr   \n",
       "2950                                    albery death yr   \n",
       "2950                                    albery death yr   \n",
       "2959               des ireland have any movie festivals   \n",
       "2991  if he was still making movies would you want t...   \n",
       "3003       look for information about parental guidance   \n",
       "3032                        show me the not rated label   \n",
       "3036                                       thirty dance   \n",
       "3062                                            what is   \n",
       "3081                                               find   \n",
       "3243            show me the movies released in srilanka   \n",
       "3272      find rating information about the movie dredd   \n",
       "\n",
       "                           raw_label  \n",
       "ID                                    \n",
       "147             movie.starring.actor  \n",
       "219           movie.estimated_budget  \n",
       "500                movie.directed_by  \n",
       "634                      movie.genre  \n",
       "700                   movie.language  \n",
       "736                           NO_REL  \n",
       "751             movie.starring.actor  \n",
       "951                           NO_REL  \n",
       "985                   movie.language  \n",
       "985                   movie.language  \n",
       "985                   movie.language  \n",
       "985                   movie.language  \n",
       "1016                   movie.country  \n",
       "1016                   movie.country  \n",
       "1016                   movie.country  \n",
       "1016                   movie.country  \n",
       "1027                          NO_REL  \n",
       "1027                          NO_REL  \n",
       "1027                          NO_REL  \n",
       "1027                          NO_REL  \n",
       "1031                          NO_REL  \n",
       "1039                          NO_REL  \n",
       "1055                          NO_REL  \n",
       "1120            movie.starring.actor  \n",
       "1120            movie.starring.actor  \n",
       "1120            movie.starring.actor  \n",
       "1120            movie.starring.actor  \n",
       "1313                   movie.country  \n",
       "1436                          NO_REL  \n",
       "1455                          NO_REL  \n",
       "...                              ...  \n",
       "1980                          NO_REL  \n",
       "1985                          NO_REL  \n",
       "2016                          NO_REL  \n",
       "2020                          NO_REL  \n",
       "2029                          NO_REL  \n",
       "2032                          NO_REL  \n",
       "2034                          NO_REL  \n",
       "2049                          NO_REL  \n",
       "2055                          NO_REL  \n",
       "2067                          NO_REL  \n",
       "2072                          NO_REL  \n",
       "2079                          NO_REL  \n",
       "2165                          NO_REL  \n",
       "2214                          NO_REL  \n",
       "2252                    movie.rating  \n",
       "2401                 movie.locations  \n",
       "2858                     movie_other  \n",
       "2950                           other  \n",
       "2950                           other  \n",
       "2950                           other  \n",
       "2950                           other  \n",
       "2959                           other  \n",
       "2991                     movie_other  \n",
       "3003                     movie_other  \n",
       "3032                     movie_other  \n",
       "3036                           other  \n",
       "3062                           other  \n",
       "3081                           other  \n",
       "3243    movie.release release.region  \n",
       "3272  movie.rating movie.star_rating  \n",
       "\n",
       "[72 rows x 3 columns]"
      ]
     },
     "execution_count": 124,
     "metadata": {},
     "output_type": "execute_result"
    }
   ],
   "source": [
    "x[(x[\"CORE RELATIONS\"].apply(norel) | x.raw_label.apply(norel))]"
   ]
  },
  {
   "cell_type": "code",
   "execution_count": 125,
   "metadata": {},
   "outputs": [
    {
     "data": {
      "text/plain": [
       "array(['actor', 'amount', 'award', 'budget', 'by', 'category',\n",
       "       'character', 'companies', 'country', 'date', 'description',\n",
       "       'directed', 'director', 'genre', 'gross', 'language', 'locations',\n",
       "       'media', 'movie', 'music', 'of', 'other', 'person', 'picture',\n",
       "       'produced', 'production', 'rating', 'release', 'revenue', 'review',\n",
       "       'showing', 'star', 'starring', 'synopsis', 'trailer', 'winning',\n",
       "       'work', 'written'], dtype='<U11')"
      ]
     },
     "execution_count": 125,
     "metadata": {},
     "output_type": "execute_result"
    }
   ],
   "source": [
    "np.load(\"./data/label_vocab_restrict.npy\")"
   ]
  },
  {
   "cell_type": "code",
   "execution_count": null,
   "metadata": {
    "collapsed": true
   },
   "outputs": [],
   "source": []
  }
 ],
 "metadata": {
  "kernelspec": {
   "display_name": "Python 3",
   "language": "python",
   "name": "python3"
  },
  "language_info": {
   "codemirror_mode": {
    "name": "ipython",
    "version": 3
   },
   "file_extension": ".py",
   "mimetype": "text/x-python",
   "name": "python",
   "nbconvert_exporter": "python",
   "pygments_lexer": "ipython3",
   "version": "3.6.2"
  }
 },
 "nbformat": 4,
 "nbformat_minor": 2
}
