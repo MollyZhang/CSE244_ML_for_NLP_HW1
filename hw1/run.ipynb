{
 "cells": [
  {
   "cell_type": "code",
   "execution_count": 1,
   "metadata": {},
   "outputs": [],
   "source": [
    "import pandas as pd\n",
    "import numpy as np\n",
    "import datetime\n",
    "import importlib\n",
    "import pickle\n",
    "\n",
    "import data_utils\n",
    "import model_utils\n",
    "import train_utils\n",
    "import evaluation\n",
    "importlib.reload(data_utils)\n",
    "importlib.reload(model_utils)\n",
    "importlib.reload(train_utils)\n",
    "importlib.reload(evaluation)\n",
    "\n",
    "import torch\n",
    "import torch.nn as nn\n",
    "from torchtext.data import TabularDataset, Field, RawField, BucketIterator, Iterator"
   ]
  },
  {
   "cell_type": "markdown",
   "metadata": {},
   "source": [
    "### read data and put in batch"
   ]
  },
  {
   "cell_type": "code",
   "execution_count": 2,
   "metadata": {},
   "outputs": [],
   "source": [
    "train_data, val_data, test_data = data_utils.prep_all_data()"
   ]
  },
  {
   "cell_type": "markdown",
   "metadata": {},
   "source": [
    "### Get models"
   ]
  },
  {
   "cell_type": "code",
   "execution_count": 51,
   "metadata": {
    "collapsed": true
   },
   "outputs": [],
   "source": [
    "m = model_utils.GRU()"
   ]
  },
  {
   "cell_type": "markdown",
   "metadata": {},
   "source": [
    "### Training "
   ]
  },
  {
   "cell_type": "code",
   "execution_count": 52,
   "metadata": {
    "scrolled": false
   },
   "outputs": [
    {
     "name": "stdout",
     "output_type": "stream",
     "text": [
      "Epoch: 0, LR: 0.01, Train Loss: 1342.4120, Val Loss: 1585.1721, Val f1 0.371\n",
      "Epoch: 5, LR: 0.01, Train Loss: 69.6258, Val Loss: 663.7563, Val f1 0.551\n",
      "Epoch: 10, LR: 0.01, Train Loss: 23.2716, Val Loss: 421.2992, Val f1 0.628\n",
      "Epoch: 15, LR: 0.01, Train Loss: 12.7965, Val Loss: 320.5760, Val f1 0.703\n",
      "Epoch: 20, LR: 0.01, Train Loss: 14.6948, Val Loss: 358.8382, Val f1 0.679\n",
      "Epoch: 25, LR: 0.01, Train Loss: 7.3142, Val Loss: 322.1897, Val f1 0.717\n",
      "Epoch: 30, LR: 0.01, Train Loss: 7.7295, Val Loss: 342.1708, Val f1 0.718\n"
     ]
    }
   ],
   "source": [
    "m = model_utils.BaseModel()\n",
    "result = train_utils.train(train_data, val_data, m, lr=1e-2, print_freq=5, max_epoch=100)"
   ]
  },
  {
   "cell_type": "code",
   "execution_count": 53,
   "metadata": {
    "scrolled": true
   },
   "outputs": [
    {
     "name": "stdout",
     "output_type": "stream",
     "text": [
      "Epoch: 0, LR: 0.01, Train Loss: 1775.5014, Val Loss: 1782.8765, Val f1 0.393\n",
      "Epoch: 5, LR: 0.01, Train Loss: 76.8718, Val Loss: 661.7449, Val f1 0.603\n",
      "Epoch: 10, LR: 0.01, Train Loss: 21.1999, Val Loss: 337.3247, Val f1 0.688\n",
      "Epoch: 15, LR: 0.01, Train Loss: 22.5691, Val Loss: 265.9539, Val f1 0.729\n",
      "Epoch: 20, LR: 0.01, Train Loss: 11.4812, Val Loss: 220.1725, Val f1 0.760\n",
      "Epoch: 25, LR: 0.01, Train Loss: 8.2103, Val Loss: 230.6065, Val f1 0.764\n",
      "Epoch: 30, LR: 0.01, Train Loss: 7.3171, Val Loss: 232.5325, Val f1 0.765\n",
      "Epoch: 35, LR: 0.001, Train Loss: 2.9667, Val Loss: 227.5091, Val f1 0.773\n",
      "Epoch: 40, LR: 0.001, Train Loss: 2.3117, Val Loss: 224.9366, Val f1 0.769\n",
      "Epoch: 45, LR: 0.0001, Train Loss: 2.1177, Val Loss: 223.7890, Val f1 0.772\n",
      "Epoch: 50, LR: 0.0001, Train Loss: 2.0566, Val Loss: 223.5312, Val f1 0.772\n"
     ]
    }
   ],
   "source": [
    "m = model_utils.BaseModel(pretrained_emb=True)\n",
    "result = train_utils.train(train_data, val_data, m, lr=1e-2, print_freq=5, max_epoch=100)"
   ]
  },
  {
   "cell_type": "code",
   "execution_count": 3,
   "metadata": {
    "scrolled": false
   },
   "outputs": [
    {
     "ename": "TypeError",
     "evalue": "embedding(): argument 'indices' (position 2) must be Tensor, not tuple",
     "output_type": "error",
     "traceback": [
      "\u001b[0;31m---------------------------------------------------------------------------\u001b[0m",
      "\u001b[0;31mTypeError\u001b[0m                                 Traceback (most recent call last)",
      "\u001b[0;32m<ipython-input-3-dcf2fc58fbb7>\u001b[0m in \u001b[0;36m<module>\u001b[0;34m()\u001b[0m\n\u001b[1;32m      1\u001b[0m \u001b[0mm\u001b[0m \u001b[0;34m=\u001b[0m \u001b[0mmodel_utils\u001b[0m\u001b[0;34m.\u001b[0m\u001b[0mBaseModel\u001b[0m\u001b[0;34m(\u001b[0m\u001b[0mpretrained_emb\u001b[0m\u001b[0;34m=\u001b[0m\u001b[0;32mTrue\u001b[0m\u001b[0;34m)\u001b[0m\u001b[0;34m\u001b[0m\u001b[0m\n\u001b[0;32m----> 2\u001b[0;31m \u001b[0mresult\u001b[0m \u001b[0;34m=\u001b[0m \u001b[0mtrain_utils\u001b[0m\u001b[0;34m.\u001b[0m\u001b[0mtrain\u001b[0m\u001b[0;34m(\u001b[0m\u001b[0mtrain_data\u001b[0m\u001b[0;34m,\u001b[0m \u001b[0mval_data\u001b[0m\u001b[0;34m,\u001b[0m \u001b[0mm\u001b[0m\u001b[0;34m,\u001b[0m \u001b[0mlr\u001b[0m\u001b[0;34m=\u001b[0m\u001b[0;36m1e-2\u001b[0m\u001b[0;34m,\u001b[0m \u001b[0mprint_freq\u001b[0m\u001b[0;34m=\u001b[0m\u001b[0;36m5\u001b[0m\u001b[0;34m,\u001b[0m \u001b[0mmax_epoch\u001b[0m\u001b[0;34m=\u001b[0m\u001b[0;36m100\u001b[0m\u001b[0;34m)\u001b[0m\u001b[0;34m\u001b[0m\u001b[0m\n\u001b[0m",
      "\u001b[0;32m~/Desktop/CSE244_ML_for_NLP/hw1/train_utils.py\u001b[0m in \u001b[0;36mtrain\u001b[0;34m(train_data, val_data, model, lr, patience, max_epoch, print_freq)\u001b[0m\n\u001b[1;32m     26\u001b[0m         \u001b[0;32mfor\u001b[0m \u001b[0mx\u001b[0m\u001b[0;34m,\u001b[0m \u001b[0my\u001b[0m\u001b[0;34m,\u001b[0m \u001b[0m_\u001b[0m \u001b[0;32min\u001b[0m \u001b[0mtrain_data\u001b[0m\u001b[0;34m:\u001b[0m\u001b[0;34m\u001b[0m\u001b[0m\n\u001b[1;32m     27\u001b[0m             \u001b[0mopt\u001b[0m\u001b[0;34m.\u001b[0m\u001b[0mzero_grad\u001b[0m\u001b[0;34m(\u001b[0m\u001b[0;34m)\u001b[0m\u001b[0;34m\u001b[0m\u001b[0m\n\u001b[0;32m---> 28\u001b[0;31m             \u001b[0mpreds\u001b[0m \u001b[0;34m=\u001b[0m \u001b[0mmodel\u001b[0m\u001b[0;34m(\u001b[0m\u001b[0;34m(\u001b[0m\u001b[0mx\u001b[0m\u001b[0;34m,\u001b[0m \u001b[0m_\u001b[0m\u001b[0;34m[\u001b[0m\u001b[0;34m\"raw_text\"\u001b[0m\u001b[0;34m]\u001b[0m\u001b[0;34m)\u001b[0m\u001b[0;34m)\u001b[0m\u001b[0;34m\u001b[0m\u001b[0m\n\u001b[0m\u001b[1;32m     29\u001b[0m             \u001b[0mloss\u001b[0m \u001b[0;34m=\u001b[0m \u001b[0mloss_func\u001b[0m\u001b[0;34m(\u001b[0m\u001b[0mpreds\u001b[0m\u001b[0;34m,\u001b[0m \u001b[0my\u001b[0m\u001b[0;34m.\u001b[0m\u001b[0mtype_as\u001b[0m\u001b[0;34m(\u001b[0m\u001b[0mpreds\u001b[0m\u001b[0;34m)\u001b[0m\u001b[0;34m)\u001b[0m\u001b[0;34m\u001b[0m\u001b[0m\n\u001b[1;32m     30\u001b[0m             \u001b[0mloss\u001b[0m\u001b[0;34m.\u001b[0m\u001b[0mbackward\u001b[0m\u001b[0;34m(\u001b[0m\u001b[0;34m)\u001b[0m\u001b[0;34m\u001b[0m\u001b[0m\n",
      "\u001b[0;32m~/anaconda3/lib/python3.6/site-packages/torch/nn/modules/module.py\u001b[0m in \u001b[0;36m__call__\u001b[0;34m(self, *input, **kwargs)\u001b[0m\n\u001b[1;32m    530\u001b[0m             \u001b[0mresult\u001b[0m \u001b[0;34m=\u001b[0m \u001b[0mself\u001b[0m\u001b[0;34m.\u001b[0m\u001b[0m_slow_forward\u001b[0m\u001b[0;34m(\u001b[0m\u001b[0;34m*\u001b[0m\u001b[0minput\u001b[0m\u001b[0;34m,\u001b[0m \u001b[0;34m**\u001b[0m\u001b[0mkwargs\u001b[0m\u001b[0;34m)\u001b[0m\u001b[0;34m\u001b[0m\u001b[0m\n\u001b[1;32m    531\u001b[0m         \u001b[0;32melse\u001b[0m\u001b[0;34m:\u001b[0m\u001b[0;34m\u001b[0m\u001b[0m\n\u001b[0;32m--> 532\u001b[0;31m             \u001b[0mresult\u001b[0m \u001b[0;34m=\u001b[0m \u001b[0mself\u001b[0m\u001b[0;34m.\u001b[0m\u001b[0mforward\u001b[0m\u001b[0;34m(\u001b[0m\u001b[0;34m*\u001b[0m\u001b[0minput\u001b[0m\u001b[0;34m,\u001b[0m \u001b[0;34m**\u001b[0m\u001b[0mkwargs\u001b[0m\u001b[0;34m)\u001b[0m\u001b[0;34m\u001b[0m\u001b[0m\n\u001b[0m\u001b[1;32m    533\u001b[0m         \u001b[0;32mfor\u001b[0m \u001b[0mhook\u001b[0m \u001b[0;32min\u001b[0m \u001b[0mself\u001b[0m\u001b[0;34m.\u001b[0m\u001b[0m_forward_hooks\u001b[0m\u001b[0;34m.\u001b[0m\u001b[0mvalues\u001b[0m\u001b[0;34m(\u001b[0m\u001b[0;34m)\u001b[0m\u001b[0;34m:\u001b[0m\u001b[0;34m\u001b[0m\u001b[0m\n\u001b[1;32m    534\u001b[0m             \u001b[0mhook_result\u001b[0m \u001b[0;34m=\u001b[0m \u001b[0mhook\u001b[0m\u001b[0;34m(\u001b[0m\u001b[0mself\u001b[0m\u001b[0;34m,\u001b[0m \u001b[0minput\u001b[0m\u001b[0;34m,\u001b[0m \u001b[0mresult\u001b[0m\u001b[0;34m)\u001b[0m\u001b[0;34m\u001b[0m\u001b[0m\n",
      "\u001b[0;32m~/Desktop/CSE244_ML_for_NLP/hw1/model_utils.py\u001b[0m in \u001b[0;36mforward\u001b[0;34m(self, seq)\u001b[0m\n\u001b[1;32m     22\u001b[0m \u001b[0;34m\u001b[0m\u001b[0m\n\u001b[1;32m     23\u001b[0m     \u001b[0;32mdef\u001b[0m \u001b[0mforward\u001b[0m\u001b[0;34m(\u001b[0m\u001b[0mself\u001b[0m\u001b[0;34m,\u001b[0m \u001b[0mseq\u001b[0m\u001b[0;34m)\u001b[0m\u001b[0;34m:\u001b[0m\u001b[0;34m\u001b[0m\u001b[0m\n\u001b[0;32m---> 24\u001b[0;31m         \u001b[0memb\u001b[0m \u001b[0;34m=\u001b[0m \u001b[0mself\u001b[0m\u001b[0;34m.\u001b[0m\u001b[0membedding\u001b[0m\u001b[0;34m(\u001b[0m\u001b[0mseq\u001b[0m\u001b[0;34m)\u001b[0m\u001b[0;34m.\u001b[0m\u001b[0msum\u001b[0m\u001b[0;34m(\u001b[0m\u001b[0mdim\u001b[0m\u001b[0;34m=\u001b[0m\u001b[0;36m0\u001b[0m\u001b[0;34m)\u001b[0m \u001b[0;31m# sum of word embedding\u001b[0m\u001b[0;34m\u001b[0m\u001b[0m\n\u001b[0m\u001b[1;32m     25\u001b[0m         \u001b[0mpreds\u001b[0m \u001b[0;34m=\u001b[0m \u001b[0mself\u001b[0m\u001b[0;34m.\u001b[0m\u001b[0mfinal_layer\u001b[0m\u001b[0;34m(\u001b[0m\u001b[0memb\u001b[0m\u001b[0;34m)\u001b[0m\u001b[0;34m\u001b[0m\u001b[0m\n\u001b[1;32m     26\u001b[0m         \u001b[0;32mreturn\u001b[0m \u001b[0mpreds\u001b[0m\u001b[0;34m\u001b[0m\u001b[0m\n",
      "\u001b[0;32m~/anaconda3/lib/python3.6/site-packages/torch/nn/modules/module.py\u001b[0m in \u001b[0;36m__call__\u001b[0;34m(self, *input, **kwargs)\u001b[0m\n\u001b[1;32m    530\u001b[0m             \u001b[0mresult\u001b[0m \u001b[0;34m=\u001b[0m \u001b[0mself\u001b[0m\u001b[0;34m.\u001b[0m\u001b[0m_slow_forward\u001b[0m\u001b[0;34m(\u001b[0m\u001b[0;34m*\u001b[0m\u001b[0minput\u001b[0m\u001b[0;34m,\u001b[0m \u001b[0;34m**\u001b[0m\u001b[0mkwargs\u001b[0m\u001b[0;34m)\u001b[0m\u001b[0;34m\u001b[0m\u001b[0m\n\u001b[1;32m    531\u001b[0m         \u001b[0;32melse\u001b[0m\u001b[0;34m:\u001b[0m\u001b[0;34m\u001b[0m\u001b[0m\n\u001b[0;32m--> 532\u001b[0;31m             \u001b[0mresult\u001b[0m \u001b[0;34m=\u001b[0m \u001b[0mself\u001b[0m\u001b[0;34m.\u001b[0m\u001b[0mforward\u001b[0m\u001b[0;34m(\u001b[0m\u001b[0;34m*\u001b[0m\u001b[0minput\u001b[0m\u001b[0;34m,\u001b[0m \u001b[0;34m**\u001b[0m\u001b[0mkwargs\u001b[0m\u001b[0;34m)\u001b[0m\u001b[0;34m\u001b[0m\u001b[0m\n\u001b[0m\u001b[1;32m    533\u001b[0m         \u001b[0;32mfor\u001b[0m \u001b[0mhook\u001b[0m \u001b[0;32min\u001b[0m \u001b[0mself\u001b[0m\u001b[0;34m.\u001b[0m\u001b[0m_forward_hooks\u001b[0m\u001b[0;34m.\u001b[0m\u001b[0mvalues\u001b[0m\u001b[0;34m(\u001b[0m\u001b[0;34m)\u001b[0m\u001b[0;34m:\u001b[0m\u001b[0;34m\u001b[0m\u001b[0m\n\u001b[1;32m    534\u001b[0m             \u001b[0mhook_result\u001b[0m \u001b[0;34m=\u001b[0m \u001b[0mhook\u001b[0m\u001b[0;34m(\u001b[0m\u001b[0mself\u001b[0m\u001b[0;34m,\u001b[0m \u001b[0minput\u001b[0m\u001b[0;34m,\u001b[0m \u001b[0mresult\u001b[0m\u001b[0;34m)\u001b[0m\u001b[0;34m\u001b[0m\u001b[0m\n",
      "\u001b[0;32m~/anaconda3/lib/python3.6/site-packages/torch/nn/modules/sparse.py\u001b[0m in \u001b[0;36mforward\u001b[0;34m(self, input)\u001b[0m\n\u001b[1;32m    112\u001b[0m         return F.embedding(\n\u001b[1;32m    113\u001b[0m             \u001b[0minput\u001b[0m\u001b[0;34m,\u001b[0m \u001b[0mself\u001b[0m\u001b[0;34m.\u001b[0m\u001b[0mweight\u001b[0m\u001b[0;34m,\u001b[0m \u001b[0mself\u001b[0m\u001b[0;34m.\u001b[0m\u001b[0mpadding_idx\u001b[0m\u001b[0;34m,\u001b[0m \u001b[0mself\u001b[0m\u001b[0;34m.\u001b[0m\u001b[0mmax_norm\u001b[0m\u001b[0;34m,\u001b[0m\u001b[0;34m\u001b[0m\u001b[0m\n\u001b[0;32m--> 114\u001b[0;31m             self.norm_type, self.scale_grad_by_freq, self.sparse)\n\u001b[0m\u001b[1;32m    115\u001b[0m \u001b[0;34m\u001b[0m\u001b[0m\n\u001b[1;32m    116\u001b[0m     \u001b[0;32mdef\u001b[0m \u001b[0mextra_repr\u001b[0m\u001b[0;34m(\u001b[0m\u001b[0mself\u001b[0m\u001b[0;34m)\u001b[0m\u001b[0;34m:\u001b[0m\u001b[0;34m\u001b[0m\u001b[0m\n",
      "\u001b[0;32m~/anaconda3/lib/python3.6/site-packages/torch/nn/functional.py\u001b[0m in \u001b[0;36membedding\u001b[0;34m(input, weight, padding_idx, max_norm, norm_type, scale_grad_by_freq, sparse)\u001b[0m\n\u001b[1;32m   1482\u001b[0m         \u001b[0;31m# remove once script supports set_grad_enabled\u001b[0m\u001b[0;34m\u001b[0m\u001b[0;34m\u001b[0m\u001b[0m\n\u001b[1;32m   1483\u001b[0m         \u001b[0m_no_grad_embedding_renorm_\u001b[0m\u001b[0;34m(\u001b[0m\u001b[0mweight\u001b[0m\u001b[0;34m,\u001b[0m \u001b[0minput\u001b[0m\u001b[0;34m,\u001b[0m \u001b[0mmax_norm\u001b[0m\u001b[0;34m,\u001b[0m \u001b[0mnorm_type\u001b[0m\u001b[0;34m)\u001b[0m\u001b[0;34m\u001b[0m\u001b[0m\n\u001b[0;32m-> 1484\u001b[0;31m     \u001b[0;32mreturn\u001b[0m \u001b[0mtorch\u001b[0m\u001b[0;34m.\u001b[0m\u001b[0membedding\u001b[0m\u001b[0;34m(\u001b[0m\u001b[0mweight\u001b[0m\u001b[0;34m,\u001b[0m \u001b[0minput\u001b[0m\u001b[0;34m,\u001b[0m \u001b[0mpadding_idx\u001b[0m\u001b[0;34m,\u001b[0m \u001b[0mscale_grad_by_freq\u001b[0m\u001b[0;34m,\u001b[0m \u001b[0msparse\u001b[0m\u001b[0;34m)\u001b[0m\u001b[0;34m\u001b[0m\u001b[0m\n\u001b[0m\u001b[1;32m   1485\u001b[0m \u001b[0;34m\u001b[0m\u001b[0m\n\u001b[1;32m   1486\u001b[0m \u001b[0;34m\u001b[0m\u001b[0m\n",
      "\u001b[0;31mTypeError\u001b[0m: embedding(): argument 'indices' (position 2) must be Tensor, not tuple"
     ]
    }
   ],
   "source": [
    "m = model_utils.BaseModel(pretrained_emb=True)\n",
    "result = train_utils.train(train_data, val_data, m, lr=1e-2, print_freq=5, max_epoch=100)"
   ]
  },
  {
   "cell_type": "code",
   "execution_count": 6,
   "metadata": {},
   "outputs": [
    {
     "name": "stdout",
     "output_type": "stream",
     "text": [
      "Epoch: 0, LR: 0.01, Train Loss: 1118.5145, Val Loss: 930.3958, Val f1 0.283\n",
      "Epoch: 5, LR: 0.01, Train Loss: 67.5343, Val Loss: 164.0427, Val f1 0.795\n",
      "Epoch: 10, LR: 0.01, Train Loss: 31.0224, Val Loss: 155.5832, Val f1 0.803\n",
      "Epoch: 15, LR: 0.01, Train Loss: 13.5891, Val Loss: 157.2919, Val f1 0.799\n",
      "Epoch: 20, LR: 0.01, Train Loss: 11.0003, Val Loss: 158.4447, Val f1 0.816\n"
     ]
    }
   ],
   "source": [
    "m1 = model_utils.BaseModelWithLabel(pretrained_emb=True).cuda()\n",
    "result = train_utils.train(train_data, val_data, m1, lr=1e-2, print_freq=5, max_epoch=100)"
   ]
  },
  {
   "cell_type": "code",
   "execution_count": 3,
   "metadata": {},
   "outputs": [
    {
     "ename": "RuntimeError",
     "evalue": "CUDA error: CUBLAS_STATUS_ALLOC_FAILED when calling `cublasCreate(handle)`",
     "output_type": "error",
     "traceback": [
      "\u001b[0;31m---------------------------------------------------------------------------\u001b[0m",
      "\u001b[0;31mRuntimeError\u001b[0m                              Traceback (most recent call last)",
      "\u001b[0;32m<ipython-input-3-4c499b8ac61a>\u001b[0m in \u001b[0;36m<module>\u001b[0;34m()\u001b[0m\n\u001b[1;32m      3\u001b[0m \u001b[0mm2\u001b[0m \u001b[0;34m=\u001b[0m \u001b[0mmodel_utils\u001b[0m\u001b[0;34m.\u001b[0m\u001b[0mGRU\u001b[0m\u001b[0;34m(\u001b[0m\u001b[0mpretrained_emb\u001b[0m\u001b[0;34m=\u001b[0m\u001b[0;32mFalse\u001b[0m\u001b[0;34m)\u001b[0m\u001b[0;34m\u001b[0m\u001b[0m\n\u001b[1;32m      4\u001b[0m \u001b[0;34m\u001b[0m\u001b[0m\n\u001b[0;32m----> 5\u001b[0;31m \u001b[0mresult\u001b[0m \u001b[0;34m=\u001b[0m \u001b[0mtrain_utils\u001b[0m\u001b[0;34m.\u001b[0m\u001b[0mtrain\u001b[0m\u001b[0;34m(\u001b[0m\u001b[0mtrain_data\u001b[0m\u001b[0;34m,\u001b[0m \u001b[0mval_data\u001b[0m\u001b[0;34m,\u001b[0m \u001b[0mm2\u001b[0m\u001b[0;34m,\u001b[0m \u001b[0mlr\u001b[0m\u001b[0;34m=\u001b[0m\u001b[0;36m1e-2\u001b[0m\u001b[0;34m,\u001b[0m \u001b[0mprint_freq\u001b[0m\u001b[0;34m=\u001b[0m\u001b[0;36m5\u001b[0m\u001b[0;34m,\u001b[0m \u001b[0mmax_epoch\u001b[0m\u001b[0;34m=\u001b[0m\u001b[0;36m100\u001b[0m\u001b[0;34m)\u001b[0m\u001b[0;34m\u001b[0m\u001b[0m\n\u001b[0m",
      "\u001b[0;32m~/Desktop/CSE244_ML_for_NLP/hw1/train_utils.py\u001b[0m in \u001b[0;36mtrain\u001b[0;34m(train_data, val_data, model, lr, patience, max_epoch, print_freq)\u001b[0m\n\u001b[1;32m     26\u001b[0m         \u001b[0;32mfor\u001b[0m \u001b[0mx\u001b[0m\u001b[0;34m,\u001b[0m \u001b[0my\u001b[0m\u001b[0;34m,\u001b[0m \u001b[0m_\u001b[0m \u001b[0;32min\u001b[0m \u001b[0mtrain_data\u001b[0m\u001b[0;34m:\u001b[0m\u001b[0;34m\u001b[0m\u001b[0m\n\u001b[1;32m     27\u001b[0m             \u001b[0mopt\u001b[0m\u001b[0;34m.\u001b[0m\u001b[0mzero_grad\u001b[0m\u001b[0;34m(\u001b[0m\u001b[0;34m)\u001b[0m\u001b[0;34m\u001b[0m\u001b[0m\n\u001b[0;32m---> 28\u001b[0;31m             \u001b[0mpreds\u001b[0m \u001b[0;34m=\u001b[0m \u001b[0mmodel\u001b[0m\u001b[0;34m(\u001b[0m\u001b[0;34m(\u001b[0m\u001b[0mx\u001b[0m\u001b[0;34m,\u001b[0m \u001b[0m_\u001b[0m\u001b[0;34m[\u001b[0m\u001b[0;34m\"raw_text\"\u001b[0m\u001b[0;34m]\u001b[0m\u001b[0;34m)\u001b[0m\u001b[0;34m)\u001b[0m\u001b[0;34m\u001b[0m\u001b[0m\n\u001b[0m\u001b[1;32m     29\u001b[0m             \u001b[0mloss\u001b[0m \u001b[0;34m=\u001b[0m \u001b[0mloss_func\u001b[0m\u001b[0;34m(\u001b[0m\u001b[0mpreds\u001b[0m\u001b[0;34m,\u001b[0m \u001b[0my\u001b[0m\u001b[0;34m.\u001b[0m\u001b[0mtype_as\u001b[0m\u001b[0;34m(\u001b[0m\u001b[0mpreds\u001b[0m\u001b[0;34m)\u001b[0m\u001b[0;34m)\u001b[0m\u001b[0;34m\u001b[0m\u001b[0m\n\u001b[1;32m     30\u001b[0m             \u001b[0mloss\u001b[0m\u001b[0;34m.\u001b[0m\u001b[0mbackward\u001b[0m\u001b[0;34m(\u001b[0m\u001b[0;34m)\u001b[0m\u001b[0;34m\u001b[0m\u001b[0m\n",
      "\u001b[0;32m~/anaconda3/lib/python3.6/site-packages/torch/nn/modules/module.py\u001b[0m in \u001b[0;36m__call__\u001b[0;34m(self, *input, **kwargs)\u001b[0m\n\u001b[1;32m    530\u001b[0m             \u001b[0mresult\u001b[0m \u001b[0;34m=\u001b[0m \u001b[0mself\u001b[0m\u001b[0;34m.\u001b[0m\u001b[0m_slow_forward\u001b[0m\u001b[0;34m(\u001b[0m\u001b[0;34m*\u001b[0m\u001b[0minput\u001b[0m\u001b[0;34m,\u001b[0m \u001b[0;34m**\u001b[0m\u001b[0mkwargs\u001b[0m\u001b[0;34m)\u001b[0m\u001b[0;34m\u001b[0m\u001b[0m\n\u001b[1;32m    531\u001b[0m         \u001b[0;32melse\u001b[0m\u001b[0;34m:\u001b[0m\u001b[0;34m\u001b[0m\u001b[0m\n\u001b[0;32m--> 532\u001b[0;31m             \u001b[0mresult\u001b[0m \u001b[0;34m=\u001b[0m \u001b[0mself\u001b[0m\u001b[0;34m.\u001b[0m\u001b[0mforward\u001b[0m\u001b[0;34m(\u001b[0m\u001b[0;34m*\u001b[0m\u001b[0minput\u001b[0m\u001b[0;34m,\u001b[0m \u001b[0;34m**\u001b[0m\u001b[0mkwargs\u001b[0m\u001b[0;34m)\u001b[0m\u001b[0;34m\u001b[0m\u001b[0m\n\u001b[0m\u001b[1;32m    533\u001b[0m         \u001b[0;32mfor\u001b[0m \u001b[0mhook\u001b[0m \u001b[0;32min\u001b[0m \u001b[0mself\u001b[0m\u001b[0;34m.\u001b[0m\u001b[0m_forward_hooks\u001b[0m\u001b[0;34m.\u001b[0m\u001b[0mvalues\u001b[0m\u001b[0;34m(\u001b[0m\u001b[0;34m)\u001b[0m\u001b[0;34m:\u001b[0m\u001b[0;34m\u001b[0m\u001b[0m\n\u001b[1;32m    534\u001b[0m             \u001b[0mhook_result\u001b[0m \u001b[0;34m=\u001b[0m \u001b[0mhook\u001b[0m\u001b[0;34m(\u001b[0m\u001b[0mself\u001b[0m\u001b[0;34m,\u001b[0m \u001b[0minput\u001b[0m\u001b[0;34m,\u001b[0m \u001b[0mresult\u001b[0m\u001b[0;34m)\u001b[0m\u001b[0;34m\u001b[0m\u001b[0m\n",
      "\u001b[0;32m~/Desktop/CSE244_ML_for_NLP/hw1/model_utils.py\u001b[0m in \u001b[0;36mforward\u001b[0;34m(self, x)\u001b[0m\n\u001b[1;32m     81\u001b[0m         \u001b[0memb\u001b[0m \u001b[0;34m=\u001b[0m \u001b[0mself\u001b[0m\u001b[0;34m.\u001b[0m\u001b[0membedding\u001b[0m\u001b[0;34m(\u001b[0m\u001b[0mseq\u001b[0m\u001b[0;34m)\u001b[0m\u001b[0;34m\u001b[0m\u001b[0m\n\u001b[1;32m     82\u001b[0m         \u001b[0moutput\u001b[0m\u001b[0;34m,\u001b[0m \u001b[0;34m(\u001b[0m\u001b[0mh\u001b[0m\u001b[0;34m,\u001b[0m \u001b[0mc\u001b[0m\u001b[0;34m)\u001b[0m \u001b[0;34m=\u001b[0m \u001b[0mself\u001b[0m\u001b[0;34m.\u001b[0m\u001b[0mgru\u001b[0m\u001b[0;34m(\u001b[0m\u001b[0memb\u001b[0m\u001b[0;34m)\u001b[0m\u001b[0;34m\u001b[0m\u001b[0m\n\u001b[0;32m---> 83\u001b[0;31m         \u001b[0mpreds\u001b[0m \u001b[0;34m=\u001b[0m \u001b[0mself\u001b[0m\u001b[0;34m.\u001b[0m\u001b[0mfinal_layer\u001b[0m\u001b[0;34m(\u001b[0m\u001b[0mh\u001b[0m\u001b[0;34m[\u001b[0m\u001b[0;34m-\u001b[0m\u001b[0;36m1\u001b[0m\u001b[0;34m,\u001b[0m \u001b[0;34m:\u001b[0m\u001b[0;34m,\u001b[0m \u001b[0;34m:\u001b[0m\u001b[0;34m]\u001b[0m\u001b[0;34m)\u001b[0m\u001b[0;34m\u001b[0m\u001b[0m\n\u001b[0m\u001b[1;32m     84\u001b[0m         \u001b[0;32mreturn\u001b[0m \u001b[0mpreds\u001b[0m\u001b[0;34m\u001b[0m\u001b[0m\n\u001b[1;32m     85\u001b[0m \u001b[0;34m\u001b[0m\u001b[0m\n",
      "\u001b[0;32m~/anaconda3/lib/python3.6/site-packages/torch/nn/modules/module.py\u001b[0m in \u001b[0;36m__call__\u001b[0;34m(self, *input, **kwargs)\u001b[0m\n\u001b[1;32m    530\u001b[0m             \u001b[0mresult\u001b[0m \u001b[0;34m=\u001b[0m \u001b[0mself\u001b[0m\u001b[0;34m.\u001b[0m\u001b[0m_slow_forward\u001b[0m\u001b[0;34m(\u001b[0m\u001b[0;34m*\u001b[0m\u001b[0minput\u001b[0m\u001b[0;34m,\u001b[0m \u001b[0;34m**\u001b[0m\u001b[0mkwargs\u001b[0m\u001b[0;34m)\u001b[0m\u001b[0;34m\u001b[0m\u001b[0m\n\u001b[1;32m    531\u001b[0m         \u001b[0;32melse\u001b[0m\u001b[0;34m:\u001b[0m\u001b[0;34m\u001b[0m\u001b[0m\n\u001b[0;32m--> 532\u001b[0;31m             \u001b[0mresult\u001b[0m \u001b[0;34m=\u001b[0m \u001b[0mself\u001b[0m\u001b[0;34m.\u001b[0m\u001b[0mforward\u001b[0m\u001b[0;34m(\u001b[0m\u001b[0;34m*\u001b[0m\u001b[0minput\u001b[0m\u001b[0;34m,\u001b[0m \u001b[0;34m**\u001b[0m\u001b[0mkwargs\u001b[0m\u001b[0;34m)\u001b[0m\u001b[0;34m\u001b[0m\u001b[0m\n\u001b[0m\u001b[1;32m    533\u001b[0m         \u001b[0;32mfor\u001b[0m \u001b[0mhook\u001b[0m \u001b[0;32min\u001b[0m \u001b[0mself\u001b[0m\u001b[0;34m.\u001b[0m\u001b[0m_forward_hooks\u001b[0m\u001b[0;34m.\u001b[0m\u001b[0mvalues\u001b[0m\u001b[0;34m(\u001b[0m\u001b[0;34m)\u001b[0m\u001b[0;34m:\u001b[0m\u001b[0;34m\u001b[0m\u001b[0m\n\u001b[1;32m    534\u001b[0m             \u001b[0mhook_result\u001b[0m \u001b[0;34m=\u001b[0m \u001b[0mhook\u001b[0m\u001b[0;34m(\u001b[0m\u001b[0mself\u001b[0m\u001b[0;34m,\u001b[0m \u001b[0minput\u001b[0m\u001b[0;34m,\u001b[0m \u001b[0mresult\u001b[0m\u001b[0;34m)\u001b[0m\u001b[0;34m\u001b[0m\u001b[0m\n",
      "\u001b[0;32m~/anaconda3/lib/python3.6/site-packages/torch/nn/modules/linear.py\u001b[0m in \u001b[0;36mforward\u001b[0;34m(self, input)\u001b[0m\n\u001b[1;32m     85\u001b[0m \u001b[0;34m\u001b[0m\u001b[0m\n\u001b[1;32m     86\u001b[0m     \u001b[0;32mdef\u001b[0m \u001b[0mforward\u001b[0m\u001b[0;34m(\u001b[0m\u001b[0mself\u001b[0m\u001b[0;34m,\u001b[0m \u001b[0minput\u001b[0m\u001b[0;34m)\u001b[0m\u001b[0;34m:\u001b[0m\u001b[0;34m\u001b[0m\u001b[0m\n\u001b[0;32m---> 87\u001b[0;31m         \u001b[0;32mreturn\u001b[0m \u001b[0mF\u001b[0m\u001b[0;34m.\u001b[0m\u001b[0mlinear\u001b[0m\u001b[0;34m(\u001b[0m\u001b[0minput\u001b[0m\u001b[0;34m,\u001b[0m \u001b[0mself\u001b[0m\u001b[0;34m.\u001b[0m\u001b[0mweight\u001b[0m\u001b[0;34m,\u001b[0m \u001b[0mself\u001b[0m\u001b[0;34m.\u001b[0m\u001b[0mbias\u001b[0m\u001b[0;34m)\u001b[0m\u001b[0;34m\u001b[0m\u001b[0m\n\u001b[0m\u001b[1;32m     88\u001b[0m \u001b[0;34m\u001b[0m\u001b[0m\n\u001b[1;32m     89\u001b[0m     \u001b[0;32mdef\u001b[0m \u001b[0mextra_repr\u001b[0m\u001b[0;34m(\u001b[0m\u001b[0mself\u001b[0m\u001b[0;34m)\u001b[0m\u001b[0;34m:\u001b[0m\u001b[0;34m\u001b[0m\u001b[0m\n",
      "\u001b[0;32m~/anaconda3/lib/python3.6/site-packages/torch/nn/functional.py\u001b[0m in \u001b[0;36mlinear\u001b[0;34m(input, weight, bias)\u001b[0m\n\u001b[1;32m   1368\u001b[0m     \u001b[0;32mif\u001b[0m \u001b[0minput\u001b[0m\u001b[0;34m.\u001b[0m\u001b[0mdim\u001b[0m\u001b[0;34m(\u001b[0m\u001b[0;34m)\u001b[0m \u001b[0;34m==\u001b[0m \u001b[0;36m2\u001b[0m \u001b[0;32mand\u001b[0m \u001b[0mbias\u001b[0m \u001b[0;32mis\u001b[0m \u001b[0;32mnot\u001b[0m \u001b[0;32mNone\u001b[0m\u001b[0;34m:\u001b[0m\u001b[0;34m\u001b[0m\u001b[0m\n\u001b[1;32m   1369\u001b[0m         \u001b[0;31m# fused op is marginally faster\u001b[0m\u001b[0;34m\u001b[0m\u001b[0;34m\u001b[0m\u001b[0m\n\u001b[0;32m-> 1370\u001b[0;31m         \u001b[0mret\u001b[0m \u001b[0;34m=\u001b[0m \u001b[0mtorch\u001b[0m\u001b[0;34m.\u001b[0m\u001b[0maddmm\u001b[0m\u001b[0;34m(\u001b[0m\u001b[0mbias\u001b[0m\u001b[0;34m,\u001b[0m \u001b[0minput\u001b[0m\u001b[0;34m,\u001b[0m \u001b[0mweight\u001b[0m\u001b[0;34m.\u001b[0m\u001b[0mt\u001b[0m\u001b[0;34m(\u001b[0m\u001b[0;34m)\u001b[0m\u001b[0;34m)\u001b[0m\u001b[0;34m\u001b[0m\u001b[0m\n\u001b[0m\u001b[1;32m   1371\u001b[0m     \u001b[0;32melse\u001b[0m\u001b[0;34m:\u001b[0m\u001b[0;34m\u001b[0m\u001b[0m\n\u001b[1;32m   1372\u001b[0m         \u001b[0moutput\u001b[0m \u001b[0;34m=\u001b[0m \u001b[0minput\u001b[0m\u001b[0;34m.\u001b[0m\u001b[0mmatmul\u001b[0m\u001b[0;34m(\u001b[0m\u001b[0mweight\u001b[0m\u001b[0;34m.\u001b[0m\u001b[0mt\u001b[0m\u001b[0;34m(\u001b[0m\u001b[0;34m)\u001b[0m\u001b[0;34m)\u001b[0m\u001b[0;34m\u001b[0m\u001b[0m\n",
      "\u001b[0;31mRuntimeError\u001b[0m: CUDA error: CUBLAS_STATUS_ALLOC_FAILED when calling `cublasCreate(handle)`"
     ]
    }
   ],
   "source": [
    "importlib.reload(model_utils)\n",
    "\n",
    "m2 = model_utils.GRU(pretrained_emb=False)\n",
    "\n",
    "result = train_utils.train(train_data, val_data, m2, lr=1e-2, print_freq=5, max_epoch=100)"
   ]
  },
  {
   "cell_type": "code",
   "execution_count": 176,
   "metadata": {
    "scrolled": true
   },
   "outputs": [
    {
     "data": {
      "text/plain": [
       "tensor([[0., 0., 0., 0., 0., 0., 0., 0., 0., 0., 0., 0., 0., 0., 0., 0., 0., 0., 0., 0.],\n",
       "        [0., 0., 0., 0., 0., 0., 0., 0., 0., 0., 0., 0., 0., 0., 0., 0., 0., 0., 0., 0.],\n",
       "        [0., 0., 0., 0., 0., 0., 0., 0., 0., 0., 0., 0., 0., 0., 0., 0., 0., 0., 0., 0.]])"
      ]
     },
     "execution_count": 176,
     "metadata": {},
     "output_type": "execute_result"
    }
   ],
   "source": [
    "torch.cat((s, s), dim=1)"
   ]
  },
  {
   "cell_type": "code",
   "execution_count": 171,
   "metadata": {},
   "outputs": [],
   "source": [
    "s = torch.zeros((3, 10))"
   ]
  },
  {
   "cell_type": "code",
   "execution_count": 173,
   "metadata": {},
   "outputs": [
    {
     "data": {
      "text/plain": [
       "torch.Size([3, 10])"
      ]
     },
     "execution_count": 173,
     "metadata": {},
     "output_type": "execute_result"
    }
   ],
   "source": [
    "s.shape"
   ]
  },
  {
   "cell_type": "markdown",
   "metadata": {},
   "source": [
    "### parameter searching - MLP\n",
    "best model so far: 3 middle layer, 100 hidden units, dropout=0.2 at second to last layer\n",
    "\n",
    "saved as ./data/model_checkpoints/MLP_Jan23.mdl"
   ]
  },
  {
   "cell_type": "markdown",
   "metadata": {},
   "source": [
    "### Parameter Searching Bidirectional LSTM "
   ]
  },
  {
   "cell_type": "markdown",
   "metadata": {},
   "source": [
    "### Evaluation"
   ]
  },
  {
   "cell_type": "code",
   "execution_count": 1112,
   "metadata": {
    "collapsed": true
   },
   "outputs": [],
   "source": [
    "emb = nn.Embedding(10, 3)"
   ]
  },
  {
   "cell_type": "code",
   "execution_count": 1114,
   "metadata": {},
   "outputs": [
    {
     "data": {
      "text/plain": [
       "Parameter containing:\n",
       "tensor([[-0.0974,  0.2542,  0.8995],\n",
       "        [ 0.3284, -1.3262,  0.2224],\n",
       "        [-0.1773, -0.5326,  0.5931],\n",
       "        [-0.4633,  0.8940,  0.3648],\n",
       "        [ 2.7178, -0.6496, -1.2509],\n",
       "        [ 2.0111,  0.7471, -2.4884],\n",
       "        [ 0.8162,  0.1524,  0.8900],\n",
       "        [-0.5783, -1.2482,  1.3301],\n",
       "        [-0.9398, -0.9525, -1.8860],\n",
       "        [-0.1170,  0.2772,  1.4776]], requires_grad=True)"
      ]
     },
     "execution_count": 1114,
     "metadata": {},
     "output_type": "execute_result"
    }
   ],
   "source": [
    "emb.weight"
   ]
  },
  {
   "cell_type": "markdown",
   "metadata": {},
   "source": [
    "### Generate submission file for kaggle "
   ]
  },
  {
   "cell_type": "code",
   "execution_count": 1108,
   "metadata": {
    "collapsed": true
   },
   "outputs": [],
   "source": [
    "def get_submission(m, test_data):\n",
    "    m.eval()\n",
    "    labels = np.load(\"./data/labels.npy\")\n",
    "    final_labels = []\n",
    "    for x, y, extra in test_data:\n",
    "        pred = (torch.sigmoid(m(x)) > 0.5).int().cpu().numpy()\n",
    "        batch_size, num_class = pred.shape\n",
    "        for i in range(batch_size):\n",
    "            pred_idx = np.arange(num_class)[(pred[i] == 1).astype('bool')] \n",
    "            if len(pred_idx) == 0:\n",
    "                pred_idx = [np.argmax(pred[i]).item()]\n",
    "            pred_label = [labels[j] for j in pred_idx]\n",
    "            final_labels.append(\n",
    "                {\"ID\": int(extra[\"ID\"][i]),\n",
    "                 \"CORE RELATIONS\": \" \".join(pred_label)})\n",
    "    return pd.DataFrame(final_labels)"
   ]
  },
  {
   "cell_type": "code",
   "execution_count": 1109,
   "metadata": {
    "collapsed": true
   },
   "outputs": [],
   "source": [
    "#m = torch.load(\"./data/model_checkpoints/MLP_Jan23.mdl\")\n",
    "train_data, val_data, test_data = data_utils.prep_all_data(\n",
    "    data_path, train_file, val_file, test_file, \n",
    "    batch_size=64)\n",
    "m = result[\"trained_model\"]"
   ]
  },
  {
   "cell_type": "code",
   "execution_count": 1110,
   "metadata": {},
   "outputs": [
    {
     "name": "stdout",
     "output_type": "stream",
     "text": [
      "0.20240240240240243\n"
     ]
    }
   ],
   "source": [
    "print(evaluation.calculate_f1(val_data, m))"
   ]
  },
  {
   "cell_type": "code",
   "execution_count": 1079,
   "metadata": {
    "collapsed": true
   },
   "outputs": [],
   "source": [
    "label_df = get_submission(m, val_data).sort_values(by=\"ID\").set_index(\"ID\")"
   ]
  },
  {
   "cell_type": "code",
   "execution_count": 989,
   "metadata": {
    "collapsed": true
   },
   "outputs": [],
   "source": [
    "df_test = pd.read_csv(\"./data/test.csv\", index_col=\"ID\")[[\"text\", \"raw_label\"]]\n",
    "df_train = pd.read_csv(\"./data/train_real.csv\", index_col=\"ID\")[[\"text\", \"raw_label\"]]\n",
    "df_val = pd.read_csv(\"./data/val.csv\", index_col=\"ID\")[[\"text\", \"raw_label\"]]"
   ]
  },
  {
   "cell_type": "code",
   "execution_count": 1080,
   "metadata": {
    "scrolled": false
   },
   "outputs": [
    {
     "data": {
      "text/html": [
       "<div>\n",
       "<style>\n",
       "    .dataframe thead tr:only-child th {\n",
       "        text-align: right;\n",
       "    }\n",
       "\n",
       "    .dataframe thead th {\n",
       "        text-align: left;\n",
       "    }\n",
       "\n",
       "    .dataframe tbody tr th {\n",
       "        vertical-align: top;\n",
       "    }\n",
       "</style>\n",
       "<table border=\"1\" class=\"dataframe\">\n",
       "  <thead>\n",
       "    <tr style=\"text-align: right;\">\n",
       "      <th></th>\n",
       "      <th>CORE RELATIONS</th>\n",
       "      <th>text</th>\n",
       "      <th>raw_label</th>\n",
       "    </tr>\n",
       "    <tr>\n",
       "      <th>ID</th>\n",
       "      <th></th>\n",
       "      <th></th>\n",
       "      <th></th>\n",
       "    </tr>\n",
       "  </thead>\n",
       "  <tbody>\n",
       "    <tr>\n",
       "      <th>0</th>\n",
       "      <td>movie.initial_release_date movie.starring.actor</td>\n",
       "      <td>who plays luke on star wars new hope</td>\n",
       "      <td>movie.starring.actor movie.starring.character</td>\n",
       "    </tr>\n",
       "    <tr>\n",
       "      <th>3</th>\n",
       "      <td>movie.starring.actor</td>\n",
       "      <td>find the female actress from the movie she s t...</td>\n",
       "      <td>movie.starring.actor actor.gender</td>\n",
       "    </tr>\n",
       "    <tr>\n",
       "      <th>7</th>\n",
       "      <td>movie.starring.actor</td>\n",
       "      <td>who was the co-star in shoot to kill</td>\n",
       "      <td>movie.starring.actor</td>\n",
       "    </tr>\n",
       "    <tr>\n",
       "      <th>21</th>\n",
       "      <td>movie.starring.actor</td>\n",
       "      <td>what's the cast for life is beautiful</td>\n",
       "      <td>movie.starring.actor</td>\n",
       "    </tr>\n",
       "    <tr>\n",
       "      <th>28</th>\n",
       "      <td>movie.starring.actor movie.starring.character</td>\n",
       "      <td>who played robin in batman forever</td>\n",
       "      <td>movie.starring.actor movie.starring.character</td>\n",
       "    </tr>\n",
       "    <tr>\n",
       "      <th>65</th>\n",
       "      <td>movie.starring.actor</td>\n",
       "      <td>find cast and crew for the movie finding nemo</td>\n",
       "      <td>movie.starring.actor</td>\n",
       "    </tr>\n",
       "    <tr>\n",
       "      <th>101</th>\n",
       "      <td>movie.starring.actor movie.starring.character</td>\n",
       "      <td>who played esme in twilight</td>\n",
       "      <td>movie.starring.actor movie.starring.character</td>\n",
       "    </tr>\n",
       "    <tr>\n",
       "      <th>108</th>\n",
       "      <td>movie.starring.actor</td>\n",
       "      <td>show me hitch's cast</td>\n",
       "      <td>movie.starring.actor</td>\n",
       "    </tr>\n",
       "    <tr>\n",
       "      <th>108</th>\n",
       "      <td>movie.starring.actor</td>\n",
       "      <td>show me hitch's cast</td>\n",
       "      <td>movie.starring.actor</td>\n",
       "    </tr>\n",
       "    <tr>\n",
       "      <th>108</th>\n",
       "      <td>movie.starring.actor</td>\n",
       "      <td>show me hitch's cast</td>\n",
       "      <td>movie.starring.actor</td>\n",
       "    </tr>\n",
       "    <tr>\n",
       "      <th>108</th>\n",
       "      <td>movie.starring.actor</td>\n",
       "      <td>show me hitch's cast</td>\n",
       "      <td>movie.starring.actor</td>\n",
       "    </tr>\n",
       "    <tr>\n",
       "      <th>120</th>\n",
       "      <td>movie.starring.actor</td>\n",
       "      <td>who is in the movie two can play that game</td>\n",
       "      <td>movie.starring.actor</td>\n",
       "    </tr>\n",
       "    <tr>\n",
       "      <th>135</th>\n",
       "      <td>movie.starring.actor</td>\n",
       "      <td>who was in now</td>\n",
       "      <td>movie.starring.actor</td>\n",
       "    </tr>\n",
       "    <tr>\n",
       "      <th>147</th>\n",
       "      <td>movie.starring.actor</td>\n",
       "      <td>who is in barfi</td>\n",
       "      <td>movie.starring.actor</td>\n",
       "    </tr>\n",
       "    <tr>\n",
       "      <th>165</th>\n",
       "      <td>movie.estimated_budget</td>\n",
       "      <td>how much did it cost to produce the dark night</td>\n",
       "      <td>movie.estimated_budget</td>\n",
       "    </tr>\n",
       "    <tr>\n",
       "      <th>174</th>\n",
       "      <td>movie.estimated_budget</td>\n",
       "      <td>how much was the budget for the hunger games</td>\n",
       "      <td>movie.estimated_budget</td>\n",
       "    </tr>\n",
       "    <tr>\n",
       "      <th>178</th>\n",
       "      <td>movie.estimated_budget</td>\n",
       "      <td>what were production costs for black swan</td>\n",
       "      <td>movie.estimated_budget</td>\n",
       "    </tr>\n",
       "    <tr>\n",
       "      <th>179</th>\n",
       "      <td>movie.estimated_budget</td>\n",
       "      <td>what was the budget for wrong turn</td>\n",
       "      <td>movie.estimated_budget</td>\n",
       "    </tr>\n",
       "    <tr>\n",
       "      <th>190</th>\n",
       "      <td>movie.estimated_budget</td>\n",
       "      <td>finding the buget of heroine</td>\n",
       "      <td>movie.estimated_budget</td>\n",
       "    </tr>\n",
       "    <tr>\n",
       "      <th>219</th>\n",
       "      <td>movie.gross_revenue</td>\n",
       "      <td>how much did it take to make the avengers</td>\n",
       "      <td>movie.estimated_budget</td>\n",
       "    </tr>\n",
       "    <tr>\n",
       "      <th>224</th>\n",
       "      <td>movie.estimated_budget</td>\n",
       "      <td>gone with the wind's budget information please</td>\n",
       "      <td>movie.estimated_budget</td>\n",
       "    </tr>\n",
       "    <tr>\n",
       "      <th>224</th>\n",
       "      <td>movie.estimated_budget</td>\n",
       "      <td>gone with the wind's budget information please</td>\n",
       "      <td>movie.estimated_budget</td>\n",
       "    </tr>\n",
       "    <tr>\n",
       "      <th>224</th>\n",
       "      <td>movie.estimated_budget</td>\n",
       "      <td>gone with the wind's budget information please</td>\n",
       "      <td>movie.estimated_budget</td>\n",
       "    </tr>\n",
       "    <tr>\n",
       "      <th>224</th>\n",
       "      <td>movie.estimated_budget</td>\n",
       "      <td>gone with the wind's budget information please</td>\n",
       "      <td>movie.estimated_budget</td>\n",
       "    </tr>\n",
       "    <tr>\n",
       "      <th>232</th>\n",
       "      <td>movie.estimated_budget</td>\n",
       "      <td>what was the budget for old school</td>\n",
       "      <td>movie.estimated_budget</td>\n",
       "    </tr>\n",
       "    <tr>\n",
       "      <th>262</th>\n",
       "      <td>movie.directed_by</td>\n",
       "      <td>how many movies has charles vidor directed</td>\n",
       "      <td>movie.directed_by</td>\n",
       "    </tr>\n",
       "    <tr>\n",
       "      <th>262</th>\n",
       "      <td>movie.directed_by</td>\n",
       "      <td>how many movies has charles vidor directed</td>\n",
       "      <td>movie.directed_by</td>\n",
       "    </tr>\n",
       "    <tr>\n",
       "      <th>262</th>\n",
       "      <td>movie.directed_by</td>\n",
       "      <td>how many movies has charles vidor directed</td>\n",
       "      <td>movie.directed_by</td>\n",
       "    </tr>\n",
       "    <tr>\n",
       "      <th>262</th>\n",
       "      <td>movie.directed_by</td>\n",
       "      <td>how many movies has charles vidor directed</td>\n",
       "      <td>movie.directed_by</td>\n",
       "    </tr>\n",
       "    <tr>\n",
       "      <th>271</th>\n",
       "      <td>movie.directed_by</td>\n",
       "      <td>how many movies has woody allen directed</td>\n",
       "      <td>movie.directed_by</td>\n",
       "    </tr>\n",
       "    <tr>\n",
       "      <th>...</th>\n",
       "      <td>...</td>\n",
       "      <td>...</td>\n",
       "      <td>...</td>\n",
       "    </tr>\n",
       "    <tr>\n",
       "      <th>3073</th>\n",
       "      <td>movie_other</td>\n",
       "      <td>whos idea was it for kung fo panda two</td>\n",
       "      <td>other</td>\n",
       "    </tr>\n",
       "    <tr>\n",
       "      <th>3081</th>\n",
       "      <td>NO_REL</td>\n",
       "      <td>find</td>\n",
       "      <td>other</td>\n",
       "    </tr>\n",
       "    <tr>\n",
       "      <th>3095</th>\n",
       "      <td>NO_REL</td>\n",
       "      <td>dirty dan</td>\n",
       "      <td>other</td>\n",
       "    </tr>\n",
       "    <tr>\n",
       "      <th>3111</th>\n",
       "      <td>movie.subjects</td>\n",
       "      <td>send dredd movie</td>\n",
       "      <td>other</td>\n",
       "    </tr>\n",
       "    <tr>\n",
       "      <th>3112</th>\n",
       "      <td>movie_other</td>\n",
       "      <td>what does pg thirteen stand for</td>\n",
       "      <td>movie_other</td>\n",
       "    </tr>\n",
       "    <tr>\n",
       "      <th>3138</th>\n",
       "      <td>movie.starring.actor</td>\n",
       "      <td>who played the mother in steel magnolias</td>\n",
       "      <td>movie.starring.actor movie.starring.character</td>\n",
       "    </tr>\n",
       "    <tr>\n",
       "      <th>3171</th>\n",
       "      <td>movie.rating</td>\n",
       "      <td>evil goes global video</td>\n",
       "      <td>movie.media</td>\n",
       "    </tr>\n",
       "    <tr>\n",
       "      <th>3175</th>\n",
       "      <td>movie.initial_release_date</td>\n",
       "      <td>watch movie omg oh nine twenty eight twenty tw...</td>\n",
       "      <td>movie.media movie.initial_release_date</td>\n",
       "    </tr>\n",
       "    <tr>\n",
       "      <th>3189</th>\n",
       "      <td>NO_REL</td>\n",
       "      <td>show me the best films of twenty eleven for wa...</td>\n",
       "      <td>movie.production_companies movie.star_rating m...</td>\n",
       "    </tr>\n",
       "    <tr>\n",
       "      <th>3190</th>\n",
       "      <td>movie.rating</td>\n",
       "      <td>tell me some of the best nc-17 movies</td>\n",
       "      <td>movie.rating movie.star_rating</td>\n",
       "    </tr>\n",
       "    <tr>\n",
       "      <th>3192</th>\n",
       "      <td>movie.directed_by movie.starring.actor</td>\n",
       "      <td>brad pitt popular movies</td>\n",
       "      <td>movie.starring.actor movie.star_rating</td>\n",
       "    </tr>\n",
       "    <tr>\n",
       "      <th>3194</th>\n",
       "      <td>NO_REL</td>\n",
       "      <td>show me a set of movie trailers</td>\n",
       "      <td>movie.trailer</td>\n",
       "    </tr>\n",
       "    <tr>\n",
       "      <th>3209</th>\n",
       "      <td>movie.country</td>\n",
       "      <td>what are the best british action movies</td>\n",
       "      <td>movie.country movie.genre movie.star_rating</td>\n",
       "    </tr>\n",
       "    <tr>\n",
       "      <th>3210</th>\n",
       "      <td>movie.country</td>\n",
       "      <td>show movies made in country</td>\n",
       "      <td>movie.country</td>\n",
       "    </tr>\n",
       "    <tr>\n",
       "      <th>3213</th>\n",
       "      <td>movie.directed_by</td>\n",
       "      <td>movies by franco zephereli</td>\n",
       "      <td>movie.directed_by</td>\n",
       "    </tr>\n",
       "    <tr>\n",
       "      <th>3214</th>\n",
       "      <td>movie.directed_by</td>\n",
       "      <td>what is the latest movie directed by director two</td>\n",
       "      <td>movie.directed_by movie.initial_release_date</td>\n",
       "    </tr>\n",
       "    <tr>\n",
       "      <th>3218</th>\n",
       "      <td>movie.directed_by movie.star_rating</td>\n",
       "      <td>what movie is robert wise famous for directing</td>\n",
       "      <td>movie.directed_by movie.star_rating</td>\n",
       "    </tr>\n",
       "    <tr>\n",
       "      <th>3243</th>\n",
       "      <td>movie.initial_release_date</td>\n",
       "      <td>show me the movies released in srilanka</td>\n",
       "      <td>movie.release release.region</td>\n",
       "    </tr>\n",
       "    <tr>\n",
       "      <th>3251</th>\n",
       "      <td>NO_REL</td>\n",
       "      <td>did life is beautiful win an academy award</td>\n",
       "      <td>movie.award award.ceremony</td>\n",
       "    </tr>\n",
       "    <tr>\n",
       "      <th>3251</th>\n",
       "      <td>NO_REL</td>\n",
       "      <td>did life is beautiful win an academy award</td>\n",
       "      <td>movie.award award.ceremony</td>\n",
       "    </tr>\n",
       "    <tr>\n",
       "      <th>3251</th>\n",
       "      <td>NO_REL</td>\n",
       "      <td>did life is beautiful win an academy award</td>\n",
       "      <td>movie.award award.ceremony</td>\n",
       "    </tr>\n",
       "    <tr>\n",
       "      <th>3251</th>\n",
       "      <td>NO_REL</td>\n",
       "      <td>did life is beautiful win an academy award</td>\n",
       "      <td>movie.award award.ceremony</td>\n",
       "    </tr>\n",
       "    <tr>\n",
       "      <th>3252</th>\n",
       "      <td>movie.directed_by</td>\n",
       "      <td>show all movies by oscar winning directors for...</td>\n",
       "      <td>director.award movie.directed_by movie.initial...</td>\n",
       "    </tr>\n",
       "    <tr>\n",
       "      <th>3272</th>\n",
       "      <td>movie.initial_release_date</td>\n",
       "      <td>find rating information about the movie dredd</td>\n",
       "      <td>movie.rating movie.star_rating</td>\n",
       "    </tr>\n",
       "    <tr>\n",
       "      <th>3290</th>\n",
       "      <td>movie.review</td>\n",
       "      <td>reviews for in july</td>\n",
       "      <td>movie.review</td>\n",
       "    </tr>\n",
       "    <tr>\n",
       "      <th>3293</th>\n",
       "      <td>movie.review</td>\n",
       "      <td>show me the reviews for in july</td>\n",
       "      <td>movie.review</td>\n",
       "    </tr>\n",
       "    <tr>\n",
       "      <th>3306</th>\n",
       "      <td>movie.review</td>\n",
       "      <td>show me the viewer ratings</td>\n",
       "      <td>movie.review</td>\n",
       "    </tr>\n",
       "    <tr>\n",
       "      <th>3308</th>\n",
       "      <td>NO_REL</td>\n",
       "      <td>is star wars four any good</td>\n",
       "      <td>movie.star_rating</td>\n",
       "    </tr>\n",
       "    <tr>\n",
       "      <th>3314</th>\n",
       "      <td>movie.rating</td>\n",
       "      <td>where is movie playing</td>\n",
       "      <td>movie.showing</td>\n",
       "    </tr>\n",
       "    <tr>\n",
       "      <th>3318</th>\n",
       "      <td>NO_REL</td>\n",
       "      <td>where can i see house at the end of the street</td>\n",
       "      <td>movie.showing</td>\n",
       "    </tr>\n",
       "  </tbody>\n",
       "</table>\n",
       "<p>371 rows × 3 columns</p>\n",
       "</div>"
      ],
      "text/plain": [
       "                                       CORE RELATIONS  \\\n",
       "ID                                                      \n",
       "0     movie.initial_release_date movie.starring.actor   \n",
       "3                                movie.starring.actor   \n",
       "7                                movie.starring.actor   \n",
       "21                               movie.starring.actor   \n",
       "28      movie.starring.actor movie.starring.character   \n",
       "65                               movie.starring.actor   \n",
       "101     movie.starring.actor movie.starring.character   \n",
       "108                              movie.starring.actor   \n",
       "108                              movie.starring.actor   \n",
       "108                              movie.starring.actor   \n",
       "108                              movie.starring.actor   \n",
       "120                              movie.starring.actor   \n",
       "135                              movie.starring.actor   \n",
       "147                              movie.starring.actor   \n",
       "165                            movie.estimated_budget   \n",
       "174                            movie.estimated_budget   \n",
       "178                            movie.estimated_budget   \n",
       "179                            movie.estimated_budget   \n",
       "190                            movie.estimated_budget   \n",
       "219                               movie.gross_revenue   \n",
       "224                            movie.estimated_budget   \n",
       "224                            movie.estimated_budget   \n",
       "224                            movie.estimated_budget   \n",
       "224                            movie.estimated_budget   \n",
       "232                            movie.estimated_budget   \n",
       "262                                 movie.directed_by   \n",
       "262                                 movie.directed_by   \n",
       "262                                 movie.directed_by   \n",
       "262                                 movie.directed_by   \n",
       "271                                 movie.directed_by   \n",
       "...                                               ...   \n",
       "3073                                      movie_other   \n",
       "3081                                           NO_REL   \n",
       "3095                                           NO_REL   \n",
       "3111                                   movie.subjects   \n",
       "3112                                      movie_other   \n",
       "3138                             movie.starring.actor   \n",
       "3171                                     movie.rating   \n",
       "3175                       movie.initial_release_date   \n",
       "3189                                           NO_REL   \n",
       "3190                                     movie.rating   \n",
       "3192           movie.directed_by movie.starring.actor   \n",
       "3194                                           NO_REL   \n",
       "3209                                    movie.country   \n",
       "3210                                    movie.country   \n",
       "3213                                movie.directed_by   \n",
       "3214                                movie.directed_by   \n",
       "3218              movie.directed_by movie.star_rating   \n",
       "3243                       movie.initial_release_date   \n",
       "3251                                           NO_REL   \n",
       "3251                                           NO_REL   \n",
       "3251                                           NO_REL   \n",
       "3251                                           NO_REL   \n",
       "3252                                movie.directed_by   \n",
       "3272                       movie.initial_release_date   \n",
       "3290                                     movie.review   \n",
       "3293                                     movie.review   \n",
       "3306                                     movie.review   \n",
       "3308                                           NO_REL   \n",
       "3314                                     movie.rating   \n",
       "3318                                           NO_REL   \n",
       "\n",
       "                                                   text  \\\n",
       "ID                                                        \n",
       "0                  who plays luke on star wars new hope   \n",
       "3     find the female actress from the movie she s t...   \n",
       "7                  who was the co-star in shoot to kill   \n",
       "21                what's the cast for life is beautiful   \n",
       "28                   who played robin in batman forever   \n",
       "65        find cast and crew for the movie finding nemo   \n",
       "101                         who played esme in twilight   \n",
       "108                                show me hitch's cast   \n",
       "108                                show me hitch's cast   \n",
       "108                                show me hitch's cast   \n",
       "108                                show me hitch's cast   \n",
       "120          who is in the movie two can play that game   \n",
       "135                                      who was in now   \n",
       "147                                     who is in barfi   \n",
       "165      how much did it cost to produce the dark night   \n",
       "174        how much was the budget for the hunger games   \n",
       "178           what were production costs for black swan   \n",
       "179                  what was the budget for wrong turn   \n",
       "190                        finding the buget of heroine   \n",
       "219           how much did it take to make the avengers   \n",
       "224      gone with the wind's budget information please   \n",
       "224      gone with the wind's budget information please   \n",
       "224      gone with the wind's budget information please   \n",
       "224      gone with the wind's budget information please   \n",
       "232                  what was the budget for old school   \n",
       "262          how many movies has charles vidor directed   \n",
       "262          how many movies has charles vidor directed   \n",
       "262          how many movies has charles vidor directed   \n",
       "262          how many movies has charles vidor directed   \n",
       "271            how many movies has woody allen directed   \n",
       "...                                                 ...   \n",
       "3073             whos idea was it for kung fo panda two   \n",
       "3081                                               find   \n",
       "3095                                          dirty dan   \n",
       "3111                                   send dredd movie   \n",
       "3112                    what does pg thirteen stand for   \n",
       "3138           who played the mother in steel magnolias   \n",
       "3171                             evil goes global video   \n",
       "3175  watch movie omg oh nine twenty eight twenty tw...   \n",
       "3189  show me the best films of twenty eleven for wa...   \n",
       "3190              tell me some of the best nc-17 movies   \n",
       "3192                           brad pitt popular movies   \n",
       "3194                    show me a set of movie trailers   \n",
       "3209            what are the best british action movies   \n",
       "3210                        show movies made in country   \n",
       "3213                         movies by franco zephereli   \n",
       "3214  what is the latest movie directed by director two   \n",
       "3218     what movie is robert wise famous for directing   \n",
       "3243            show me the movies released in srilanka   \n",
       "3251         did life is beautiful win an academy award   \n",
       "3251         did life is beautiful win an academy award   \n",
       "3251         did life is beautiful win an academy award   \n",
       "3251         did life is beautiful win an academy award   \n",
       "3252  show all movies by oscar winning directors for...   \n",
       "3272      find rating information about the movie dredd   \n",
       "3290                                reviews for in july   \n",
       "3293                    show me the reviews for in july   \n",
       "3306                         show me the viewer ratings   \n",
       "3308                         is star wars four any good   \n",
       "3314                             where is movie playing   \n",
       "3318     where can i see house at the end of the street   \n",
       "\n",
       "                                              raw_label  \n",
       "ID                                                       \n",
       "0         movie.starring.actor movie.starring.character  \n",
       "3                     movie.starring.actor actor.gender  \n",
       "7                                  movie.starring.actor  \n",
       "21                                 movie.starring.actor  \n",
       "28        movie.starring.actor movie.starring.character  \n",
       "65                                 movie.starring.actor  \n",
       "101       movie.starring.actor movie.starring.character  \n",
       "108                                movie.starring.actor  \n",
       "108                                movie.starring.actor  \n",
       "108                                movie.starring.actor  \n",
       "108                                movie.starring.actor  \n",
       "120                                movie.starring.actor  \n",
       "135                                movie.starring.actor  \n",
       "147                                movie.starring.actor  \n",
       "165                              movie.estimated_budget  \n",
       "174                              movie.estimated_budget  \n",
       "178                              movie.estimated_budget  \n",
       "179                              movie.estimated_budget  \n",
       "190                              movie.estimated_budget  \n",
       "219                              movie.estimated_budget  \n",
       "224                              movie.estimated_budget  \n",
       "224                              movie.estimated_budget  \n",
       "224                              movie.estimated_budget  \n",
       "224                              movie.estimated_budget  \n",
       "232                              movie.estimated_budget  \n",
       "262                                   movie.directed_by  \n",
       "262                                   movie.directed_by  \n",
       "262                                   movie.directed_by  \n",
       "262                                   movie.directed_by  \n",
       "271                                   movie.directed_by  \n",
       "...                                                 ...  \n",
       "3073                                              other  \n",
       "3081                                              other  \n",
       "3095                                              other  \n",
       "3111                                              other  \n",
       "3112                                        movie_other  \n",
       "3138      movie.starring.actor movie.starring.character  \n",
       "3171                                        movie.media  \n",
       "3175             movie.media movie.initial_release_date  \n",
       "3189  movie.production_companies movie.star_rating m...  \n",
       "3190                     movie.rating movie.star_rating  \n",
       "3192             movie.starring.actor movie.star_rating  \n",
       "3194                                      movie.trailer  \n",
       "3209        movie.country movie.genre movie.star_rating  \n",
       "3210                                      movie.country  \n",
       "3213                                  movie.directed_by  \n",
       "3214       movie.directed_by movie.initial_release_date  \n",
       "3218                movie.directed_by movie.star_rating  \n",
       "3243                       movie.release release.region  \n",
       "3251                         movie.award award.ceremony  \n",
       "3251                         movie.award award.ceremony  \n",
       "3251                         movie.award award.ceremony  \n",
       "3251                         movie.award award.ceremony  \n",
       "3252  director.award movie.directed_by movie.initial...  \n",
       "3272                     movie.rating movie.star_rating  \n",
       "3290                                       movie.review  \n",
       "3293                                       movie.review  \n",
       "3306                                       movie.review  \n",
       "3308                                  movie.star_rating  \n",
       "3314                                      movie.showing  \n",
       "3318                                      movie.showing  \n",
       "\n",
       "[371 rows x 3 columns]"
      ]
     },
     "execution_count": 1080,
     "metadata": {},
     "output_type": "execute_result"
    }
   ],
   "source": [
    "label_df.join(df_val)"
   ]
  },
  {
   "cell_type": "code",
   "execution_count": null,
   "metadata": {
    "collapsed": true
   },
   "outputs": [],
   "source": []
  }
 ],
 "metadata": {
  "kernelspec": {
   "display_name": "Python 3",
   "language": "python",
   "name": "python3"
  },
  "language_info": {
   "codemirror_mode": {
    "name": "ipython",
    "version": 3
   },
   "file_extension": ".py",
   "mimetype": "text/x-python",
   "name": "python",
   "nbconvert_exporter": "python",
   "pygments_lexer": "ipython3",
   "version": "3.6.2"
  }
 },
 "nbformat": 4,
 "nbformat_minor": 2
}
