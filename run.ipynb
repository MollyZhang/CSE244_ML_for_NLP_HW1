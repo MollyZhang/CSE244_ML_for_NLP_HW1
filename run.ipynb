{
 "cells": [
  {
   "cell_type": "code",
   "execution_count": 1,
   "metadata": {},
   "outputs": [
    {
     "name": "stderr",
     "output_type": "stream",
     "text": [
      "I0205 13:02:32.531080 140685029754688 file_utils.py:38] PyTorch version 1.4.0 available.\n"
     ]
    }
   ],
   "source": [
    "import pandas as pd\n",
    "import numpy as np\n",
    "import datetime\n",
    "import importlib\n",
    "import pickle\n",
    "\n",
    "import data_utils\n",
    "import model_utils\n",
    "import train_utils\n",
    "import evaluation\n",
    "import submission\n",
    "importlib.reload(data_utils)\n",
    "importlib.reload(model_utils)\n",
    "importlib.reload(train_utils)\n",
    "importlib.reload(evaluation)\n",
    "importlib.reload(submission)\n",
    "\n",
    "import torch\n",
    "import torch.nn as nn\n",
    "from torchtext.data import TabularDataset, Field, RawField, BucketIterator, Iterator\n",
    "\n",
    "from bert_embedding import BertEmbedding"
   ]
  },
  {
   "cell_type": "code",
   "execution_count": 2,
   "metadata": {
    "collapsed": true
   },
   "outputs": [],
   "source": [
    "DEVICE = \"cuda\""
   ]
  },
  {
   "cell_type": "markdown",
   "metadata": {},
   "source": [
    "### Training "
   ]
  },
  {
   "cell_type": "code",
   "execution_count": 3,
   "metadata": {
    "collapsed": true,
    "scrolled": false
   },
   "outputs": [],
   "source": [
    "train_data, val_data, test_data = data_utils.prep_all_data(\n",
    "    train_file=\"train_real.csv\", val_file=\"val.csv\", test_file=\"test.csv\", batch_size=32)"
   ]
  },
  {
   "cell_type": "code",
   "execution_count": 4,
   "metadata": {},
   "outputs": [
    {
     "name": "stdout",
     "output_type": "stream",
     "text": [
      "use fasttext pretained embedding\n",
      "Epoch: 0, LR: 0.01, Train Loss: 160.3230, Val Loss: 124.9271, Val f1 0.240\n",
      "Epoch: 5, LR: 0.01, Train Loss: 13.5899, Val Loss: 63.5656, Val f1 0.757\n",
      "Epoch: 10, LR: 0.01, Train Loss: 1.8686, Val Loss: 69.9664, Val f1 0.756\n",
      "Epoch: 15, LR: 0.01, Train Loss: 0.3052, Val Loss: 74.8807, Val f1 0.760\n",
      "Epoch: 20, LR: 0.01, Train Loss: 0.2089, Val Loss: 77.8932, Val f1 0.765\n",
      "Epoch: 25, LR: 0.001, Train Loss: 0.0958, Val Loss: 80.2702, Val f1 0.764\n",
      "Epoch: 30, LR: 0.001, Train Loss: 0.0878, Val Loss: 80.8391, Val f1 0.763\n",
      "Epoch: 35, LR: 0.001, Train Loss: 0.0824, Val Loss: 81.4625, Val f1 0.760\n",
      "Epoch: 40, LR: 0.001, Train Loss: 0.0748, Val Loss: 81.9883, Val f1 0.762\n"
     ]
    }
   ],
   "source": [
    "importlib.reload(model_utils)\n",
    "m = model_utils.GRU(num_layer=1)\n",
    "result = train_utils.train(train_data, val_data, m, device=DEVICE,\n",
    "                          lr=1e-2, print_freq=5, patience=20, max_epoch=100)\n",
    "torch.save(result[\"trained_model\"], \"./data/model_checkpoints/GRU_Feb01_1layer.mdl\")"
   ]
  },
  {
   "cell_type": "code",
   "execution_count": 5,
   "metadata": {},
   "outputs": [
    {
     "name": "stdout",
     "output_type": "stream",
     "text": [
      "use fasttext pretained embedding\n",
      "Epoch: 0, LR: 0.01, Train Loss: 169.5542, Val Loss: 137.4552, Val f1 0.144\n",
      "Epoch: 5, LR: 0.01, Train Loss: 89.4078, Val Loss: 111.3874, Val f1 0.365\n",
      "Epoch: 10, LR: 0.01, Train Loss: 47.5972, Val Loss: 90.7164, Val f1 0.573\n",
      "Epoch: 15, LR: 0.01, Train Loss: 33.1999, Val Loss: 91.2367, Val f1 0.628\n",
      "Epoch: 20, LR: 0.01, Train Loss: 33.9856, Val Loss: 87.6824, Val f1 0.642\n",
      "Epoch: 25, LR: 0.01, Train Loss: 20.5181, Val Loss: 90.8966, Val f1 0.682\n",
      "Epoch: 30, LR: 0.001, Train Loss: 11.3304, Val Loss: 93.0876, Val f1 0.703\n",
      "Epoch: 35, LR: 0.001, Train Loss: 3.1241, Val Loss: 90.4833, Val f1 0.717\n",
      "Epoch: 40, LR: 0.001, Train Loss: 2.1230, Val Loss: 89.0167, Val f1 0.714\n",
      "Epoch: 45, LR: 0.001, Train Loss: 1.6321, Val Loss: 88.5537, Val f1 0.712\n",
      "Epoch: 50, LR: 0.0001, Train Loss: 1.2929, Val Loss: 88.8563, Val f1 0.709\n",
      "Epoch: 55, LR: 0.0001, Train Loss: 1.1530, Val Loss: 88.9259, Val f1 0.706\n"
     ]
    }
   ],
   "source": [
    "importlib.reload(model_utils)\n",
    "m = model_utils.GRU(num_layer=2)\n",
    "result = train_utils.train(train_data, val_data, m, device=DEVICE,\n",
    "                          lr=1e-2, print_freq=5, patience=20, max_epoch=100)\n",
    "torch.save(result[\"trained_model\"], \"./data/model_checkpoints/GRU_Feb01_1layer.mdl\")"
   ]
  },
  {
   "cell_type": "code",
   "execution_count": 377,
   "metadata": {
    "collapsed": true
   },
   "outputs": [],
   "source": [
    "train_data_phrase, val_data_phrase, test_data_phrase = data_utils.prep_all_data(\n",
    "    path=\"./data/movie_name_condensed_data/\", \n",
    "    train_file=\"train_real.csv\", val_file=\"val.csv\", test_file=\"test.csv\")"
   ]
  },
  {
   "cell_type": "code",
   "execution_count": 305,
   "metadata": {},
   "outputs": [
    {
     "name": "stdout",
     "output_type": "stream",
     "text": [
      "Epoch: 0, LR: 0.01, Train Loss: 240.0455, Val Loss: 113.5318, Val f1 0.671\n",
      "Epoch: 5, LR: 0.01, Train Loss: 3.2005, Val Loss: 95.2006, Val f1 0.782\n",
      "Epoch: 10, LR: 0.01, Train Loss: 1.0368, Val Loss: 116.4597, Val f1 0.778\n"
     ]
    }
   ],
   "source": [
    "m = model_utils.BaseModelNGram(path=\"./data/movie_name_condensed_data/\")\n",
    "result = train_utils.train(train_data_phrase, val_data_phrase, m, device=DEVICE,\n",
    "                          lr=1e-2, print_freq=5, max_epoch=100)\n",
    "torch.save(result[\"trained_model\"], \"./data/model_checkpoints/ngram_phrase_MLP_Jan31.mdl\")"
   ]
  },
  {
   "cell_type": "code",
   "execution_count": 387,
   "metadata": {},
   "outputs": [
    {
     "name": "stdout",
     "output_type": "stream",
     "text": [
      "Epoch: 0, LR: 0.01, Train Loss: 360.3418, Val Loss: 269.7473, Val f1 0.126\n",
      "Epoch: 5, LR: 0.01, Train Loss: 30.0495, Val Loss: 122.1983, Val f1 0.737\n",
      "Epoch: 10, LR: 0.01, Train Loss: 3.8849, Val Loss: 136.4315, Val f1 0.764\n",
      "Epoch: 15, LR: 0.001, Train Loss: 1.1350, Val Loss: 143.5704, Val f1 0.754\n",
      "Epoch: 20, LR: 0.001, Train Loss: 0.9925, Val Loss: 144.8627, Val f1 0.755\n"
     ]
    }
   ],
   "source": [
    "m = model_utils.GRU(path=\"./data/movie_name_condensed_data/\")\n",
    "result = train_utils.train(train_data_phrase, val_data_phrase, m, device=DEVICE,\n",
    "                          lr=1e-2, print_freq=5, max_epoch=100)\n",
    "torch.save(result[\"trained_model\"], \"./data/model_checkpoints/GRU_phrase_Jan31.mdl\")"
   ]
  },
  {
   "cell_type": "markdown",
   "metadata": {},
   "source": [
    "### Ensemble"
   ]
  },
  {
   "cell_type": "code",
   "execution_count": 392,
   "metadata": {},
   "outputs": [
    {
     "name": "stderr",
     "output_type": "stream",
     "text": [
      "/home/molly/anaconda3/lib/python3.6/site-packages/torch/serialization.py:593: SourceChangeWarning: source code of class 'model_utils.GRU' has changed. you can retrieve the original source code by accessing the object's source attribute or set `torch.nn.Module.dump_patches = True` and use the patch tool to revert the changes.\n",
      "  warnings.warn(msg, SourceChangeWarning)\n"
     ]
    }
   ],
   "source": [
    "train_data, val_data, test_data = data_utils.prep_all_data(\n",
    "    train_file=\"train_real.csv\", val_file=\"val.csv\", test_file=\"test.csv\")\n",
    "train_data_phrase, val_data_phrase, test_data_phrase = data_utils.prep_all_data(\n",
    "    path=\"./data/movie_name_condensed_data/\", \n",
    "    train_file=\"train_real.csv\", val_file=\"val.csv\", test_file=\"test.csv\")\n",
    "\n",
    "m_gram = torch.load(\"./data/model_checkpoints/ngram_MLP_Jan31.mdl\")\n",
    "m_gram_phrase = torch.load(\"./data/model_checkpoints/ngram_phrase_MLP_Jan31.mdl\")\n",
    "m_GRU = torch.load(\"./data/model_checkpoints/GRU_Jan31.mdl\")\n",
    "m_GRU_phrase = torch.load(\"./data/model_checkpoints/GRU_phrase_Jan31.mdl\")"
   ]
  },
  {
   "cell_type": "code",
   "execution_count": 393,
   "metadata": {},
   "outputs": [
    {
     "name": "stdout",
     "output_type": "stream",
     "text": [
      "ensemble f1 val score: 0.8322322322322322\n"
     ]
    }
   ],
   "source": [
    "importlib.reload(submission)\n",
    "\n",
    "ensemble = submission.Ensemble(models=[m_gram, m_gram_phrase, m_GRU, m_GRU_phrase], \n",
    "                               val_data=[val_data, val_data_phrase, val_data, val_data_phrase],\n",
    "                               test_data=[test_data, test_data_phrase, test_data, val_data_phrase])\n",
    "df_val = ensemble.get_ensemble_result(submission=False)"
   ]
  },
  {
   "cell_type": "code",
   "execution_count": 394,
   "metadata": {},
   "outputs": [
    {
     "name": "stdout",
     "output_type": "stream",
     "text": [
      "ensemble f1 val score: 0.8322322322322322\n"
     ]
    }
   ],
   "source": [
    "importlib.reload(submission)\n",
    "\n",
    "ensemble = submission.Ensemble(models=[m_gram, m_gram_phrase, m_GRU, m_GRU_phrase], \n",
    "                               val_data=[val_data, val_data_phrase, val_data, val_data_phrase],\n",
    "                               test_data=[test_data, test_data_phrase, test_data, val_data_phrase])\n",
    "df_val = ensemble.get_ensemble_result(submission=False)"
   ]
  },
  {
   "cell_type": "markdown",
   "metadata": {},
   "source": [
    "### Generate submission file for kaggle "
   ]
  },
  {
   "cell_type": "code",
   "execution_count": 384,
   "metadata": {},
   "outputs": [
    {
     "name": "stderr",
     "output_type": "stream",
     "text": [
      "/home/molly/Desktop/CSE244_ML_for_NLP/hw1/submission.py:87: RuntimeWarning: invalid value encountered in greater\n",
      "  pred_idx = np.arange(num_class)[(preds[i, :] > 0.5).astype(bool)]\n"
     ]
    }
   ],
   "source": [
    "df = ensemble.get_ensemble_result(submission=True)\n",
    "ensemble.save_submission_file(\"ft_pretrain_GRU\")"
   ]
  },
  {
   "cell_type": "markdown",
   "metadata": {
    "collapsed": true
   },
   "source": [
    "### Error analysis for best model"
   ]
  },
  {
   "cell_type": "code",
   "execution_count": 354,
   "metadata": {
    "scrolled": true
   },
   "outputs": [
    {
     "data": {
      "text/plain": [
       "(77, 3)"
      ]
     },
     "execution_count": 354,
     "metadata": {},
     "output_type": "execute_result"
    }
   ],
   "source": [
    "errors = df_val[df_val[\"CORE RELATIONS\"]!=df_val.raw_label]; errors.shape\n",
    "correct = df_val[df_val[\"CORE RELATIONS\"]==df_val.raw_label]; errors.shape"
   ]
  },
  {
   "cell_type": "code",
   "execution_count": 355,
   "metadata": {},
   "outputs": [
    {
     "data": {
      "text/plain": [
       "0.7687687687687688"
      ]
     },
     "execution_count": 355,
     "metadata": {},
     "output_type": "execute_result"
    }
   ],
   "source": [
    "accuracy = 1-len(errors)/len(df_val); accuracy"
   ]
  },
  {
   "cell_type": "code",
   "execution_count": 370,
   "metadata": {},
   "outputs": [
    {
     "name": "stdout",
     "output_type": "stream",
     "text": [
      "NO_REL\n",
      "0.833\n",
      "movie.directed_by\n",
      "0.737\n",
      "movie.starring.actor\n",
      "0.862\n",
      "movie.rating\n",
      "0.870\n",
      "movie_other\n",
      "0.450\n",
      "movie.subjects\n",
      "1.000\n",
      "other\n",
      "0.474\n",
      "movie.initial_release_date\n",
      "1.000\n",
      "movie.language\n",
      "0.889\n",
      "movie.produced_by\n",
      "1.000\n",
      "movie.estimated_budget\n",
      "0.917\n",
      "movie.country\n",
      "0.909\n",
      "movie.gross_revenue\n",
      "1.000\n",
      "movie.production_companies\n",
      "0.889\n",
      "movie.country movie.language\n",
      "0.833\n",
      "movie.genre\n",
      "1.000\n"
     ]
    }
   ],
   "source": [
    "for category, count in df_val.raw_label.value_counts().iteritems():\n",
    "    if count < 5:\n",
    "        continue\n",
    "    print(category)\n",
    "    num_correct = correct[correct.raw_label.isin([category])].shape[0]\n",
    "    accuracy = num_correct/count\n",
    "    print(\"{0:.3f}\".format(accuracy))"
   ]
  },
  {
   "cell_type": "code",
   "execution_count": 371,
   "metadata": {
    "scrolled": false
   },
   "outputs": [
    {
     "data": {
      "text/html": [
       "<div>\n",
       "<style>\n",
       "    .dataframe thead tr:only-child th {\n",
       "        text-align: right;\n",
       "    }\n",
       "\n",
       "    .dataframe thead th {\n",
       "        text-align: left;\n",
       "    }\n",
       "\n",
       "    .dataframe tbody tr th {\n",
       "        vertical-align: top;\n",
       "    }\n",
       "</style>\n",
       "<table border=\"1\" class=\"dataframe\">\n",
       "  <thead>\n",
       "    <tr style=\"text-align: right;\">\n",
       "      <th></th>\n",
       "      <th>CORE RELATIONS</th>\n",
       "      <th>text</th>\n",
       "      <th>raw_label</th>\n",
       "    </tr>\n",
       "    <tr>\n",
       "      <th>ID</th>\n",
       "      <th></th>\n",
       "      <th></th>\n",
       "      <th></th>\n",
       "    </tr>\n",
       "  </thead>\n",
       "  <tbody>\n",
       "    <tr>\n",
       "      <th>2844</th>\n",
       "      <td>other</td>\n",
       "      <td>find movie based on criteria</td>\n",
       "      <td>movie_other</td>\n",
       "    </tr>\n",
       "    <tr>\n",
       "      <th>2873</th>\n",
       "      <td>movie.genre</td>\n",
       "      <td>movie type</td>\n",
       "      <td>movie_other</td>\n",
       "    </tr>\n",
       "    <tr>\n",
       "      <th>2882</th>\n",
       "      <td>NO_REL</td>\n",
       "      <td>is kristen stewart really dating robert pattinson</td>\n",
       "      <td>movie_other</td>\n",
       "    </tr>\n",
       "    <tr>\n",
       "      <th>2889</th>\n",
       "      <td>NO_REL</td>\n",
       "      <td>middle aged white actors</td>\n",
       "      <td>movie_other</td>\n",
       "    </tr>\n",
       "    <tr>\n",
       "      <th>2896</th>\n",
       "      <td>movie.genre</td>\n",
       "      <td>search for dramas like downton abbey</td>\n",
       "      <td>movie_other</td>\n",
       "    </tr>\n",
       "    <tr>\n",
       "      <th>2914</th>\n",
       "      <td>movie.subjects</td>\n",
       "      <td>after watching this movie will i have nightmar...</td>\n",
       "      <td>movie_other</td>\n",
       "    </tr>\n",
       "    <tr>\n",
       "      <th>2922</th>\n",
       "      <td>movie_other</td>\n",
       "      <td>what do the actors speak</td>\n",
       "      <td>other</td>\n",
       "    </tr>\n",
       "    <tr>\n",
       "      <th>2939</th>\n",
       "      <td>movie.genre</td>\n",
       "      <td>scary</td>\n",
       "      <td>other</td>\n",
       "    </tr>\n",
       "    <tr>\n",
       "      <th>2943</th>\n",
       "      <td>movie.subjects other</td>\n",
       "      <td>zombies</td>\n",
       "      <td>other</td>\n",
       "    </tr>\n",
       "    <tr>\n",
       "      <th>2951</th>\n",
       "      <td>NO_REL</td>\n",
       "      <td>arabic life of a movie</td>\n",
       "      <td>other</td>\n",
       "    </tr>\n",
       "    <tr>\n",
       "      <th>2964</th>\n",
       "      <td>movie.directed_by</td>\n",
       "      <td>did you have fun directing gilda mister vidor</td>\n",
       "      <td>movie_other</td>\n",
       "    </tr>\n",
       "    <tr>\n",
       "      <th>2971</th>\n",
       "      <td>NO_REL</td>\n",
       "      <td>england will you make movie about the life of ...</td>\n",
       "      <td>movie_other</td>\n",
       "    </tr>\n",
       "    <tr>\n",
       "      <th>2977</th>\n",
       "      <td>NO_REL</td>\n",
       "      <td>goto greyscale</td>\n",
       "      <td>other</td>\n",
       "    </tr>\n",
       "    <tr>\n",
       "      <th>3004</th>\n",
       "      <td>movie_other</td>\n",
       "      <td>mister lester did you get to meet the beatles</td>\n",
       "      <td>other</td>\n",
       "    </tr>\n",
       "    <tr>\n",
       "      <th>3009</th>\n",
       "      <td>movie_other</td>\n",
       "      <td>paramount- do you pay all the expenses for the...</td>\n",
       "      <td>other</td>\n",
       "    </tr>\n",
       "    <tr>\n",
       "      <th>3013</th>\n",
       "      <td>NO_REL</td>\n",
       "      <td>r info</td>\n",
       "      <td>movie_other</td>\n",
       "    </tr>\n",
       "    <tr>\n",
       "      <th>3014</th>\n",
       "      <td>movie.rating</td>\n",
       "      <td>r rating means sex or nudity</td>\n",
       "      <td>movie_other</td>\n",
       "    </tr>\n",
       "    <tr>\n",
       "      <th>3022</th>\n",
       "      <td>movie.language</td>\n",
       "      <td>show information in english</td>\n",
       "      <td>other</td>\n",
       "    </tr>\n",
       "    <tr>\n",
       "      <th>3065</th>\n",
       "      <td>movie.rating</td>\n",
       "      <td>what is the g rating</td>\n",
       "      <td>movie_other</td>\n",
       "    </tr>\n",
       "    <tr>\n",
       "      <th>3079</th>\n",
       "      <td>movie_other</td>\n",
       "      <td>searching for maps</td>\n",
       "      <td>other</td>\n",
       "    </tr>\n",
       "    <tr>\n",
       "      <th>3120</th>\n",
       "      <td>movie.directed_by</td>\n",
       "      <td>was the poularity good or bad</td>\n",
       "      <td>other</td>\n",
       "    </tr>\n",
       "  </tbody>\n",
       "</table>\n",
       "</div>"
      ],
      "text/plain": [
       "            CORE RELATIONS                                               text  \\\n",
       "ID                                                                              \n",
       "2844                 other                       find movie based on criteria   \n",
       "2873           movie.genre                                         movie type   \n",
       "2882                NO_REL  is kristen stewart really dating robert pattinson   \n",
       "2889                NO_REL                           middle aged white actors   \n",
       "2896           movie.genre               search for dramas like downton abbey   \n",
       "2914        movie.subjects  after watching this movie will i have nightmar...   \n",
       "2922           movie_other                           what do the actors speak   \n",
       "2939           movie.genre                                              scary   \n",
       "2943  movie.subjects other                                            zombies   \n",
       "2951                NO_REL                             arabic life of a movie   \n",
       "2964     movie.directed_by      did you have fun directing gilda mister vidor   \n",
       "2971                NO_REL  england will you make movie about the life of ...   \n",
       "2977                NO_REL                                     goto greyscale   \n",
       "3004           movie_other      mister lester did you get to meet the beatles   \n",
       "3009           movie_other  paramount- do you pay all the expenses for the...   \n",
       "3013                NO_REL                                             r info   \n",
       "3014          movie.rating                       r rating means sex or nudity   \n",
       "3022        movie.language                        show information in english   \n",
       "3065          movie.rating                               what is the g rating   \n",
       "3079           movie_other                                 searching for maps   \n",
       "3120     movie.directed_by                      was the poularity good or bad   \n",
       "\n",
       "        raw_label  \n",
       "ID                 \n",
       "2844  movie_other  \n",
       "2873  movie_other  \n",
       "2882  movie_other  \n",
       "2889  movie_other  \n",
       "2896  movie_other  \n",
       "2914  movie_other  \n",
       "2922        other  \n",
       "2939        other  \n",
       "2943        other  \n",
       "2951        other  \n",
       "2964  movie_other  \n",
       "2971  movie_other  \n",
       "2977        other  \n",
       "3004        other  \n",
       "3009        other  \n",
       "3013  movie_other  \n",
       "3014  movie_other  \n",
       "3022        other  \n",
       "3065  movie_other  \n",
       "3079        other  \n",
       "3120        other  "
      ]
     },
     "execution_count": 371,
     "metadata": {},
     "output_type": "execute_result"
    }
   ],
   "source": [
    "errors[errors.raw_label.isin([\"other\", \"movie_other\"])]"
   ]
  },
  {
   "cell_type": "code",
   "execution_count": 372,
   "metadata": {},
   "outputs": [
    {
     "data": {
      "text/html": [
       "<div>\n",
       "<style>\n",
       "    .dataframe thead tr:only-child th {\n",
       "        text-align: right;\n",
       "    }\n",
       "\n",
       "    .dataframe thead th {\n",
       "        text-align: left;\n",
       "    }\n",
       "\n",
       "    .dataframe tbody tr th {\n",
       "        vertical-align: top;\n",
       "    }\n",
       "</style>\n",
       "<table border=\"1\" class=\"dataframe\">\n",
       "  <thead>\n",
       "    <tr style=\"text-align: right;\">\n",
       "      <th></th>\n",
       "      <th>CORE RELATIONS</th>\n",
       "      <th>text</th>\n",
       "      <th>raw_label</th>\n",
       "    </tr>\n",
       "    <tr>\n",
       "      <th>ID</th>\n",
       "      <th></th>\n",
       "      <th></th>\n",
       "      <th></th>\n",
       "    </tr>\n",
       "  </thead>\n",
       "  <tbody>\n",
       "    <tr>\n",
       "      <th>2851</th>\n",
       "      <td>movie_other</td>\n",
       "      <td>search by box-office rating</td>\n",
       "      <td>movie_other</td>\n",
       "    </tr>\n",
       "    <tr>\n",
       "      <th>2855</th>\n",
       "      <td>movie_other</td>\n",
       "      <td>search by stars</td>\n",
       "      <td>movie_other</td>\n",
       "    </tr>\n",
       "    <tr>\n",
       "      <th>2857</th>\n",
       "      <td>movie_other</td>\n",
       "      <td>searching for cheap movies</td>\n",
       "      <td>movie_other</td>\n",
       "    </tr>\n",
       "    <tr>\n",
       "      <th>2861</th>\n",
       "      <td>movie_other</td>\n",
       "      <td>where can i rent this movie</td>\n",
       "      <td>movie_other</td>\n",
       "    </tr>\n",
       "    <tr>\n",
       "      <th>2894</th>\n",
       "      <td>movie_other</td>\n",
       "      <td>movies like in july</td>\n",
       "      <td>movie_other</td>\n",
       "    </tr>\n",
       "    <tr>\n",
       "      <th>2904</th>\n",
       "      <td>movie_other</td>\n",
       "      <td>what other movies are about the holocaust simi...</td>\n",
       "      <td>movie_other</td>\n",
       "    </tr>\n",
       "    <tr>\n",
       "      <th>2954</th>\n",
       "      <td>other</td>\n",
       "      <td>can i have a map of britain please</td>\n",
       "      <td>other</td>\n",
       "    </tr>\n",
       "    <tr>\n",
       "      <th>2972</th>\n",
       "      <td>other</td>\n",
       "      <td>find map of canada</td>\n",
       "      <td>other</td>\n",
       "    </tr>\n",
       "    <tr>\n",
       "      <th>2973</th>\n",
       "      <td>other</td>\n",
       "      <td>find select info</td>\n",
       "      <td>other</td>\n",
       "    </tr>\n",
       "    <tr>\n",
       "      <th>2976</th>\n",
       "      <td>other</td>\n",
       "      <td>give me more information about the text highli...</td>\n",
       "      <td>other</td>\n",
       "    </tr>\n",
       "    <tr>\n",
       "      <th>2986</th>\n",
       "      <td>movie_other</td>\n",
       "      <td>how popular do you think the movie will be</td>\n",
       "      <td>movie_other</td>\n",
       "    </tr>\n",
       "    <tr>\n",
       "      <th>3001</th>\n",
       "      <td>other</td>\n",
       "      <td>jenn ann house</td>\n",
       "      <td>other</td>\n",
       "    </tr>\n",
       "    <tr>\n",
       "      <th>3006</th>\n",
       "      <td>movie_other</td>\n",
       "      <td>movie parental guidance rating scale</td>\n",
       "      <td>movie_other</td>\n",
       "    </tr>\n",
       "    <tr>\n",
       "      <th>3030</th>\n",
       "      <td>other</td>\n",
       "      <td>show me the credits in orange</td>\n",
       "      <td>other</td>\n",
       "    </tr>\n",
       "    <tr>\n",
       "      <th>3057</th>\n",
       "      <td>other</td>\n",
       "      <td>what does the flag of greece look like</td>\n",
       "      <td>other</td>\n",
       "    </tr>\n",
       "    <tr>\n",
       "      <th>3096</th>\n",
       "      <td>other</td>\n",
       "      <td>july</td>\n",
       "      <td>other</td>\n",
       "    </tr>\n",
       "    <tr>\n",
       "      <th>3097</th>\n",
       "      <td>movie_other</td>\n",
       "      <td>pg thirteen information</td>\n",
       "      <td>movie_other</td>\n",
       "    </tr>\n",
       "    <tr>\n",
       "      <th>3115</th>\n",
       "      <td>other</td>\n",
       "      <td>want page</td>\n",
       "      <td>other</td>\n",
       "    </tr>\n",
       "  </tbody>\n",
       "</table>\n",
       "</div>"
      ],
      "text/plain": [
       "     CORE RELATIONS                                               text  \\\n",
       "ID                                                                       \n",
       "2851    movie_other                        search by box-office rating   \n",
       "2855    movie_other                                    search by stars   \n",
       "2857    movie_other                         searching for cheap movies   \n",
       "2861    movie_other                        where can i rent this movie   \n",
       "2894    movie_other                                movies like in july   \n",
       "2904    movie_other  what other movies are about the holocaust simi...   \n",
       "2954          other                 can i have a map of britain please   \n",
       "2972          other                                 find map of canada   \n",
       "2973          other                                   find select info   \n",
       "2976          other  give me more information about the text highli...   \n",
       "2986    movie_other         how popular do you think the movie will be   \n",
       "3001          other                                     jenn ann house   \n",
       "3006    movie_other               movie parental guidance rating scale   \n",
       "3030          other                      show me the credits in orange   \n",
       "3057          other             what does the flag of greece look like   \n",
       "3096          other                                               july   \n",
       "3097    movie_other                            pg thirteen information   \n",
       "3115          other                                          want page   \n",
       "\n",
       "        raw_label  \n",
       "ID                 \n",
       "2851  movie_other  \n",
       "2855  movie_other  \n",
       "2857  movie_other  \n",
       "2861  movie_other  \n",
       "2894  movie_other  \n",
       "2904  movie_other  \n",
       "2954        other  \n",
       "2972        other  \n",
       "2973        other  \n",
       "2976        other  \n",
       "2986  movie_other  \n",
       "3001        other  \n",
       "3006  movie_other  \n",
       "3030        other  \n",
       "3057        other  \n",
       "3096        other  \n",
       "3097  movie_other  \n",
       "3115        other  "
      ]
     },
     "execution_count": 372,
     "metadata": {},
     "output_type": "execute_result"
    }
   ],
   "source": [
    "correct[correct.raw_label.isin([\"other\", \"movie_other\"])]"
   ]
  },
  {
   "cell_type": "code",
   "execution_count": 350,
   "metadata": {
    "collapsed": true
   },
   "outputs": [],
   "source": [
    "df_train = pd.read_csv(\"./data/train_real.csv\", index_col=\"ID\")[[\"text\", \"raw_label\"]]\n",
    "df_test = pd.read_csv(\"./data/holdout_test.csv\", index_col=\"ID\")[[\"text\", \"raw_label\"]]\n",
    "df_val = pd.read_csv(\"./data/val.csv\", index_col=\"ID\")[[\"text\", \"raw_label\"]]\n",
    "df_all_train = pd.read_csv(\"./data/train.csv\", index_col=\"ID\")[[\"text\", \"raw_label\"]]"
   ]
  },
  {
   "cell_type": "code",
   "execution_count": 351,
   "metadata": {},
   "outputs": [
    {
     "data": {
      "text/html": [
       "<div>\n",
       "<style>\n",
       "    .dataframe thead tr:only-child th {\n",
       "        text-align: right;\n",
       "    }\n",
       "\n",
       "    .dataframe thead th {\n",
       "        text-align: left;\n",
       "    }\n",
       "\n",
       "    .dataframe tbody tr th {\n",
       "        vertical-align: top;\n",
       "    }\n",
       "</style>\n",
       "<table border=\"1\" class=\"dataframe\">\n",
       "  <thead>\n",
       "    <tr style=\"text-align: right;\">\n",
       "      <th></th>\n",
       "      <th>text</th>\n",
       "      <th>raw_label</th>\n",
       "    </tr>\n",
       "    <tr>\n",
       "      <th>ID</th>\n",
       "      <th></th>\n",
       "      <th></th>\n",
       "    </tr>\n",
       "  </thead>\n",
       "  <tbody>\n",
       "    <tr>\n",
       "      <th>735</th>\n",
       "      <td>i need movie information for life is beautiful</td>\n",
       "      <td>NO_REL</td>\n",
       "    </tr>\n",
       "    <tr>\n",
       "      <th>737</th>\n",
       "      <td>i want to know more about the movie life is be...</td>\n",
       "      <td>NO_REL</td>\n",
       "    </tr>\n",
       "    <tr>\n",
       "      <th>738</th>\n",
       "      <td>i would like info on the movie life is beautiful</td>\n",
       "      <td>NO_REL</td>\n",
       "    </tr>\n",
       "    <tr>\n",
       "      <th>739</th>\n",
       "      <td>please show me info on the movie life is beaut...</td>\n",
       "      <td>NO_REL</td>\n",
       "    </tr>\n",
       "    <tr>\n",
       "      <th>740</th>\n",
       "      <td>search for the movie life is beautiful</td>\n",
       "      <td>NO_REL</td>\n",
       "    </tr>\n",
       "    <tr>\n",
       "      <th>742</th>\n",
       "      <td>can i see more info the movie life is beautiful</td>\n",
       "      <td>NO_REL</td>\n",
       "    </tr>\n",
       "    <tr>\n",
       "      <th>743</th>\n",
       "      <td>can you show me info on the movie life is beau...</td>\n",
       "      <td>NO_REL</td>\n",
       "    </tr>\n",
       "    <tr>\n",
       "      <th>744</th>\n",
       "      <td>display information for the movie life is beau...</td>\n",
       "      <td>NO_REL</td>\n",
       "    </tr>\n",
       "    <tr>\n",
       "      <th>773</th>\n",
       "      <td>i am looking for the information on the movie ...</td>\n",
       "      <td>NO_REL</td>\n",
       "    </tr>\n",
       "    <tr>\n",
       "      <th>782</th>\n",
       "      <td>what are the plots of hotel rwanda</td>\n",
       "      <td>NO_REL</td>\n",
       "    </tr>\n",
       "    <tr>\n",
       "      <th>784</th>\n",
       "      <td>bings movie page finding nemo</td>\n",
       "      <td>NO_REL</td>\n",
       "    </tr>\n",
       "    <tr>\n",
       "      <th>785</th>\n",
       "      <td>display information for film finding nemo</td>\n",
       "      <td>NO_REL</td>\n",
       "    </tr>\n",
       "    <tr>\n",
       "      <th>786</th>\n",
       "      <td>finding nemo movie shortcut</td>\n",
       "      <td>NO_REL</td>\n",
       "    </tr>\n",
       "    <tr>\n",
       "      <th>787</th>\n",
       "      <td>whats some details for the movie finding nemo</td>\n",
       "      <td>NO_REL</td>\n",
       "    </tr>\n",
       "    <tr>\n",
       "      <th>790</th>\n",
       "      <td>finding nemo movie page</td>\n",
       "      <td>NO_REL</td>\n",
       "    </tr>\n",
       "    <tr>\n",
       "      <th>791</th>\n",
       "      <td>find movie finding nemo</td>\n",
       "      <td>NO_REL</td>\n",
       "    </tr>\n",
       "    <tr>\n",
       "      <th>792</th>\n",
       "      <td>display all details of original finding nemo m...</td>\n",
       "      <td>NO_REL</td>\n",
       "    </tr>\n",
       "    <tr>\n",
       "      <th>793</th>\n",
       "      <td>find all details of original finding nemo movie</td>\n",
       "      <td>NO_REL</td>\n",
       "    </tr>\n",
       "    <tr>\n",
       "      <th>812</th>\n",
       "      <td>find ms. congeniality</td>\n",
       "      <td>NO_REL</td>\n",
       "    </tr>\n",
       "    <tr>\n",
       "      <th>818</th>\n",
       "      <td>find films</td>\n",
       "      <td>NO_REL</td>\n",
       "    </tr>\n",
       "    <tr>\n",
       "      <th>819</th>\n",
       "      <td>find movies</td>\n",
       "      <td>NO_REL</td>\n",
       "    </tr>\n",
       "    <tr>\n",
       "      <th>820</th>\n",
       "      <td>in search for movies</td>\n",
       "      <td>NO_REL</td>\n",
       "    </tr>\n",
       "    <tr>\n",
       "      <th>821</th>\n",
       "      <td>looking for movies</td>\n",
       "      <td>NO_REL</td>\n",
       "    </tr>\n",
       "    <tr>\n",
       "      <th>949</th>\n",
       "      <td>information about movie</td>\n",
       "      <td>NO_REL</td>\n",
       "    </tr>\n",
       "    <tr>\n",
       "      <th>950</th>\n",
       "      <td>show me information about movie</td>\n",
       "      <td>NO_REL</td>\n",
       "    </tr>\n",
       "    <tr>\n",
       "      <th>952</th>\n",
       "      <td>tell me about movie</td>\n",
       "      <td>NO_REL</td>\n",
       "    </tr>\n",
       "    <tr>\n",
       "      <th>1024</th>\n",
       "      <td>dirty dancing movie</td>\n",
       "      <td>NO_REL</td>\n",
       "    </tr>\n",
       "    <tr>\n",
       "      <th>1025</th>\n",
       "      <td>dirty dancing movie short cuts</td>\n",
       "      <td>NO_REL</td>\n",
       "    </tr>\n",
       "    <tr>\n",
       "      <th>1027</th>\n",
       "      <td>will you please show me info on the movie dirt...</td>\n",
       "      <td>NO_REL</td>\n",
       "    </tr>\n",
       "    <tr>\n",
       "      <th>1028</th>\n",
       "      <td>find the movie dirty dancing</td>\n",
       "      <td>NO_REL</td>\n",
       "    </tr>\n",
       "    <tr>\n",
       "      <th>...</th>\n",
       "      <td>...</td>\n",
       "      <td>...</td>\n",
       "    </tr>\n",
       "    <tr>\n",
       "      <th>3085</th>\n",
       "      <td>funnie</td>\n",
       "      <td>other</td>\n",
       "    </tr>\n",
       "    <tr>\n",
       "      <th>3086</th>\n",
       "      <td>genuine</td>\n",
       "      <td>other</td>\n",
       "    </tr>\n",
       "    <tr>\n",
       "      <th>3089</th>\n",
       "      <td>list page</td>\n",
       "      <td>other</td>\n",
       "    </tr>\n",
       "    <tr>\n",
       "      <th>3090</th>\n",
       "      <td>noisy</td>\n",
       "      <td>other</td>\n",
       "    </tr>\n",
       "    <tr>\n",
       "      <th>3091</th>\n",
       "      <td>search databases</td>\n",
       "      <td>other</td>\n",
       "    </tr>\n",
       "    <tr>\n",
       "      <th>3092</th>\n",
       "      <td>search popularity</td>\n",
       "      <td>other</td>\n",
       "    </tr>\n",
       "    <tr>\n",
       "      <th>3093</th>\n",
       "      <td>search selected info</td>\n",
       "      <td>other</td>\n",
       "    </tr>\n",
       "    <tr>\n",
       "      <th>3094</th>\n",
       "      <td>september twenty eight</td>\n",
       "      <td>other</td>\n",
       "    </tr>\n",
       "    <tr>\n",
       "      <th>3095</th>\n",
       "      <td>dirty dan</td>\n",
       "      <td>other</td>\n",
       "    </tr>\n",
       "    <tr>\n",
       "      <th>3098</th>\n",
       "      <td>adventeurous</td>\n",
       "      <td>other</td>\n",
       "    </tr>\n",
       "    <tr>\n",
       "      <th>3099</th>\n",
       "      <td>find selected info</td>\n",
       "      <td>other</td>\n",
       "    </tr>\n",
       "    <tr>\n",
       "      <th>3100</th>\n",
       "      <td>has he written anything new</td>\n",
       "      <td>other</td>\n",
       "    </tr>\n",
       "    <tr>\n",
       "      <th>3101</th>\n",
       "      <td>love</td>\n",
       "      <td>other</td>\n",
       "    </tr>\n",
       "    <tr>\n",
       "      <th>3102</th>\n",
       "      <td>wilford</td>\n",
       "      <td>other</td>\n",
       "    </tr>\n",
       "    <tr>\n",
       "      <th>3103</th>\n",
       "      <td>william</td>\n",
       "      <td>other</td>\n",
       "    </tr>\n",
       "    <tr>\n",
       "      <th>3104</th>\n",
       "      <td>pull up photos of sexy women</td>\n",
       "      <td>other</td>\n",
       "    </tr>\n",
       "    <tr>\n",
       "      <th>3105</th>\n",
       "      <td>show me pictures of beautiful men</td>\n",
       "      <td>other</td>\n",
       "    </tr>\n",
       "    <tr>\n",
       "      <th>3106</th>\n",
       "      <td>show me pictures of beautiful women</td>\n",
       "      <td>other</td>\n",
       "    </tr>\n",
       "    <tr>\n",
       "      <th>3108</th>\n",
       "      <td>what does person look like</td>\n",
       "      <td>other</td>\n",
       "    </tr>\n",
       "    <tr>\n",
       "      <th>3109</th>\n",
       "      <td>on julie</td>\n",
       "      <td>other</td>\n",
       "    </tr>\n",
       "    <tr>\n",
       "      <th>3110</th>\n",
       "      <td>on july</td>\n",
       "      <td>other</td>\n",
       "    </tr>\n",
       "    <tr>\n",
       "      <th>3111</th>\n",
       "      <td>send dredd movie</td>\n",
       "      <td>other</td>\n",
       "    </tr>\n",
       "    <tr>\n",
       "      <th>3113</th>\n",
       "      <td>would you make a sequel</td>\n",
       "      <td>other</td>\n",
       "    </tr>\n",
       "    <tr>\n",
       "      <th>3114</th>\n",
       "      <td>show me the highlighted topics</td>\n",
       "      <td>other</td>\n",
       "    </tr>\n",
       "    <tr>\n",
       "      <th>3116</th>\n",
       "      <td>are the animated charactors protrayed as small...</td>\n",
       "      <td>other</td>\n",
       "    </tr>\n",
       "    <tr>\n",
       "      <th>3117</th>\n",
       "      <td>what was the country where nobody knows takes ...</td>\n",
       "      <td>other</td>\n",
       "    </tr>\n",
       "    <tr>\n",
       "      <th>3119</th>\n",
       "      <td>show me famous people</td>\n",
       "      <td>other</td>\n",
       "    </tr>\n",
       "    <tr>\n",
       "      <th>3122</th>\n",
       "      <td>tyler p new projects</td>\n",
       "      <td>other</td>\n",
       "    </tr>\n",
       "    <tr>\n",
       "      <th>3124</th>\n",
       "      <td>how many shaft movies are there</td>\n",
       "      <td>NO_REL</td>\n",
       "    </tr>\n",
       "    <tr>\n",
       "      <th>3166</th>\n",
       "      <td>who are these directors</td>\n",
       "      <td>NO_REL</td>\n",
       "    </tr>\n",
       "  </tbody>\n",
       "</table>\n",
       "<p>365 rows × 2 columns</p>\n",
       "</div>"
      ],
      "text/plain": [
       "                                                   text raw_label\n",
       "ID                                                               \n",
       "735      i need movie information for life is beautiful    NO_REL\n",
       "737   i want to know more about the movie life is be...    NO_REL\n",
       "738    i would like info on the movie life is beautiful    NO_REL\n",
       "739   please show me info on the movie life is beaut...    NO_REL\n",
       "740              search for the movie life is beautiful    NO_REL\n",
       "742     can i see more info the movie life is beautiful    NO_REL\n",
       "743   can you show me info on the movie life is beau...    NO_REL\n",
       "744   display information for the movie life is beau...    NO_REL\n",
       "773   i am looking for the information on the movie ...    NO_REL\n",
       "782                  what are the plots of hotel rwanda    NO_REL\n",
       "784                       bings movie page finding nemo    NO_REL\n",
       "785           display information for film finding nemo    NO_REL\n",
       "786                         finding nemo movie shortcut    NO_REL\n",
       "787       whats some details for the movie finding nemo    NO_REL\n",
       "790                             finding nemo movie page    NO_REL\n",
       "791                             find movie finding nemo    NO_REL\n",
       "792   display all details of original finding nemo m...    NO_REL\n",
       "793     find all details of original finding nemo movie    NO_REL\n",
       "812                               find ms. congeniality    NO_REL\n",
       "818                                          find films    NO_REL\n",
       "819                                         find movies    NO_REL\n",
       "820                                in search for movies    NO_REL\n",
       "821                                  looking for movies    NO_REL\n",
       "949                             information about movie    NO_REL\n",
       "950                     show me information about movie    NO_REL\n",
       "952                                 tell me about movie    NO_REL\n",
       "1024                                dirty dancing movie    NO_REL\n",
       "1025                     dirty dancing movie short cuts    NO_REL\n",
       "1027  will you please show me info on the movie dirt...    NO_REL\n",
       "1028                       find the movie dirty dancing    NO_REL\n",
       "...                                                 ...       ...\n",
       "3085                                             funnie     other\n",
       "3086                                            genuine     other\n",
       "3089                                          list page     other\n",
       "3090                                              noisy     other\n",
       "3091                                   search databases     other\n",
       "3092                                  search popularity     other\n",
       "3093                               search selected info     other\n",
       "3094                             september twenty eight     other\n",
       "3095                                          dirty dan     other\n",
       "3098                                       adventeurous     other\n",
       "3099                                 find selected info     other\n",
       "3100                        has he written anything new     other\n",
       "3101                                               love     other\n",
       "3102                                            wilford     other\n",
       "3103                                            william     other\n",
       "3104                       pull up photos of sexy women     other\n",
       "3105                  show me pictures of beautiful men     other\n",
       "3106                show me pictures of beautiful women     other\n",
       "3108                         what does person look like     other\n",
       "3109                                           on julie     other\n",
       "3110                                            on july     other\n",
       "3111                                   send dredd movie     other\n",
       "3113                            would you make a sequel     other\n",
       "3114                     show me the highlighted topics     other\n",
       "3116  are the animated charactors protrayed as small...     other\n",
       "3117  what was the country where nobody knows takes ...     other\n",
       "3119                              show me famous people     other\n",
       "3122                               tyler p new projects     other\n",
       "3124                    how many shaft movies are there    NO_REL\n",
       "3166                            who are these directors    NO_REL\n",
       "\n",
       "[365 rows x 2 columns]"
      ]
     },
     "execution_count": 351,
     "metadata": {},
     "output_type": "execute_result"
    }
   ],
   "source": [
    "df_train[df_train.raw_label.isin([\"NO_REL\", \"other\"])]"
   ]
  },
  {
   "cell_type": "code",
   "execution_count": 265,
   "metadata": {},
   "outputs": [
    {
     "data": {
      "text/plain": [
       "(315,)"
      ]
     },
     "execution_count": 265,
     "metadata": {},
     "output_type": "execute_result"
    }
   ],
   "source": [
    "df_val.index.value_counts().shape"
   ]
  },
  {
   "cell_type": "code",
   "execution_count": 266,
   "metadata": {},
   "outputs": [
    {
     "data": {
      "text/plain": [
       "(2702,)"
      ]
     },
     "execution_count": 266,
     "metadata": {},
     "output_type": "execute_result"
    }
   ],
   "source": [
    "df_train.index.value_counts().shape"
   ]
  },
  {
   "cell_type": "code",
   "execution_count": 268,
   "metadata": {},
   "outputs": [
    {
     "data": {
      "text/plain": [
       "(3338,)"
      ]
     },
     "execution_count": 268,
     "metadata": {},
     "output_type": "execute_result"
    }
   ],
   "source": [
    "df_all_train.index.value_counts().shape"
   ]
  },
  {
   "cell_type": "code",
   "execution_count": 269,
   "metadata": {},
   "outputs": [
    {
     "data": {
      "text/plain": [
       "3338"
      ]
     },
     "execution_count": 269,
     "metadata": {},
     "output_type": "execute_result"
    }
   ],
   "source": [
    "321 + 315 + 2702"
   ]
  },
  {
   "cell_type": "code",
   "execution_count": 271,
   "metadata": {},
   "outputs": [
    {
     "data": {
      "text/plain": [
       "(333, 2)"
      ]
     },
     "execution_count": 271,
     "metadata": {},
     "output_type": "execute_result"
    }
   ],
   "source": [
    "df_val.shape"
   ]
  },
  {
   "cell_type": "code",
   "execution_count": null,
   "metadata": {
    "collapsed": true
   },
   "outputs": [],
   "source": []
  }
 ],
 "metadata": {
  "kernelspec": {
   "display_name": "Python 3",
   "language": "python",
   "name": "python3"
  },
  "language_info": {
   "codemirror_mode": {
    "name": "ipython",
    "version": 3
   },
   "file_extension": ".py",
   "mimetype": "text/x-python",
   "name": "python",
   "nbconvert_exporter": "python",
   "pygments_lexer": "ipython3",
   "version": "3.6.2"
  }
 },
 "nbformat": 4,
 "nbformat_minor": 2
}
